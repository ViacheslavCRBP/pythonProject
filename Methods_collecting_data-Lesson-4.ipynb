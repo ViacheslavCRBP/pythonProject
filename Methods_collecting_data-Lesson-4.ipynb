{
 "cells": [
  {
   "cell_type": "markdown",
   "id": "9bcb6d97",
   "metadata": {},
   "source": [
    "## Урок 4. Система управления базами данных MongoDB в Python"
   ]
  },
  {
   "cell_type": "markdown",
   "id": "b6fc5a07",
   "metadata": {},
   "source": [
    "**1. Развернуть у себя на компьютере/виртуальной машине/хостинге MongoDB и реализовать функцию, которая будет добавлять только новые вакансии/продукты в вашу базу.** \n",
    "\n",
    "**2. Написать функцию, которая производит поиск и выводит на экран вакансии с заработной платой больше введённой суммы (необходимо анализировать оба поля зарплаты).**\n"
   ]
  },
  {
   "cell_type": "code",
   "execution_count": 342,
   "id": "e0818a62",
   "metadata": {},
   "outputs": [],
   "source": [
    "from pprint import pprint\n",
    "from bs4 import BeautifulSoup\n",
    "import requests\n",
    "import hashlib\n",
    "import re\n",
    "from lxml import html\n",
    "from pymongo import MongoClient\n",
    "from pymongo.errors import DuplicateKeyError\n",
    "from urllib.parse import urlencode, urljoin"
   ]
  },
  {
   "cell_type": "code",
   "execution_count": 343,
   "id": "eb07c025",
   "metadata": {},
   "outputs": [
    {
     "name": "stdout",
     "output_type": "stream",
     "text": [
      "Defaulting to user installation because normal site-packages is not writeable\n",
      "Requirement already satisfied: pymongo in c:\\users\\вячеслав\\appdata\\roaming\\python\\python39\\site-packages (4.3.3)\n",
      "Requirement already satisfied: dnspython<3.0.0,>=1.16.0 in c:\\users\\вячеслав\\appdata\\roaming\\python\\python39\\site-packages (from pymongo) (2.3.0)\n"
     ]
    }
   ],
   "source": [
    "!pip install pymongo"
   ]
  },
  {
   "cell_type": "code",
   "execution_count": 344,
   "id": "88e4d670",
   "metadata": {},
   "outputs": [],
   "source": [
    "client = MongoClient('localhost', 27017)"
   ]
  },
  {
   "cell_type": "code",
   "execution_count": 345,
   "id": "5153192a",
   "metadata": {},
   "outputs": [],
   "source": [
    "USER_AGENT = 'Mozilla/5.0 (Windows NT 10.0; Win64; x64) AppleWebKit/537.36 (KHTML, like Gecko) Chrome/104.0.0.0 Safari/537.36'"
   ]
  },
  {
   "cell_type": "code",
   "execution_count": 346,
   "id": "10aed8a0",
   "metadata": {},
   "outputs": [],
   "source": [
    "headers = {\n",
    "    'User-Agent': USER_AGENT,\n",
    "}"
   ]
  },
  {
   "cell_type": "code",
   "execution_count": 347,
   "id": "efff850c",
   "metadata": {},
   "outputs": [],
   "source": [
    "db_mongo = client['vacancy']\n",
    "# для полного стирания базы данных\n",
    "db_mongo.drop_collection('vacancy') \n",
    "vacancy = db_mongo.vacancy"
   ]
  },
  {
   "cell_type": "code",
   "execution_count": 348,
   "id": "56d78ab2",
   "metadata": {},
   "outputs": [],
   "source": [
    "# Функция для заполнения базы данных\n",
    "def insert_db(dict_vacancys):\n",
    "    for vacancy_dict in dict_vacancys.values():\n",
    "        try:\n",
    "            vacancy.insert_one({\n",
    "                '_id': (hashlib.sha256(vacancy_dict[\"Ссылка на вакансию\"].encode())).hexdigest(),\n",
    "                '_vacancy': vacancy_dict,\n",
    "            })\n",
    "        except DuplicateKeyError:\n",
    "            print('Уже имеется такой элемент')\n",
    "            continue"
   ]
  },
  {
   "cell_type": "code",
   "execution_count": 349,
   "id": "5b0c45ca",
   "metadata": {},
   "outputs": [],
   "source": [
    "db = client.dict_vacancys"
   ]
  },
  {
   "cell_type": "code",
   "execution_count": 350,
   "id": "bf92a531",
   "metadata": {},
   "outputs": [],
   "source": [
    "# result = parse_hh(url, headers)"
   ]
  },
  {
   "cell_type": "code",
   "execution_count": 351,
   "id": "0f92862e",
   "metadata": {},
   "outputs": [],
   "source": [
    "def cheak_and_save_vacancies_in_db(vacancies):\n",
    "  for vacancy in vacancies:\n",
    "    if not len(list(collection_vacancies_hh_ru.find({'vacancy_link': vacancy['vacancy_link']}))):\n",
    "      collection_vacancies_hh_ru.insert_one(vacancy)"
   ]
  },
  {
   "cell_type": "code",
   "execution_count": 352,
   "id": "9107b2f0",
   "metadata": {},
   "outputs": [],
   "source": [
    "cheak_and_save_vacancies_in_db(result)"
   ]
  },
  {
   "cell_type": "code",
   "execution_count": 353,
   "id": "a291a31c",
   "metadata": {},
   "outputs": [],
   "source": [
    "result_find = list(collection_vacancies_hh_ru.find())"
   ]
  },
  {
   "cell_type": "code",
   "execution_count": 354,
   "id": "bcddc0b2",
   "metadata": {},
   "outputs": [
    {
     "data": {
      "text/plain": [
       "829"
      ]
     },
     "execution_count": 354,
     "metadata": {},
     "output_type": "execute_result"
    }
   ],
   "source": [
    "len(result_find)"
   ]
  },
  {
   "cell_type": "code",
   "execution_count": 355,
   "id": "ba6cd1bb",
   "metadata": {},
   "outputs": [
    {
     "name": "stdout",
     "output_type": "stream",
     "text": [
      "[]\n"
     ]
    }
   ],
   "source": [
    "def search_sallary_db(check_salary):\n",
    "    salary_w_condition = list(\n",
    "        vacancy.find(\n",
    "            {'$or': [{\"_vacancy.Предлагаемая зарплата.max\": {'$gte': check_salary}},\n",
    "                     {\"_vacancy.Предлагаемая зарплата.min\": {'$gte': check_salary}}]}\n",
    "        ))\n",
    "    return salary_w_condition\n",
    "\n",
    "\n",
    "if __name__ == \"__main__\":\n",
    "    search_vacancy = 'Python разработчик'\n",
    "    base_url = 'https://hh.ru/search/vacancy'\n",
    "    params = {\n",
    "        'clusters': 'true',\n",
    "        'area': 1,\n",
    "        'ored_clusters': 'true',\n",
    "        'enable_snippets': 'true',\n",
    "        'salary': '',\n",
    "        'text': search_vacancy,\n",
    "        'page': '',\n",
    "        'hhtmFrom': 'vacancy_search_list',\n",
    "    }\n",
    "    \n",
    "    query = \"?\" + urlencode(params)\n",
    "    url = urljoin(base_url, query)\n",
    "    dict_vacancys = {}\n",
    "    index_page = 1\n",
    "    index_vacancy = 1\n",
    "    query = \"?\" + urlencode(params)\n",
    "    url = urljoin(base_url, query)\n",
    "    while True:\n",
    "        dict_vacancy = {\n",
    "            'Наименование вакансии': None,\n",
    "            'Предлагаемая зарплата': None,\n",
    "            'Ссылка на вакансию': None,\n",
    "            'Работодатель': None,\n",
    "            'Расположение': None,\n",
    "            'Сайт, откуда собрана вакансия': base_url,\n",
    "            }\n",
    "\n",
    "        response = requests.get(url, headers=headers)\n",
    "        if response.ok:\n",
    "            dom = BeautifulSoup(response.text, 'html.parser')\n",
    "            quotes = dom.find_all('div', {'class': 'vacancy-serp-item'})\n",
    "            for quote in quotes:\n",
    "                quote_title = quote.find('a').getText()\n",
    "                if quote.find('span', attrs={'data-qa': 'vacancy-serp__vacancy-compensation'}) is None:\n",
    "                    quote_salary = 'None'\n",
    "                else:\n",
    "                    quote_salary = quote.find('span', attrs={'data-qa': 'vacancy-serp__vacancy-compensation'}).text\n",
    "                pattern_salary = r'(\\d+\\s\\d+)'\n",
    "                matches_salary = re.findall(pattern_salary, quote_salary.replace(' ', ''))\n",
    "                matches_currency = 'руб' if 'руб' in quote_salary else 'USD' if 'USD' in quote_salary else 'None'\n",
    "                dict_salary = {\n",
    "                    'min': None,\n",
    "                    'max': None,\n",
    "                    'валюта': matches_currency,\n",
    "                }\n",
    "\n",
    "                if len(matches_salary):\n",
    "                    if len(matches_salary) > 1:\n",
    "                        dict_salary['min'] = int(matches_salary[0].replace('\\u202f', ''))\n",
    "                        dict_salary['max'] = int(matches_salary[1].replace('\\u202f', ''))\n",
    "                    else:\n",
    "                        if 'от' in quote_salary:\n",
    "                            dict_salary['min'] = int(matches_salary[0].replace('\\u202f', ''))\n",
    "                        else:\n",
    "                            dict_salary['max'] = int(matches_salary[0].replace('\\u202f', ''))\n",
    "\n",
    "                quote_href = quote.find('a').get('href')\n",
    "                quote_company = quote.find('div', attrs={'class': 'vacancy-serp-item__meta-info-company'}).text\n",
    "                quote_area = quote.find('div', attrs={'data-qa': 'vacancy-serp__vacancy-address'}).text\n",
    "\n",
    "                dict_vacancy['Наименование вакансии'] = quote_title\n",
    "                dict_vacancy['Предлагаемая зарплата'] = dict_salary\n",
    "                dict_vacancy['Ссылка на вакансию'] = quote_href\n",
    "                dict_vacancy['Работодатель'] = quote_company\n",
    "                dict_vacancy['Расположение'] = quote_area\n",
    "                dict_vacancys[index_vacancy] = dict_vacancy.copy()\n",
    "                index_vacancy += 1\n",
    "\n",
    "        if dom.find('a', attrs={'data-qa': 'pager-next'}):\n",
    "            params['page'] = str(index_page)\n",
    "            query = \"?\" + urlencode(params)\n",
    "            url = urljoin(base_url, query)\n",
    "            index_page += 1\n",
    "        else:\n",
    "            break\n",
    "        \n",
    "    insert_db(dict_vacancys)  # добавляем словарь в базу данных\n",
    "    pprint(search_sallary_db(10000)) # ищем по критериям - зарплаты больше ввеженной суммы\n"
   ]
  },
  {
   "cell_type": "code",
   "execution_count": null,
   "id": "43890cf1",
   "metadata": {},
   "outputs": [],
   "source": []
  }
 ],
 "metadata": {
  "kernelspec": {
   "display_name": "Python 3 (ipykernel)",
   "language": "python",
   "name": "python3"
  },
  "language_info": {
   "codemirror_mode": {
    "name": "ipython",
    "version": 3
   },
   "file_extension": ".py",
   "mimetype": "text/x-python",
   "name": "python",
   "nbconvert_exporter": "python",
   "pygments_lexer": "ipython3",
   "version": "3.9.12"
  }
 },
 "nbformat": 4,
 "nbformat_minor": 5
}
