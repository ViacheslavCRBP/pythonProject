{
  "cells": [
    {
      "cell_type": "markdown",
      "metadata": {
        "id": "view-in-github",
        "colab_type": "text"
      },
      "source": [
        "<a href=\"https://colab.research.google.com/github/ViacheslavCRBP/pythonProject/blob/Rec_sistem_course/HW_PyTorch_07_Viacheslav_S.ipynb\" target=\"_parent\"><img src=\"https://colab.research.google.com/assets/colab-badge.svg\" alt=\"Open In Colab\"/></a>"
      ]
    },
    {
      "cell_type": "markdown",
      "id": "e964b16c",
      "metadata": {
        "papermill": {
          "duration": 0.013075,
          "end_time": "2023-07-12T18:21:59.381404",
          "exception": false,
          "start_time": "2023-07-12T18:21:59.368329",
          "status": "completed"
        },
        "tags": [],
        "id": "e964b16c"
      },
      "source": [
        "## Домашнее задание к уроку 7"
      ]
    },
    {
      "cell_type": "markdown",
      "id": "605cd9a5",
      "metadata": {
        "papermill": {
          "duration": 0.012866,
          "end_time": "2023-07-12T18:21:59.405569",
          "exception": false,
          "start_time": "2023-07-12T18:21:59.392703",
          "status": "completed"
        },
        "tags": [],
        "id": "605cd9a5"
      },
      "source": [
        "1. Попробуйте обучить нейронную сеть GRU/LSTM для предсказания сентимента сообщений с твитера на примере https://www.kaggle.com/datasets/arkhoshghalb/twitter-sentiment-analysis-hatred-speech\n",
        "\n",
        "2. Опишите, какой результат вы получили? Что помогло вам улучшить ее точность?\n",
        "\n",
        "У кого нет возможности работать через каггл (нет верификации), то можете данные взять по ссылке: https://disk.yandex.ru/d/LV1cYS1orMyRWA"
      ]
    },
    {
      "cell_type": "code",
      "execution_count": 1,
      "id": "bb91b239",
      "metadata": {
        "_cell_guid": "b1076dfc-b9ad-4769-8c92-a6c4dae69d19",
        "_uuid": "8f2839f25d086af736a60e9eeb907d3b93b6e0e5",
        "execution": {
          "iopub.execute_input": "2023-07-12T18:21:59.435081Z",
          "iopub.status.busy": "2023-07-12T18:21:59.434417Z",
          "iopub.status.idle": "2023-07-12T18:21:59.455347Z",
          "shell.execute_reply": "2023-07-12T18:21:59.454191Z"
        },
        "papermill": {
          "duration": 0.037635,
          "end_time": "2023-07-12T18:21:59.457552",
          "exception": false,
          "start_time": "2023-07-12T18:21:59.419917",
          "status": "completed"
        },
        "tags": [],
        "id": "bb91b239"
      },
      "outputs": [],
      "source": [
        "import numpy as np\n",
        "import pandas as pd\n",
        "import matplotlib\n",
        "import matplotlib.pyplot as plt\n",
        "import seaborn as sns\n",
        "%matplotlib inline\n",
        "from sklearn.model_selection import train_test_split"
      ]
    },
    {
      "cell_type": "code",
      "execution_count": 2,
      "id": "40eec57c",
      "metadata": {
        "execution": {
          "iopub.execute_input": "2023-07-12T18:22:01.821483Z",
          "iopub.status.busy": "2023-07-12T18:22:01.818541Z",
          "iopub.status.idle": "2023-07-12T18:22:01.826845Z",
          "shell.execute_reply": "2023-07-12T18:22:01.825761Z"
        },
        "papermill": {
          "duration": 0.025602,
          "end_time": "2023-07-12T18:22:01.829977",
          "exception": false,
          "start_time": "2023-07-12T18:22:01.804375",
          "status": "completed"
        },
        "tags": [],
        "id": "40eec57c"
      },
      "outputs": [],
      "source": [
        "max_words = 2500\n",
        "max_len = 25\n",
        "num_classes = 1\n",
        "epochs = 5\n",
        "batch_size = 512\n",
        "print_batch_n = 100"
      ]
    },
    {
      "cell_type": "code",
      "source": [
        "!pip install gdown\n",
        "\n",
        "import gdown\n",
        "\n",
        "def get_file_id(url):\n",
        "    \"\"\"\n",
        "    Функция получает идентификатор файла на Google Диске из ссылки на файл.\n",
        "\n",
        "    url: str, ссылка на файл на Google Диске\n",
        "\n",
        "    returns: str, идентификатор файла на Google Диске\n",
        "    \"\"\"\n",
        "    file_id = None\n",
        "    try:\n",
        "        # Извлекаем идентификатор файла из URL-адреса\n",
        "        if 'drive.google.com' in url:\n",
        "            file_id = url.split('/')[-2]\n",
        "        elif 'docs.google.com' in url:\n",
        "            file_id = url.split('/')[-1]\n",
        "        else:\n",
        "            raise ValueError('Некорректная ссылка на Google Диск.')\n",
        "\n",
        "        # Удаляем лишние параметры из идентификатора файла\n",
        "        if '?' in file_id:\n",
        "            file_id = file_id.split('?')[0]\n",
        "        if '&' in file_id:\n",
        "            file_id = file_id.split('&')[0]\n",
        "\n",
        "    except ValueError as e:\n",
        "        print(f'Ошибка: {e}')\n",
        "\n",
        "    return file_id\n",
        "\n",
        "url = 'https://drive.google.com/file/d/1-A1_hc3mkm_bEOYxfTpYFxlvRlX6Ymf9/view?usp=share_link'\n",
        "output_file = 'data.zip'\n",
        "file_id = get_file_id(url)\n",
        "gdown_url = f'https://drive.google.com/uc?export=download&id={file_id}'\n",
        "\n",
        "if file_id:\n",
        "    gdown.download(gdown_url, output_file, quiet=False)\n",
        "else:\n",
        "    print('Ошибка: некорректная ссылка на Google Диск.')\n"
      ],
      "metadata": {
        "colab": {
          "base_uri": "https://localhost:8080/"
        },
        "id": "bozF0ZOCP8Ht",
        "outputId": "1d586074-67e8-4b36-de4f-3993c96625be"
      },
      "id": "bozF0ZOCP8Ht",
      "execution_count": 3,
      "outputs": [
        {
          "output_type": "stream",
          "name": "stdout",
          "text": [
            "Requirement already satisfied: gdown in /usr/local/lib/python3.10/dist-packages (4.6.6)\n",
            "Requirement already satisfied: filelock in /usr/local/lib/python3.10/dist-packages (from gdown) (3.13.1)\n",
            "Requirement already satisfied: requests[socks] in /usr/local/lib/python3.10/dist-packages (from gdown) (2.31.0)\n",
            "Requirement already satisfied: six in /usr/local/lib/python3.10/dist-packages (from gdown) (1.16.0)\n",
            "Requirement already satisfied: tqdm in /usr/local/lib/python3.10/dist-packages (from gdown) (4.66.1)\n",
            "Requirement already satisfied: beautifulsoup4 in /usr/local/lib/python3.10/dist-packages (from gdown) (4.11.2)\n",
            "Requirement already satisfied: soupsieve>1.2 in /usr/local/lib/python3.10/dist-packages (from beautifulsoup4->gdown) (2.5)\n",
            "Requirement already satisfied: charset-normalizer<4,>=2 in /usr/local/lib/python3.10/dist-packages (from requests[socks]->gdown) (3.3.2)\n",
            "Requirement already satisfied: idna<4,>=2.5 in /usr/local/lib/python3.10/dist-packages (from requests[socks]->gdown) (3.4)\n",
            "Requirement already satisfied: urllib3<3,>=1.21.1 in /usr/local/lib/python3.10/dist-packages (from requests[socks]->gdown) (2.0.7)\n",
            "Requirement already satisfied: certifi>=2017.4.17 in /usr/local/lib/python3.10/dist-packages (from requests[socks]->gdown) (2023.7.22)\n",
            "Requirement already satisfied: PySocks!=1.5.7,>=1.5.6 in /usr/local/lib/python3.10/dist-packages (from requests[socks]->gdown) (1.7.1)\n"
          ]
        },
        {
          "output_type": "stream",
          "name": "stderr",
          "text": [
            "Downloading...\n",
            "From: https://drive.google.com/uc?export=download&id=1-A1_hc3mkm_bEOYxfTpYFxlvRlX6Ymf9\n",
            "To: /content/data.zip\n",
            "100%|██████████| 1.96M/1.96M [00:00<00:00, 81.9MB/s]\n"
          ]
        }
      ]
    },
    {
      "cell_type": "code",
      "source": [
        "!unzip -u data.zip"
      ],
      "metadata": {
        "colab": {
          "base_uri": "https://localhost:8080/"
        },
        "id": "KGHXV4b0QSRN",
        "outputId": "e3192090-5cb2-4e51-cae9-6fc2bd8443b0"
      },
      "id": "KGHXV4b0QSRN",
      "execution_count": 4,
      "outputs": [
        {
          "output_type": "stream",
          "name": "stdout",
          "text": [
            "Archive:  data.zip\n",
            "  inflating: test.csv                \n",
            "  inflating: __MACOSX/._test.csv     \n",
            "  inflating: train.csv               \n",
            "  inflating: __MACOSX/._train.csv    \n"
          ]
        }
      ]
    },
    {
      "cell_type": "code",
      "execution_count": 5,
      "id": "dededfa8",
      "metadata": {
        "execution": {
          "iopub.execute_input": "2023-07-12T18:22:01.857358Z",
          "iopub.status.busy": "2023-07-12T18:22:01.856616Z",
          "iopub.status.idle": "2023-07-12T18:22:02.017484Z",
          "shell.execute_reply": "2023-07-12T18:22:02.015796Z"
        },
        "papermill": {
          "duration": 0.178016,
          "end_time": "2023-07-12T18:22:02.020378",
          "exception": false,
          "start_time": "2023-07-12T18:22:01.842362",
          "status": "completed"
        },
        "tags": [],
        "id": "dededfa8"
      },
      "outputs": [],
      "source": [
        "df = pd.read_csv(\"train.csv\")\n",
        "target_name = 'label'"
      ]
    },
    {
      "cell_type": "markdown",
      "id": "9782e9e1",
      "metadata": {
        "papermill": {
          "duration": 0.011363,
          "end_time": "2023-07-12T18:22:02.097083",
          "exception": false,
          "start_time": "2023-07-12T18:22:02.085720",
          "status": "completed"
        },
        "tags": [],
        "id": "9782e9e1"
      },
      "source": [
        "\"label '1' denotes the tweet is racist/sexist and label '0' denotes the tweet is not racist/sexist\""
      ]
    },
    {
      "cell_type": "code",
      "execution_count": 6,
      "id": "b585e4d3",
      "metadata": {
        "execution": {
          "iopub.execute_input": "2023-07-12T18:22:02.121805Z",
          "iopub.status.busy": "2023-07-12T18:22:02.121162Z",
          "iopub.status.idle": "2023-07-12T18:22:02.139217Z",
          "shell.execute_reply": "2023-07-12T18:22:02.138292Z"
        },
        "papermill": {
          "duration": 0.033036,
          "end_time": "2023-07-12T18:22:02.141354",
          "exception": false,
          "start_time": "2023-07-12T18:22:02.108318",
          "status": "completed"
        },
        "tags": [],
        "id": "b585e4d3"
      },
      "outputs": [],
      "source": [
        "def balance_df_by_target(df, target_name):\n",
        "\n",
        "    target_counts = df[target_name].value_counts()\n",
        "\n",
        "    major_class_name = target_counts.argmax()\n",
        "    minor_class_name = target_counts.argmin()\n",
        "\n",
        "    disbalance_coeff = int(target_counts[major_class_name] / target_counts[minor_class_name]) - 1\n",
        "\n",
        "    for i in range(disbalance_coeff):\n",
        "        sample = df[df[target_name] == minor_class_name].sample(target_counts[minor_class_name])\n",
        "        df = pd.concat([df, sample])\n",
        "\n",
        "    return df.sample(frac=1)"
      ]
    },
    {
      "cell_type": "code",
      "source": [
        "df_for_balancing = df\n",
        "df_balanced = balance_df_by_target(df_for_balancing, target_name)\n",
        "df_balanced[target_name].value_counts()"
      ],
      "metadata": {
        "colab": {
          "base_uri": "https://localhost:8080/"
        },
        "id": "w49dvtx6Qp9h",
        "outputId": "32ded0a2-b67e-46ba-e3bf-40775d7b043a"
      },
      "id": "w49dvtx6Qp9h",
      "execution_count": 7,
      "outputs": [
        {
          "output_type": "execute_result",
          "data": {
            "text/plain": [
              "0    29720\n",
              "1    29146\n",
              "Name: label, dtype: int64"
            ]
          },
          "metadata": {},
          "execution_count": 7
        }
      ]
    },
    {
      "cell_type": "code",
      "execution_count": 8,
      "id": "310646b0",
      "metadata": {
        "execution": {
          "iopub.execute_input": "2023-07-12T18:22:02.760083Z",
          "iopub.status.busy": "2023-07-12T18:22:02.759709Z",
          "iopub.status.idle": "2023-07-12T18:22:02.773261Z",
          "shell.execute_reply": "2023-07-12T18:22:02.771833Z"
        },
        "papermill": {
          "duration": 0.029237,
          "end_time": "2023-07-12T18:22:02.776224",
          "exception": false,
          "start_time": "2023-07-12T18:22:02.746987",
          "status": "completed"
        },
        "tags": [],
        "id": "310646b0"
      },
      "outputs": [],
      "source": [
        "df_train, df_val = train_test_split(df_balanced, test_size=0.3, random_state=42) #shuffle=True, stratify=df['label'], )"
      ]
    },
    {
      "cell_type": "code",
      "execution_count": 9,
      "id": "3a071413",
      "metadata": {
        "execution": {
          "iopub.execute_input": "2023-07-12T18:22:02.801194Z",
          "iopub.status.busy": "2023-07-12T18:22:02.800732Z",
          "iopub.status.idle": "2023-07-12T18:22:16.070613Z",
          "shell.execute_reply": "2023-07-12T18:22:16.068477Z"
        },
        "papermill": {
          "duration": 13.285815,
          "end_time": "2023-07-12T18:22:16.073643",
          "exception": false,
          "start_time": "2023-07-12T18:22:02.787828",
          "status": "completed"
        },
        "tags": [],
        "colab": {
          "base_uri": "https://localhost:8080/"
        },
        "id": "3a071413",
        "outputId": "c128b647-c5ef-4469-dfcb-6cd76835c2cf"
      },
      "outputs": [
        {
          "output_type": "stream",
          "name": "stdout",
          "text": [
            "Collecting stop-words\n",
            "  Downloading stop-words-2018.7.23.tar.gz (31 kB)\n",
            "  Preparing metadata (setup.py) ... \u001b[?25l\u001b[?25hdone\n",
            "Collecting pymorphy2\n",
            "  Downloading pymorphy2-0.9.1-py3-none-any.whl (55 kB)\n",
            "\u001b[2K     \u001b[90m━━━━━━━━━━━━━━━━━━━━━━━━━━━━━━━━━━━━━━━━\u001b[0m \u001b[32m55.5/55.5 kB\u001b[0m \u001b[31m2.0 MB/s\u001b[0m eta \u001b[36m0:00:00\u001b[0m\n",
            "\u001b[?25hCollecting dawg-python>=0.7.1 (from pymorphy2)\n",
            "  Downloading DAWG_Python-0.7.2-py2.py3-none-any.whl (11 kB)\n",
            "Collecting pymorphy2-dicts-ru<3.0,>=2.4 (from pymorphy2)\n",
            "  Downloading pymorphy2_dicts_ru-2.4.417127.4579844-py2.py3-none-any.whl (8.2 MB)\n",
            "\u001b[2K     \u001b[90m━━━━━━━━━━━━━━━━━━━━━━━━━━━━━━━━━━━━━━━━\u001b[0m \u001b[32m8.2/8.2 MB\u001b[0m \u001b[31m65.5 MB/s\u001b[0m eta \u001b[36m0:00:00\u001b[0m\n",
            "\u001b[?25hCollecting docopt>=0.6 (from pymorphy2)\n",
            "  Downloading docopt-0.6.2.tar.gz (25 kB)\n",
            "  Preparing metadata (setup.py) ... \u001b[?25l\u001b[?25hdone\n",
            "Building wheels for collected packages: stop-words, docopt\n",
            "  Building wheel for stop-words (setup.py) ... \u001b[?25l\u001b[?25hdone\n",
            "  Created wheel for stop-words: filename=stop_words-2018.7.23-py3-none-any.whl size=32898 sha256=61622d9c6404f54abc9681eff1b20aafecaf81d3ea841367e9aa16a972b315d7\n",
            "  Stored in directory: /root/.cache/pip/wheels/d0/1a/23/f12552a50cb09bcc1694a5ebb6c2cd5f2a0311de2b8c3d9a89\n",
            "  Building wheel for docopt (setup.py) ... \u001b[?25l\u001b[?25hdone\n",
            "  Created wheel for docopt: filename=docopt-0.6.2-py2.py3-none-any.whl size=13706 sha256=529b88d777d886e833a5478f0e759c5319580948e655bb8cc59afe0972f0ef57\n",
            "  Stored in directory: /root/.cache/pip/wheels/fc/ab/d4/5da2067ac95b36618c629a5f93f809425700506f72c9732fac\n",
            "Successfully built stop-words docopt\n",
            "Installing collected packages: stop-words, pymorphy2-dicts-ru, docopt, dawg-python, pymorphy2\n",
            "Successfully installed dawg-python-0.7.2 docopt-0.6.2 pymorphy2-0.9.1 pymorphy2-dicts-ru-2.4.417127.4579844 stop-words-2018.7.23\n"
          ]
        }
      ],
      "source": [
        "!pip install stop-words pymorphy2"
      ]
    },
    {
      "cell_type": "code",
      "execution_count": 10,
      "id": "c2744c37",
      "metadata": {
        "execution": {
          "iopub.execute_input": "2023-07-12T18:22:16.105965Z",
          "iopub.status.busy": "2023-07-12T18:22:16.105349Z",
          "iopub.status.idle": "2023-07-12T18:22:16.136021Z",
          "shell.execute_reply": "2023-07-12T18:22:16.134694Z"
        },
        "papermill": {
          "duration": 0.051141,
          "end_time": "2023-07-12T18:22:16.138777",
          "exception": false,
          "start_time": "2023-07-12T18:22:16.087636",
          "status": "completed"
        },
        "tags": [],
        "id": "c2744c37"
      },
      "outputs": [],
      "source": [
        "from string import punctuation\n",
        "from stop_words import get_stop_words\n",
        "from pymorphy2 import MorphAnalyzer\n",
        "import re"
      ]
    },
    {
      "cell_type": "code",
      "execution_count": 11,
      "id": "05318a5c",
      "metadata": {
        "execution": {
          "iopub.execute_input": "2023-07-12T18:22:16.167121Z",
          "iopub.status.busy": "2023-07-12T18:22:16.166661Z",
          "iopub.status.idle": "2023-07-12T18:22:16.180216Z",
          "shell.execute_reply": "2023-07-12T18:22:16.178540Z"
        },
        "papermill": {
          "duration": 0.031709,
          "end_time": "2023-07-12T18:22:16.183602",
          "exception": false,
          "start_time": "2023-07-12T18:22:16.151893",
          "status": "completed"
        },
        "tags": [],
        "id": "05318a5c"
      },
      "outputs": [],
      "source": [
        "sw = set(get_stop_words(\"en\"))\n",
        "new_sw = {'im', 'u', 'us', '2', '2016', '4', '2017', 'ive', '3', '1', 'r', 'iam', 's', 'n', '10', 'ur', 'w', '8', '5', 'd', 'shes', '7', 'b', 'ag', 'bc', '6', 'x', '12', 'gt', 'whos', '1st', 'self', '50', 't', 'y'}\n",
        "sw = sw.union(new_sw)\n",
        "puncts = set(punctuation)\n",
        "puncts = puncts.union({'¦'})"
      ]
    },
    {
      "cell_type": "code",
      "execution_count": 12,
      "id": "9fd9a9e1",
      "metadata": {
        "execution": {
          "iopub.execute_input": "2023-07-12T18:22:16.296906Z",
          "iopub.status.busy": "2023-07-12T18:22:16.296553Z",
          "iopub.status.idle": "2023-07-12T18:22:16.512092Z",
          "shell.execute_reply": "2023-07-12T18:22:16.511131Z"
        },
        "papermill": {
          "duration": 0.233106,
          "end_time": "2023-07-12T18:22:16.515048",
          "exception": false,
          "start_time": "2023-07-12T18:22:16.281942",
          "status": "completed"
        },
        "tags": [],
        "id": "9fd9a9e1"
      },
      "outputs": [],
      "source": [
        "morpher = MorphAnalyzer()\n",
        "\n",
        "def preprocess_text(txt):\n",
        "    txt = str(txt)\n",
        "    txt = \"\".join(c for c in txt if c not in puncts)\n",
        "    txt = txt.lower()\n",
        "    # уберем все непечатные символы\n",
        "    txt = re.sub(r'[^\\x20-\\x7E]', '', txt)\n",
        "    txt = [morpher.parse(word)[0].normal_form for word in txt.split() if word not in sw]\n",
        "    return \" \".join(txt)"
      ]
    },
    {
      "cell_type": "code",
      "execution_count": 13,
      "id": "799b6b6f",
      "metadata": {
        "execution": {
          "iopub.execute_input": "2023-07-12T18:22:16.650987Z",
          "iopub.status.busy": "2023-07-12T18:22:16.650419Z",
          "iopub.status.idle": "2023-07-12T18:22:29.448814Z",
          "shell.execute_reply": "2023-07-12T18:22:29.446569Z"
        },
        "papermill": {
          "duration": 12.820297,
          "end_time": "2023-07-12T18:22:29.451901",
          "exception": false,
          "start_time": "2023-07-12T18:22:16.631604",
          "status": "completed"
        },
        "tags": [],
        "colab": {
          "base_uri": "https://localhost:8080/"
        },
        "id": "799b6b6f",
        "outputId": "7007571e-7c2c-4b2c-c3d7-af766bc61ac1"
      },
      "outputs": [
        {
          "output_type": "stream",
          "name": "stderr",
          "text": [
            "100%|██████████| 41206/41206 [00:16<00:00, 2468.55it/s]\n",
            "100%|██████████| 17660/17660 [00:06<00:00, 2592.12it/s]\n"
          ]
        }
      ],
      "source": [
        "from tqdm import tqdm\n",
        "tqdm.pandas()\n",
        "\n",
        "df_train['tweet'] = df_train['tweet'].progress_apply(preprocess_text)\n",
        "df_val['tweet'] = df_val['tweet'].progress_apply(preprocess_text)"
      ]
    },
    {
      "cell_type": "code",
      "execution_count": 14,
      "id": "2c3618b1",
      "metadata": {
        "execution": {
          "iopub.execute_input": "2023-07-12T18:22:29.495583Z",
          "iopub.status.busy": "2023-07-12T18:22:29.495166Z",
          "iopub.status.idle": "2023-07-12T18:22:29.532434Z",
          "shell.execute_reply": "2023-07-12T18:22:29.531266Z"
        },
        "papermill": {
          "duration": 0.061998,
          "end_time": "2023-07-12T18:22:29.534871",
          "exception": false,
          "start_time": "2023-07-12T18:22:29.472873",
          "status": "completed"
        },
        "tags": [],
        "id": "2c3618b1"
      },
      "outputs": [],
      "source": [
        "train_corpus = \" \".join(df_train[\"tweet\"])\n",
        "train_corpus = train_corpus.lower()"
      ]
    },
    {
      "cell_type": "code",
      "execution_count": 15,
      "id": "ccce907e",
      "metadata": {
        "execution": {
          "iopub.execute_input": "2023-07-12T18:22:29.577371Z",
          "iopub.status.busy": "2023-07-12T18:22:29.576945Z",
          "iopub.status.idle": "2023-07-12T18:22:32.223201Z",
          "shell.execute_reply": "2023-07-12T18:22:32.221305Z"
        },
        "papermill": {
          "duration": 2.671275,
          "end_time": "2023-07-12T18:22:32.226141",
          "exception": false,
          "start_time": "2023-07-12T18:22:29.554866",
          "status": "completed"
        },
        "tags": [],
        "colab": {
          "base_uri": "https://localhost:8080/"
        },
        "id": "ccce907e",
        "outputId": "ce3a3c8d-1d8d-45c7-bb11-788ff2ac0f05"
      },
      "outputs": [
        {
          "output_type": "stream",
          "name": "stderr",
          "text": [
            "[nltk_data] Downloading package punkt to /root/nltk_data...\n",
            "[nltk_data]   Unzipping tokenizers/punkt.zip.\n"
          ]
        }
      ],
      "source": [
        "import nltk\n",
        "from nltk.tokenize import word_tokenize\n",
        "nltk.download(\"punkt\")\n",
        "tokens = word_tokenize(train_corpus)"
      ]
    },
    {
      "cell_type": "code",
      "execution_count": 16,
      "id": "12f70b56",
      "metadata": {
        "execution": {
          "iopub.execute_input": "2023-07-12T18:22:32.272567Z",
          "iopub.status.busy": "2023-07-12T18:22:32.272174Z",
          "iopub.status.idle": "2023-07-12T18:22:32.313444Z",
          "shell.execute_reply": "2023-07-12T18:22:32.311504Z"
        },
        "papermill": {
          "duration": 0.067229,
          "end_time": "2023-07-12T18:22:32.316226",
          "exception": false,
          "start_time": "2023-07-12T18:22:32.248997",
          "status": "completed"
        },
        "tags": [],
        "id": "12f70b56"
      },
      "outputs": [],
      "source": [
        "tokens_filtered = [word for word in tokens if word.isalnum()]"
      ]
    },
    {
      "cell_type": "code",
      "execution_count": 17,
      "id": "3e9ca410",
      "metadata": {
        "execution": {
          "iopub.execute_input": "2023-07-12T18:22:32.363111Z",
          "iopub.status.busy": "2023-07-12T18:22:32.362720Z",
          "iopub.status.idle": "2023-07-12T18:22:32.661675Z",
          "shell.execute_reply": "2023-07-12T18:22:32.660037Z"
        },
        "papermill": {
          "duration": 0.326065,
          "end_time": "2023-07-12T18:22:32.664434",
          "exception": false,
          "start_time": "2023-07-12T18:22:32.338369",
          "status": "completed"
        },
        "tags": [],
        "id": "3e9ca410"
      },
      "outputs": [],
      "source": [
        "from nltk.probability import FreqDist\n",
        "\n",
        "dist = FreqDist(tokens_filtered)\n",
        "# берем max_words tokens минус 1 для padding\n",
        "tokens_filtered_top = [pair[0] for pair in dist.most_common(max_words-1)]"
      ]
    },
    {
      "cell_type": "code",
      "execution_count": 18,
      "id": "cf4366b9",
      "metadata": {
        "execution": {
          "iopub.execute_input": "2023-07-12T18:22:32.762790Z",
          "iopub.status.busy": "2023-07-12T18:22:32.762444Z",
          "iopub.status.idle": "2023-07-12T18:22:32.794429Z",
          "shell.execute_reply": "2023-07-12T18:22:32.792808Z"
        },
        "papermill": {
          "duration": 0.056454,
          "end_time": "2023-07-12T18:22:32.796595",
          "exception": false,
          "start_time": "2023-07-12T18:22:32.740141",
          "status": "completed"
        },
        "tags": [],
        "colab": {
          "base_uri": "https://localhost:8080/"
        },
        "id": "cf4366b9",
        "outputId": "2016ec96-d32f-47f0-ec0d-1fdf18479d01"
      },
      "outputs": [
        {
          "output_type": "execute_result",
          "data": {
            "text/plain": [
              "2499"
            ]
          },
          "metadata": {},
          "execution_count": 18
        }
      ],
      "source": [
        "vocabulary = {v: k for k, v in dict(enumerate(tokens_filtered_top, 1)).items()}\n",
        "len(vocabulary)"
      ]
    },
    {
      "cell_type": "code",
      "execution_count": 19,
      "id": "c96e01ca",
      "metadata": {
        "execution": {
          "iopub.execute_input": "2023-07-12T18:22:32.842982Z",
          "iopub.status.busy": "2023-07-12T18:22:32.842619Z",
          "iopub.status.idle": "2023-07-12T18:22:32.849417Z",
          "shell.execute_reply": "2023-07-12T18:22:32.847990Z"
        },
        "papermill": {
          "duration": 0.033237,
          "end_time": "2023-07-12T18:22:32.851283",
          "exception": false,
          "start_time": "2023-07-12T18:22:32.818046",
          "status": "completed"
        },
        "tags": [],
        "id": "c96e01ca"
      },
      "outputs": [],
      "source": [
        "def text_to_sequence(text, maxlen):\n",
        "    result = []\n",
        "    tokens = word_tokenize(text.lower())\n",
        "    tokens_filtered = [word for word in tokens if word.isalnum()]\n",
        "    for word in tokens_filtered:\n",
        "        if word in vocabulary:\n",
        "            result.append(vocabulary[word])\n",
        "\n",
        "    padding = [0] * (maxlen-len(result))\n",
        "    return result[-maxlen:] + padding"
      ]
    },
    {
      "cell_type": "code",
      "execution_count": 20,
      "id": "ef3b02a6",
      "metadata": {
        "execution": {
          "iopub.execute_input": "2023-07-12T18:22:32.896161Z",
          "iopub.status.busy": "2023-07-12T18:22:32.895763Z",
          "iopub.status.idle": "2023-07-12T18:22:39.481020Z",
          "shell.execute_reply": "2023-07-12T18:22:39.479741Z"
        },
        "papermill": {
          "duration": 6.61132,
          "end_time": "2023-07-12T18:22:39.484073",
          "exception": false,
          "start_time": "2023-07-12T18:22:32.872753",
          "status": "completed"
        },
        "tags": [],
        "colab": {
          "base_uri": "https://localhost:8080/"
        },
        "id": "ef3b02a6",
        "outputId": "2043f23c-2e16-421b-c9bd-d8ee91873ad4"
      },
      "outputs": [
        {
          "output_type": "stream",
          "name": "stdout",
          "text": [
            "CPU times: user 7.98 s, sys: 61 ms, total: 8.04 s\n",
            "Wall time: 11.5 s\n"
          ]
        }
      ],
      "source": [
        "%%time\n",
        "\n",
        "x_train = np.asarray([text_to_sequence(text, max_len) for text in df_train[\"tweet\"]])\n",
        "x_val = np.asarray([text_to_sequence(text, max_len) for text in df_val[\"tweet\"]])"
      ]
    },
    {
      "cell_type": "code",
      "execution_count": 21,
      "id": "5f731157",
      "metadata": {
        "execution": {
          "iopub.execute_input": "2023-07-12T18:22:39.704555Z",
          "iopub.status.busy": "2023-07-12T18:22:39.704161Z",
          "iopub.status.idle": "2023-07-12T18:22:44.156566Z",
          "shell.execute_reply": "2023-07-12T18:22:44.154965Z"
        },
        "papermill": {
          "duration": 4.480086,
          "end_time": "2023-07-12T18:22:44.159115",
          "exception": false,
          "start_time": "2023-07-12T18:22:39.679029",
          "status": "completed"
        },
        "tags": [],
        "id": "5f731157"
      },
      "outputs": [],
      "source": [
        "from torch.utils.data import DataLoader, Dataset\n",
        "import torch\n",
        "\n",
        "class DataWrapper(Dataset):\n",
        "    def __init__(self, data, target, transform=None):\n",
        "        self.data = torch.from_numpy(data).long()\n",
        "        self.target = torch.from_numpy(target).long()\n",
        "        self.transform = transform\n",
        "\n",
        "    def __getitem__(self, index):\n",
        "        x = self.data[index]\n",
        "        y = self.target[index]\n",
        "\n",
        "        if self.transform:\n",
        "            x = self.transform(x)\n",
        "\n",
        "        return x, y\n",
        "\n",
        "    def __len__(self):\n",
        "        return len(self.data)"
      ]
    },
    {
      "cell_type": "code",
      "execution_count": 22,
      "id": "049da3d1",
      "metadata": {
        "execution": {
          "iopub.execute_input": "2023-07-12T18:22:44.207999Z",
          "iopub.status.busy": "2023-07-12T18:22:44.206957Z",
          "iopub.status.idle": "2023-07-12T18:22:44.234226Z",
          "shell.execute_reply": "2023-07-12T18:22:44.232396Z"
        },
        "papermill": {
          "duration": 0.05559,
          "end_time": "2023-07-12T18:22:44.237100",
          "exception": false,
          "start_time": "2023-07-12T18:22:44.181510",
          "status": "completed"
        },
        "tags": [],
        "id": "049da3d1"
      },
      "outputs": [],
      "source": [
        "train_dataset = DataWrapper(x_train, df_train['label'].values)\n",
        "train_loader = DataLoader(train_dataset, batch_size=batch_size, shuffle=True)"
      ]
    },
    {
      "cell_type": "code",
      "execution_count": 23,
      "id": "7b89ef1d",
      "metadata": {
        "execution": {
          "iopub.execute_input": "2023-07-12T18:22:44.292818Z",
          "iopub.status.busy": "2023-07-12T18:22:44.292390Z",
          "iopub.status.idle": "2023-07-12T18:22:44.299471Z",
          "shell.execute_reply": "2023-07-12T18:22:44.297752Z"
        },
        "papermill": {
          "duration": 0.036111,
          "end_time": "2023-07-12T18:22:44.302932",
          "exception": false,
          "start_time": "2023-07-12T18:22:44.266821",
          "status": "completed"
        },
        "tags": [],
        "id": "7b89ef1d"
      },
      "outputs": [],
      "source": [
        "val_dataset = DataWrapper(x_val, df_val['label'].values)\n",
        "val_loader = DataLoader(val_dataset, batch_size=8, shuffle=True)"
      ]
    },
    {
      "cell_type": "code",
      "execution_count": 24,
      "id": "a4823e0d",
      "metadata": {
        "execution": {
          "iopub.execute_input": "2023-07-12T18:22:44.355942Z",
          "iopub.status.busy": "2023-07-12T18:22:44.355548Z",
          "iopub.status.idle": "2023-07-12T18:22:44.462358Z",
          "shell.execute_reply": "2023-07-12T18:22:44.460838Z"
        },
        "papermill": {
          "duration": 0.135711,
          "end_time": "2023-07-12T18:22:44.464870",
          "exception": false,
          "start_time": "2023-07-12T18:22:44.329159",
          "status": "completed"
        },
        "tags": [],
        "colab": {
          "base_uri": "https://localhost:8080/"
        },
        "id": "a4823e0d",
        "outputId": "e60c9e4d-a079-4b1e-ab63-f5f852175ade"
      },
      "outputs": [
        {
          "output_type": "stream",
          "name": "stdout",
          "text": [
            "torch.Size([512, 25])\n",
            "torch.Size([512])\n",
            "tensor(0)\n"
          ]
        }
      ],
      "source": [
        "for x, l in train_loader:\n",
        "    print(x.shape)\n",
        "    print(l.shape)\n",
        "    print(l[0])\n",
        "    break"
      ]
    },
    {
      "cell_type": "code",
      "execution_count": 25,
      "id": "2a52c0cd",
      "metadata": {
        "execution": {
          "iopub.execute_input": "2023-07-12T18:22:44.565856Z",
          "iopub.status.busy": "2023-07-12T18:22:44.565431Z",
          "iopub.status.idle": "2023-07-12T18:22:44.572959Z",
          "shell.execute_reply": "2023-07-12T18:22:44.571582Z"
        },
        "papermill": {
          "duration": 0.034193,
          "end_time": "2023-07-12T18:22:44.575729",
          "exception": false,
          "start_time": "2023-07-12T18:22:44.541536",
          "status": "completed"
        },
        "tags": [],
        "colab": {
          "base_uri": "https://localhost:8080/",
          "height": 35
        },
        "id": "2a52c0cd",
        "outputId": "64041e4b-051f-4e57-99de-d48b9ebd61fc"
      },
      "outputs": [
        {
          "output_type": "execute_result",
          "data": {
            "text/plain": [
              "'cuda'"
            ],
            "application/vnd.google.colaboratory.intrinsic+json": {
              "type": "string"
            }
          },
          "metadata": {},
          "execution_count": 25
        }
      ],
      "source": [
        "device = 'cuda' if torch.cuda.is_available() else 'cpu'\n",
        "\n",
        "device"
      ]
    },
    {
      "cell_type": "markdown",
      "source": [
        "### Сеть на GRU"
      ],
      "metadata": {
        "id": "jcQJy1_AXz2J"
      },
      "id": "jcQJy1_AXz2J"
    },
    {
      "cell_type": "code",
      "execution_count": 26,
      "id": "4c730cb3",
      "metadata": {
        "execution": {
          "iopub.execute_input": "2023-07-12T18:22:44.624162Z",
          "iopub.status.busy": "2023-07-12T18:22:44.623728Z",
          "iopub.status.idle": "2023-07-12T18:22:44.632721Z",
          "shell.execute_reply": "2023-07-12T18:22:44.631685Z"
        },
        "papermill": {
          "duration": 0.035727,
          "end_time": "2023-07-12T18:22:44.634628",
          "exception": false,
          "start_time": "2023-07-12T18:22:44.598901",
          "status": "completed"
        },
        "tags": [],
        "id": "4c730cb3"
      },
      "outputs": [],
      "source": [
        "from torch import nn\n",
        "\n",
        "class GRUFixedLen(nn.Module) :\n",
        "    def __init__(self, vocab_size, embedding_dim=128, hidden_dim=128, use_last=True):\n",
        "        super().__init__()\n",
        "        self.use_last = use_last\n",
        "        self.embeddings = nn.Embedding(vocab_size, embedding_dim, padding_idx=0)\n",
        "        self.gru = nn.GRU(embedding_dim, hidden_dim, num_layers=2, batch_first=True, )\n",
        "        self.linear = nn.Linear(hidden_dim, 1)\n",
        "        self.dropout = nn.Dropout(0.2)\n",
        "\n",
        "    def forward(self, x):\n",
        "        x = self.embeddings(x)\n",
        "        x = self.dropout(x)\n",
        "        gru_out, ht = self.gru(x)\n",
        "\n",
        "        if self.use_last:\n",
        "            last_tensor = gru_out[:,-1,:]\n",
        "        else:\n",
        "            # use mean\n",
        "            last_tensor = torch.mean(gru_out[:,:], dim=1)\n",
        "\n",
        "        out = self.linear(last_tensor)\n",
        "        return torch.sigmoid(out)"
      ]
    },
    {
      "cell_type": "code",
      "execution_count": 27,
      "id": "3d8a56f2",
      "metadata": {
        "execution": {
          "iopub.execute_input": "2023-07-12T18:22:44.681512Z",
          "iopub.status.busy": "2023-07-12T18:22:44.681163Z",
          "iopub.status.idle": "2023-07-12T18:22:44.694377Z",
          "shell.execute_reply": "2023-07-12T18:22:44.692740Z"
        },
        "papermill": {
          "duration": 0.03941,
          "end_time": "2023-07-12T18:22:44.696964",
          "exception": false,
          "start_time": "2023-07-12T18:22:44.657554",
          "status": "completed"
        },
        "tags": [],
        "id": "3d8a56f2"
      },
      "outputs": [],
      "source": [
        "gru_init = GRUFixedLen(max_words, 128, 20, use_last=False)\n",
        "optimizer = torch.optim.Adam(gru_init.parameters(), lr=0.001)\n",
        "criterion = nn.BCELoss()"
      ]
    },
    {
      "cell_type": "code",
      "execution_count": 28,
      "id": "8c188c81",
      "metadata": {
        "execution": {
          "iopub.execute_input": "2023-07-12T18:22:44.742835Z",
          "iopub.status.busy": "2023-07-12T18:22:44.742481Z",
          "iopub.status.idle": "2023-07-12T18:22:44.748435Z",
          "shell.execute_reply": "2023-07-12T18:22:44.746809Z"
        },
        "papermill": {
          "duration": 0.031701,
          "end_time": "2023-07-12T18:22:44.750654",
          "exception": false,
          "start_time": "2023-07-12T18:22:44.718953",
          "status": "completed"
        },
        "tags": [],
        "colab": {
          "base_uri": "https://localhost:8080/"
        },
        "id": "8c188c81",
        "outputId": "653da52b-2a82-4911-974e-6af9e7a71c24"
      },
      "outputs": [
        {
          "output_type": "stream",
          "name": "stdout",
          "text": [
            "GRUFixedLen(\n",
            "  (embeddings): Embedding(2500, 128, padding_idx=0)\n",
            "  (gru): GRU(128, 20, num_layers=2, batch_first=True)\n",
            "  (linear): Linear(in_features=20, out_features=1, bias=True)\n",
            "  (dropout): Dropout(p=0.2, inplace=False)\n",
            ")\n",
            "Parameters: 331541\n"
          ]
        }
      ],
      "source": [
        "print(gru_init)\n",
        "print(\"Parameters:\", sum([param.nelement() for param in gru_init.parameters()]))"
      ]
    },
    {
      "cell_type": "code",
      "execution_count": 29,
      "id": "b65aebc1",
      "metadata": {
        "execution": {
          "iopub.execute_input": "2023-07-12T18:22:44.795776Z",
          "iopub.status.busy": "2023-07-12T18:22:44.795468Z",
          "iopub.status.idle": "2023-07-12T18:24:00.411358Z",
          "shell.execute_reply": "2023-07-12T18:24:00.410167Z"
        },
        "papermill": {
          "duration": 75.642762,
          "end_time": "2023-07-12T18:24:00.415149",
          "exception": false,
          "start_time": "2023-07-12T18:22:44.772387",
          "status": "completed"
        },
        "tags": [],
        "colab": {
          "base_uri": "https://localhost:8080/"
        },
        "id": "b65aebc1",
        "outputId": "7157d448-ea63-46d3-b270-19afda8b70da"
      },
      "outputs": [
        {
          "output_type": "stream",
          "name": "stdout",
          "text": [
            "Epoch [1/5]. Step [81/81]. Loss: 0.436. Acc: 0.706. Test loss: 0.456. Test acc: 0.839\n",
            "Epoch [2/5]. Step [81/81]. Loss: 0.303. Acc: 0.863. Test loss: 0.173. Test acc: 0.912\n",
            "Epoch [3/5]. Step [81/81]. Loss: 0.253. Acc: 0.901. Test loss: 0.078. Test acc: 0.931\n",
            "Epoch [4/5]. Step [81/81]. Loss: 0.182. Acc: 0.919. Test loss: 0.019. Test acc: 0.941\n",
            "Epoch [5/5]. Step [81/81]. Loss: 0.192. Acc: 0.928. Test loss: 0.014. Test acc: 0.948\n",
            "Training is finished!\n",
            "CPU times: user 15.6 s, sys: 1.26 s, total: 16.8 s\n",
            "Wall time: 23.6 s\n"
          ]
        }
      ],
      "source": [
        "%%time\n",
        "\n",
        "gru_init = gru_init.to(device)\n",
        "gru_init.train()\n",
        "th = 0.5\n",
        "\n",
        "train_loss_history = []\n",
        "test_loss_history = []\n",
        "\n",
        "\n",
        "for epoch in range(epochs):\n",
        "    gru_init.train()\n",
        "    running_items, running_right = 0.0, 0.0\n",
        "    for i, data in enumerate(train_loader, 0):\n",
        "        inputs, labels = data[0].to(device), data[1].to(device)\n",
        "\n",
        "        # обнуляем градиент\n",
        "        optimizer.zero_grad()\n",
        "        outputs = gru_init(inputs)\n",
        "\n",
        "        loss = criterion(outputs, labels.float().view(-1, 1))\n",
        "        loss.backward()\n",
        "        optimizer.step()\n",
        "\n",
        "        # подсчет ошибки на обучении\n",
        "        loss = loss.item()\n",
        "        running_items += len(labels)\n",
        "        # подсчет метрики на обучении\n",
        "        pred_labels = torch.squeeze((outputs > th).int())\n",
        "        running_right += (labels == pred_labels).sum()\n",
        "\n",
        "    # выводим статистику о процессе обучения\n",
        "    gru_init.eval()\n",
        "\n",
        "    print(f'Epoch [{epoch + 1}/{epochs}]. ' \\\n",
        "          f'Step [{i + 1}/{len(train_loader)}]. ' \\\n",
        "          f'Loss: {loss:.3f}. ' \\\n",
        "          f'Acc: {running_right / running_items:.3f}', end='. ')\n",
        "    running_loss, running_items, running_right = 0.0, 0.0, 0.0\n",
        "    train_loss_history.append(loss)\n",
        "\n",
        "    # выводим статистику на тестовых данных\n",
        "    test_running_right, test_running_total, test_loss = 0.0, 0.0, 0.0\n",
        "    for j, data in enumerate(val_loader):\n",
        "        test_labels = data[1].to(device)\n",
        "        test_outputs = gru_init(data[0].to(device))\n",
        "\n",
        "        # подсчет ошибки на тесте\n",
        "        test_loss = criterion(test_outputs, test_labels.float().view(-1, 1))\n",
        "        # подсчет метрики на тесте\n",
        "        test_running_total += len(data[1])\n",
        "        pred_test_labels = torch.squeeze((test_outputs > th).int())\n",
        "        test_running_right += (test_labels == pred_test_labels).sum()\n",
        "\n",
        "    test_loss_history.append(test_loss.item())\n",
        "    print(f'Test loss: {test_loss:.3f}. Test acc: {test_running_right / test_running_total:.3f}')\n",
        "\n",
        "print('Training is finished!')"
      ]
    },
    {
      "cell_type": "markdown",
      "id": "a0456c07",
      "metadata": {
        "papermill": {
          "duration": 0.025575,
          "end_time": "2023-07-12T18:24:00.465223",
          "exception": false,
          "start_time": "2023-07-12T18:24:00.439648",
          "status": "completed"
        },
        "tags": [],
        "id": "a0456c07"
      },
      "source": [
        "После дополнительной очистки текста, балансировки классов и применения архитектуры GRU удалось улучшить accuracy на валидации до 94.4%.\n",
        "Обучение заняло 22.3 секунды."
      ]
    },
    {
      "cell_type": "markdown",
      "source": [
        "### Сеть на архитектуре LSTM"
      ],
      "metadata": {
        "id": "KABFljUDYcb6"
      },
      "id": "KABFljUDYcb6"
    },
    {
      "cell_type": "code",
      "execution_count": 30,
      "id": "b1ce7622",
      "metadata": {
        "execution": {
          "iopub.execute_input": "2023-07-12T18:24:00.575664Z",
          "iopub.status.busy": "2023-07-12T18:24:00.574943Z",
          "iopub.status.idle": "2023-07-12T18:24:00.582652Z",
          "shell.execute_reply": "2023-07-12T18:24:00.581490Z"
        },
        "papermill": {
          "duration": 0.036283,
          "end_time": "2023-07-12T18:24:00.585102",
          "exception": false,
          "start_time": "2023-07-12T18:24:00.548819",
          "status": "completed"
        },
        "tags": [],
        "id": "b1ce7622"
      },
      "outputs": [],
      "source": [
        "class LSTMFixedLen(nn.Module) :\n",
        "    def __init__(self, vocab_size, embedding_dim=128, hidden_dim=128, use_last=True):\n",
        "        super().__init__()\n",
        "        self.use_last = use_last\n",
        "        self.embeddings = nn.Embedding(vocab_size, embedding_dim, padding_idx=0)\n",
        "        self.lstm = nn.LSTM(embedding_dim, hidden_dim, num_layers=2, batch_first=True)\n",
        "        self.linear = nn.Linear(hidden_dim, 1)\n",
        "        self.dropout = nn.Dropout(0.2)\n",
        "\n",
        "    def forward(self, x):\n",
        "        x = self.embeddings(x)\n",
        "        x = self.dropout(x)\n",
        "        lstm_out, ht = self.lstm(x)\n",
        "\n",
        "        if self.use_last:\n",
        "            last_tensor = lstm_out[:,-1,:]\n",
        "        else:\n",
        "            # use mean\n",
        "            last_tensor = torch.mean(lstm_out[:,:], dim=1)\n",
        "\n",
        "        out = self.linear(last_tensor)\n",
        "        # print(out.shape)\n",
        "        return torch.sigmoid(out)"
      ]
    },
    {
      "cell_type": "code",
      "execution_count": 31,
      "id": "7cc6ab03",
      "metadata": {
        "execution": {
          "iopub.execute_input": "2023-07-12T18:24:00.635690Z",
          "iopub.status.busy": "2023-07-12T18:24:00.635310Z",
          "iopub.status.idle": "2023-07-12T18:24:00.645568Z",
          "shell.execute_reply": "2023-07-12T18:24:00.642833Z"
        },
        "papermill": {
          "duration": 0.04042,
          "end_time": "2023-07-12T18:24:00.648588",
          "exception": false,
          "start_time": "2023-07-12T18:24:00.608168",
          "status": "completed"
        },
        "tags": [],
        "id": "7cc6ab03"
      },
      "outputs": [],
      "source": [
        "lstm_init = LSTMFixedLen(max_words, 128, 20, use_last=False)\n",
        "optimizer = torch.optim.Adam(lstm_init.parameters(), lr=0.001)\n",
        "criterion = nn.BCELoss()"
      ]
    },
    {
      "cell_type": "code",
      "execution_count": 32,
      "id": "a6f438d6",
      "metadata": {
        "execution": {
          "iopub.execute_input": "2023-07-12T18:24:00.700132Z",
          "iopub.status.busy": "2023-07-12T18:24:00.699766Z",
          "iopub.status.idle": "2023-07-12T18:24:00.705948Z",
          "shell.execute_reply": "2023-07-12T18:24:00.704313Z"
        },
        "papermill": {
          "duration": 0.033695,
          "end_time": "2023-07-12T18:24:00.708397",
          "exception": false,
          "start_time": "2023-07-12T18:24:00.674702",
          "status": "completed"
        },
        "tags": [],
        "colab": {
          "base_uri": "https://localhost:8080/"
        },
        "id": "a6f438d6",
        "outputId": "8b551b95-3de1-4c3c-bec9-edc23add219f"
      },
      "outputs": [
        {
          "output_type": "stream",
          "name": "stdout",
          "text": [
            "LSTMFixedLen(\n",
            "  (embeddings): Embedding(2500, 128, padding_idx=0)\n",
            "  (lstm): LSTM(128, 20, num_layers=2, batch_first=True)\n",
            "  (linear): Linear(in_features=20, out_features=1, bias=True)\n",
            "  (dropout): Dropout(p=0.2, inplace=False)\n",
            ")\n",
            "Parameters: 335381\n"
          ]
        }
      ],
      "source": [
        "print(lstm_init)\n",
        "print(\"Parameters:\", sum([param.nelement() for param in lstm_init.parameters()]))"
      ]
    },
    {
      "cell_type": "code",
      "execution_count": 33,
      "id": "8851da86",
      "metadata": {
        "execution": {
          "iopub.execute_input": "2023-07-12T18:24:00.758870Z",
          "iopub.status.busy": "2023-07-12T18:24:00.758503Z",
          "iopub.status.idle": "2023-07-12T18:24:35.201147Z",
          "shell.execute_reply": "2023-07-12T18:24:35.200258Z"
        },
        "papermill": {
          "duration": 34.469634,
          "end_time": "2023-07-12T18:24:35.203252",
          "exception": false,
          "start_time": "2023-07-12T18:24:00.733618",
          "status": "completed"
        },
        "tags": [],
        "colab": {
          "base_uri": "https://localhost:8080/"
        },
        "id": "8851da86",
        "outputId": "5e6c152f-19a4-4297-ed27-b8d8ea64c1e9"
      },
      "outputs": [
        {
          "output_type": "stream",
          "name": "stdout",
          "text": [
            "Epoch [1/5]. Step [81/81]. Loss: 0.490. Acc: 0.614. Test loss: 0.333. Test acc: 0.812\n",
            "Epoch [2/5]. Step [81/81]. Loss: 0.365. Acc: 0.849. Test loss: 0.676. Test acc: 0.904\n",
            "Epoch [3/5]. Step [81/81]. Loss: 0.217. Acc: 0.901. Test loss: 0.340. Test acc: 0.928\n",
            "Epoch [4/5]. Step [81/81]. Loss: 0.236. Acc: 0.922. Test loss: 0.068. Test acc: 0.942\n",
            "Epoch [5/5]. Step [81/81]. Loss: 0.141. Acc: 0.934. Test loss: 0.543. Test acc: 0.946\n",
            "Training is finished!\n",
            "CPU times: user 13.6 s, sys: 58.4 ms, total: 13.7 s\n",
            "Wall time: 13.8 s\n"
          ]
        }
      ],
      "source": [
        "%%time\n",
        "\n",
        "lstm_init = lstm_init.to(device)\n",
        "lstm_init.train()\n",
        "th = 0.5\n",
        "\n",
        "train_loss_history = []\n",
        "test_loss_history = []\n",
        "\n",
        "\n",
        "for epoch in range(epochs):\n",
        "    lstm_init.train()\n",
        "    running_items, running_right = 0.0, 0.0\n",
        "    for i, data in enumerate(train_loader, 0):\n",
        "        inputs, labels = data[0].to(device), data[1].to(device)\n",
        "\n",
        "        # обнуляем градиент\n",
        "        optimizer.zero_grad()\n",
        "        outputs = lstm_init(inputs)\n",
        "\n",
        "        loss = criterion(outputs, labels.float().view(-1, 1))\n",
        "        loss.backward()\n",
        "        optimizer.step()\n",
        "\n",
        "        # подсчет ошибки на обучении\n",
        "        loss = loss.item()\n",
        "        running_items += len(labels)\n",
        "        # подсчет метрики на обучении\n",
        "        pred_labels = torch.squeeze((outputs > th).int())\n",
        "        running_right += (labels == pred_labels).sum()\n",
        "\n",
        "    # выводим статистику о процессе обучения\n",
        "    lstm_init.eval()\n",
        "\n",
        "    print(f'Epoch [{epoch + 1}/{epochs}]. ' \\\n",
        "            f'Step [{i + 1}/{len(train_loader)}]. ' \\\n",
        "            f'Loss: {loss:.3f}. ' \\\n",
        "            f'Acc: {running_right / running_items:.3f}', end='. ')\n",
        "    running_loss, running_items, running_right = 0.0, 0.0, 0.0\n",
        "    train_loss_history.append(loss)\n",
        "\n",
        "    # выводим статистику на тестовых данных\n",
        "    test_running_right, test_running_total, test_loss = 0.0, 0.0, 0.0\n",
        "    for j, data in enumerate(val_loader):\n",
        "        test_labels = data[1].to(device)\n",
        "        test_outputs = lstm_init(data[0].to(device))\n",
        "\n",
        "        # подсчет ошибки на тесте\n",
        "        test_loss = criterion(test_outputs, test_labels.float().view(-1, 1))\n",
        "        # подсчет метрики на тесте\n",
        "        test_running_total += len(data[1])\n",
        "        pred_test_labels = torch.squeeze((test_outputs > th).int())\n",
        "        test_running_right += (test_labels == pred_test_labels).sum()\n",
        "\n",
        "    test_loss_history.append(test_loss.item())\n",
        "    print(f'Test loss: {test_loss:.3f}. Test acc: {test_running_right / test_running_total:.3f}')\n",
        "\n",
        "print('Training is finished!')"
      ]
    },
    {
      "cell_type": "markdown",
      "id": "5afa7465",
      "metadata": {
        "papermill": {
          "duration": 0.023821,
          "end_time": "2023-07-12T18:24:35.251628",
          "exception": false,
          "start_time": "2023-07-12T18:24:35.227807",
          "status": "completed"
        },
        "tags": [],
        "id": "5afa7465"
      },
      "source": [
        "Обучение на архитектуре LSTM (Long Short-Term Memory) при несколько большем числе параметров (335381 у LSTM против 331541 в сети GRU) было почти в два раза быстрее и дало примерно такой же результат на валидации."
      ]
    },
    {
      "cell_type": "markdown",
      "source": [
        "### Визуализируем архитектуру"
      ],
      "metadata": {
        "id": "SxglGlbNgHq8"
      },
      "id": "SxglGlbNgHq8"
    },
    {
      "cell_type": "code",
      "source": [
        "!pip install torchviz"
      ],
      "metadata": {
        "colab": {
          "base_uri": "https://localhost:8080/"
        },
        "id": "uBUuBB3AdPov",
        "outputId": "76e8e552-dc83-466f-9bbd-bba0ad718a76"
      },
      "id": "uBUuBB3AdPov",
      "execution_count": 34,
      "outputs": [
        {
          "output_type": "stream",
          "name": "stdout",
          "text": [
            "Collecting torchviz\n",
            "  Downloading torchviz-0.0.2.tar.gz (4.9 kB)\n",
            "  Preparing metadata (setup.py) ... \u001b[?25l\u001b[?25hdone\n",
            "Requirement already satisfied: torch in /usr/local/lib/python3.10/dist-packages (from torchviz) (2.1.0+cu118)\n",
            "Requirement already satisfied: graphviz in /usr/local/lib/python3.10/dist-packages (from torchviz) (0.20.1)\n",
            "Requirement already satisfied: filelock in /usr/local/lib/python3.10/dist-packages (from torch->torchviz) (3.13.1)\n",
            "Requirement already satisfied: typing-extensions in /usr/local/lib/python3.10/dist-packages (from torch->torchviz) (4.5.0)\n",
            "Requirement already satisfied: sympy in /usr/local/lib/python3.10/dist-packages (from torch->torchviz) (1.12)\n",
            "Requirement already satisfied: networkx in /usr/local/lib/python3.10/dist-packages (from torch->torchviz) (3.2.1)\n",
            "Requirement already satisfied: jinja2 in /usr/local/lib/python3.10/dist-packages (from torch->torchviz) (3.1.2)\n",
            "Requirement already satisfied: fsspec in /usr/local/lib/python3.10/dist-packages (from torch->torchviz) (2023.6.0)\n",
            "Requirement already satisfied: triton==2.1.0 in /usr/local/lib/python3.10/dist-packages (from torch->torchviz) (2.1.0)\n",
            "Requirement already satisfied: MarkupSafe>=2.0 in /usr/local/lib/python3.10/dist-packages (from jinja2->torch->torchviz) (2.1.3)\n",
            "Requirement already satisfied: mpmath>=0.19 in /usr/local/lib/python3.10/dist-packages (from sympy->torch->torchviz) (1.3.0)\n",
            "Building wheels for collected packages: torchviz\n",
            "  Building wheel for torchviz (setup.py) ... \u001b[?25l\u001b[?25hdone\n",
            "  Created wheel for torchviz: filename=torchviz-0.0.2-py3-none-any.whl size=4133 sha256=3d16be5a259065832a7033c7dbb2ad1bd34b0bb81cc34eb0513285d5503a9a10\n",
            "  Stored in directory: /root/.cache/pip/wheels/4c/97/88/a02973217949e0db0c9f4346d154085f4725f99c4f15a87094\n",
            "Successfully built torchviz\n",
            "Installing collected packages: torchviz\n",
            "Successfully installed torchviz-0.0.2\n"
          ]
        }
      ]
    },
    {
      "cell_type": "code",
      "source": [
        "from torchviz import make_dot\n",
        "\n",
        "# Создание фиктивных входных данных\n",
        "x = torch.randint(low=0, high=2499, size=(batch_size, 25), dtype=torch.int)\n",
        "\n",
        "# Создание графа вычислений\n",
        "y = gru_init(x.to(device))\n",
        "graph = make_dot(y, params=dict(gru_init.named_parameters()))\n",
        "\n",
        "# Сохранение графа в файл\n",
        "graph.format = 'png'\n",
        "graph.render('gru_architecture', cleanup=True)\n",
        "\n",
        "# Отображение файла с помощью функций Colab\n",
        "from IPython.display import Image\n",
        "Image('gru_architecture.png')"
      ],
      "metadata": {
        "colab": {
          "base_uri": "https://localhost:8080/",
          "height": 612
        },
        "id": "TFBCMBefaQNR",
        "outputId": "8c15ff9c-0579-43c8-cbbb-9fe35c97ca92"
      },
      "id": "TFBCMBefaQNR",
      "execution_count": 35,
      "outputs": [
        {
          "output_type": "execute_result",
          "data": {
            "image/png": "[encoded data removed]",
            "text/plain": [
              "<IPython.core.display.Image object>"
            ]
          },
          "metadata": {},
          "execution_count": 35
        }
      ]
    },
    {
      "cell_type": "code",
      "source": [
        "y = lstm_init(x.to(device))\n",
        "graph = make_dot(y, params=dict(lstm_init.named_parameters()))\n",
        "\n",
        "# Сохранение графа в файл\n",
        "graph.format = 'png'\n",
        "graph.render('lstm_architecture', cleanup=True)\n",
        "\n",
        "# Отображение файла с помощью функций Colab\n",
        "from IPython.display import Image\n",
        "Image('lstm_architecture.png')"
      ],
      "metadata": {
        "colab": {
          "base_uri": "https://localhost:8080/",
          "height": 588
        },
        "id": "oqTU4mr0bJmn",
        "outputId": "61194d00-9794-4718-a53b-5c297928dbe6"
      },
      "id": "oqTU4mr0bJmn",
      "execution_count": 36,
      "outputs": [
        {
          "output_type": "execute_result",
          "data": {
            "image/png": "[encoded data removed]",
            "text/plain": [
              "<IPython.core.display.Image object>"
            ]
          },
          "metadata": {},
          "execution_count": 36
        }
      ]
    },
    {
      "cell_type": "code",
      "source": [
        "source_text = 'black dotted line shows accuracy and green one shows loss'\n",
        "\n",
        "def predict(text, model):\n",
        "  src = torch.tensor([text_to_sequence(preprocess_text(source_text), max_len)])\n",
        "  return model(src.to(device)).item()\n",
        "\n",
        "predict(source_text, lstm_init)"
      ],
      "metadata": {
        "colab": {
          "base_uri": "https://localhost:8080/"
        },
        "id": "Irr5ePWqNObW",
        "outputId": "0b966da5-3f90-457a-be76-31afd28c837f"
      },
      "id": "Irr5ePWqNObW",
      "execution_count": 37,
      "outputs": [
        {
          "output_type": "execute_result",
          "data": {
            "text/plain": [
              "0.620436429977417"
            ]
          },
          "metadata": {},
          "execution_count": 37
        }
      ]
    },
    {
      "cell_type": "code",
      "source": [
        "predict(source_text, gru_init)"
      ],
      "metadata": {
        "colab": {
          "base_uri": "https://localhost:8080/"
        },
        "id": "NtuIRiwDPmqx",
        "outputId": "0a3efafc-0199-4541-b6d4-05a599fb512f"
      },
      "id": "NtuIRiwDPmqx",
      "execution_count": 38,
      "outputs": [
        {
          "output_type": "execute_result",
          "data": {
            "text/plain": [
              "0.18253590166568756"
            ]
          },
          "metadata": {},
          "execution_count": 38
        }
      ]
    },
    {
      "cell_type": "code",
      "source": [],
      "metadata": {
        "id": "Z3rN-SRST9qX"
      },
      "id": "Z3rN-SRST9qX",
      "execution_count": 38,
      "outputs": []
    }
  ],
  "metadata": {
    "kernelspec": {
      "display_name": "Python 3",
      "name": "python3"
    },
    "language_info": {
      "codemirror_mode": {
        "name": "ipython",
        "version": 3
      },
      "file_extension": ".py",
      "mimetype": "text/x-python",
      "name": "python",
      "nbconvert_exporter": "python",
      "pygments_lexer": "ipython3",
      "version": "3.10.12"
    },
    "papermill": {
      "default_parameters": {},
      "duration": 168.846758,
      "end_time": "2023-07-12T18:24:37.199573",
      "environment_variables": {},
      "exception": null,
      "input_path": "__notebook__.ipynb",
      "output_path": "__notebook__.ipynb",
      "parameters": {},
      "start_time": "2023-07-12T18:21:48.352815",
      "version": "2.4.0"
    },
    "colab": {
      "provenance": [],
      "gpuType": "T4",
      "include_colab_link": true
    },
    "accelerator": "GPU"
  },
  "nbformat": 4,
  "nbformat_minor": 5
}