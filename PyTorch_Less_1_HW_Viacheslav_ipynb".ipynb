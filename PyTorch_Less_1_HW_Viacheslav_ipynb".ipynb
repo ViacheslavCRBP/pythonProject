{
  "cells": [
    {
      "cell_type": "markdown",
      "metadata": {
        "id": "view-in-github",
        "colab_type": "text"
      },
      "source": [
        "<a href=\"https://colab.research.google.com/github/ViacheslavCRBP/pythonProject/blob/MLB/PyTorch_Less_1_HW_Viacheslav_ipynb%22.ipynb\" target=\"_parent\"><img src=\"https://colab.research.google.com/assets/colab-badge.svg\" alt=\"Open In Colab\"/></a>"
      ]
    },
    {
      "cell_type": "markdown",
      "metadata": {
        "id": "GoFHbsJClrcw"
      },
      "source": [
        "# PyTorch, вводное занятие\n",
        "\n",
        "## Урок 1.\n",
        "\n",
        "### Задание\n",
        "\n",
        "Создайте случайный FloatTensor размера 3x4x5  \n",
        "Выведите его форму (shape)  \n",
        "Приведите его к форме 6х10  \n",
        "Создайте случайный IntTensor размера 10  \n",
        "Умножьте созданный FloatTensor на созданный IntTensor поэлементно  \n",
        "Умножьте тензор матрично на себя, чтобы результат был размерности 6x6  Подсказка: .dot может не подойти  \n",
        "Посчитайте производную функции y = x**3 + z - 75t в точке (1, 0.5, 2)  \n",
        "Создайте единичный тензор размера 5x6  \n",
        "Переведите его в формат numpy  "
      ]
    },
    {
      "cell_type": "code",
      "execution_count": 1,
      "metadata": {
        "colab": {
          "base_uri": "https://localhost:8080/"
        },
        "id": "yxkIdBBrlrcz",
        "outputId": "9dca6822-4110-4768-e98e-6abcaea1c72b"
      },
      "outputs": [
        {
          "output_type": "stream",
          "name": "stdout",
          "text": [
            "Requirement already satisfied: torch in /usr/local/lib/python3.10/dist-packages (2.0.1+cu118)\n",
            "Requirement already satisfied: torchvision in /usr/local/lib/python3.10/dist-packages (0.15.2+cu118)\n",
            "Requirement already satisfied: filelock in /usr/local/lib/python3.10/dist-packages (from torch) (3.12.4)\n",
            "Requirement already satisfied: typing-extensions in /usr/local/lib/python3.10/dist-packages (from torch) (4.5.0)\n",
            "Requirement already satisfied: sympy in /usr/local/lib/python3.10/dist-packages (from torch) (1.12)\n",
            "Requirement already satisfied: networkx in /usr/local/lib/python3.10/dist-packages (from torch) (3.1)\n",
            "Requirement already satisfied: jinja2 in /usr/local/lib/python3.10/dist-packages (from torch) (3.1.2)\n",
            "Requirement already satisfied: triton==2.0.0 in /usr/local/lib/python3.10/dist-packages (from torch) (2.0.0)\n",
            "Requirement already satisfied: cmake in /usr/local/lib/python3.10/dist-packages (from triton==2.0.0->torch) (3.27.6)\n",
            "Requirement already satisfied: lit in /usr/local/lib/python3.10/dist-packages (from triton==2.0.0->torch) (17.0.2)\n",
            "Requirement already satisfied: numpy in /usr/local/lib/python3.10/dist-packages (from torchvision) (1.23.5)\n",
            "Requirement already satisfied: requests in /usr/local/lib/python3.10/dist-packages (from torchvision) (2.31.0)\n",
            "Requirement already satisfied: pillow!=8.3.*,>=5.3.0 in /usr/local/lib/python3.10/dist-packages (from torchvision) (9.4.0)\n",
            "Requirement already satisfied: MarkupSafe>=2.0 in /usr/local/lib/python3.10/dist-packages (from jinja2->torch) (2.1.3)\n",
            "Requirement already satisfied: charset-normalizer<4,>=2 in /usr/local/lib/python3.10/dist-packages (from requests->torchvision) (3.3.0)\n",
            "Requirement already satisfied: idna<4,>=2.5 in /usr/local/lib/python3.10/dist-packages (from requests->torchvision) (3.4)\n",
            "Requirement already satisfied: urllib3<3,>=1.21.1 in /usr/local/lib/python3.10/dist-packages (from requests->torchvision) (2.0.6)\n",
            "Requirement already satisfied: certifi>=2017.4.17 in /usr/local/lib/python3.10/dist-packages (from requests->torchvision) (2023.7.22)\n",
            "Requirement already satisfied: mpmath>=0.19 in /usr/local/lib/python3.10/dist-packages (from sympy->torch) (1.3.0)\n"
          ]
        }
      ],
      "source": [
        "!pip3 install torch torchvision"
      ]
    },
    {
      "cell_type": "code",
      "execution_count": 2,
      "metadata": {
        "id": "cr4ur_8Llrc_"
      },
      "outputs": [],
      "source": [
        "from IPython import display\n",
        "import numpy as np\n",
        "import random\n",
        "import torch"
      ]
    },
    {
      "cell_type": "code",
      "execution_count": 3,
      "metadata": {
        "id": "fZUu5E6klrdC",
        "colab": {
          "base_uri": "https://localhost:8080/"
        },
        "outputId": "64c9f712-7d3c-4666-cae7-ccc3966772de"
      },
      "outputs": [
        {
          "output_type": "stream",
          "name": "stdout",
          "text": [
            "tensor([3., 4., 5.])\n"
          ]
        }
      ],
      "source": [
        "#Создайте случайный FloatTensor размера 3x4x5\n",
        "\n",
        "a = torch.FloatTensor([3, 4, 5])\n",
        "print(a)"
      ]
    },
    {
      "cell_type": "code",
      "source": [
        "# Выведите его форму (shape)\n",
        "\n",
        "print(f\"a: {a}\\nshape: {a.size()}\")"
      ],
      "metadata": {
        "colab": {
          "base_uri": "https://localhost:8080/"
        },
        "id": "KPldNh-H_vs8",
        "outputId": "6f91cb8b-0e37-4458-d27b-ea49910f12fc"
      },
      "execution_count": 4,
      "outputs": [
        {
          "output_type": "stream",
          "name": "stdout",
          "text": [
            "a: tensor([3., 4., 5.])\n",
            "shape: torch.Size([3])\n"
          ]
        }
      ]
    },
    {
      "cell_type": "code",
      "source": [
        "# Приведите его к форме 6х10\n",
        "\n",
        "a = torch.FloatTensor([6, 10])\n",
        "print(a)"
      ],
      "metadata": {
        "colab": {
          "base_uri": "https://localhost:8080/"
        },
        "id": "EZ24mL-UAJMA",
        "outputId": "18a83aab-791b-440e-d7f5-5d7fb0a828fb"
      },
      "execution_count": 5,
      "outputs": [
        {
          "output_type": "stream",
          "name": "stdout",
          "text": [
            "tensor([ 6., 10.])\n"
          ]
        }
      ]
    },
    {
      "cell_type": "code",
      "source": [
        "# Создайте случайный IntTensor размера 10\n",
        "\n",
        "b = torch.IntTensor([10])\n",
        "print(b)"
      ],
      "metadata": {
        "colab": {
          "base_uri": "https://localhost:8080/"
        },
        "id": "gvq2NBZ5CjEm",
        "outputId": "fa3aa97e-f5d7-4013-a406-c8482706bf66"
      },
      "execution_count": 6,
      "outputs": [
        {
          "output_type": "stream",
          "name": "stdout",
          "text": [
            "tensor([10], dtype=torch.int32)\n"
          ]
        }
      ]
    },
    {
      "cell_type": "code",
      "source": [
        "# Умножьте созданный FloatTensor на созданный IntTensor поэлементно\n",
        "\n",
        "a = torch.Tensor(a)\n",
        "b = torch.Tensor(b)\n",
        "\n",
        "tens = torch.mul(a, b)\n",
        "print(\"Результат поэлементного умножения FloatTensor на IntTensor: \", tens)\n"
      ],
      "metadata": {
        "colab": {
          "base_uri": "https://localhost:8080/"
        },
        "id": "pmaVfyGfC0oi",
        "outputId": "ec8beb0f-8553-482b-c3e8-59ef510b0c0e"
      },
      "execution_count": 7,
      "outputs": [
        {
          "output_type": "stream",
          "name": "stdout",
          "text": [
            "Результат поэлементного умножения FloatTensor на IntTensor:  tensor([ 60., 100.])\n"
          ]
        }
      ]
    },
    {
      "cell_type": "code",
      "source": [
        "# Умножьте тензор матрично на себя, чтобы результат был размерности 6x6\n",
        "\n",
        "a2 = a.dot(a)\n",
        "\n",
        "print(a2)"
      ],
      "metadata": {
        "colab": {
          "base_uri": "https://localhost:8080/"
        },
        "id": "qf2t-eK_F8lY",
        "outputId": "cc4156e7-00f8-479b-b1cc-77de3bb4e337"
      },
      "execution_count": 55,
      "outputs": [
        {
          "output_type": "stream",
          "name": "stdout",
          "text": [
            "tensor(136.)\n"
          ]
        }
      ]
    },
    {
      "cell_type": "code",
      "source": [
        "# Посчитайте производную функции y = x**3 + z - 75t в точке (1, 0.5, 2)\n",
        "\n",
        "x=torch.tensor(1.0, requires_grad=True)\n",
        "z=torch.tensor(0.5, requires_grad=True)\n",
        "t=2\n",
        "y = x**3 + z - 75*t\n",
        "y.backward()\n",
        "x.grad\n",
        "z.grad"
      ],
      "metadata": {
        "id": "R01nnioaFsh_",
        "colab": {
          "base_uri": "https://localhost:8080/"
        },
        "outputId": "ce0ba11d-46c9-4268-e412-ad045b9d312f"
      },
      "execution_count": 62,
      "outputs": [
        {
          "output_type": "execute_result",
          "data": {
            "text/plain": [
              "tensor(1.)"
            ]
          },
          "metadata": {},
          "execution_count": 62
        }
      ]
    },
    {
      "cell_type": "code",
      "source": [
        "# Создайте единичный тензор размера 5x6\n",
        "\n",
        "e  = torch.eye(5, 6)\n",
        "print(e)"
      ],
      "metadata": {
        "colab": {
          "base_uri": "https://localhost:8080/"
        },
        "id": "OpDGjcIFVXZp",
        "outputId": "79641549-992b-4b6a-de9c-d4202a44c7da"
      },
      "execution_count": 25,
      "outputs": [
        {
          "output_type": "stream",
          "name": "stdout",
          "text": [
            "tensor([[1., 0., 0., 0., 0., 0.],\n",
            "        [0., 1., 0., 0., 0., 0.],\n",
            "        [0., 0., 1., 0., 0., 0.],\n",
            "        [0., 0., 0., 1., 0., 0.],\n",
            "        [0., 0., 0., 0., 1., 0.]])\n"
          ]
        }
      ]
    },
    {
      "cell_type": "code",
      "source": [
        "# Переведите его в формат numpy\n",
        "\n",
        "e = torch.ones(5)\n",
        "print(e)"
      ],
      "metadata": {
        "colab": {
          "base_uri": "https://localhost:8080/"
        },
        "id": "IL8XxftBVXpN",
        "outputId": "848a96f1-8acb-443d-e69f-73e543580df5"
      },
      "execution_count": 63,
      "outputs": [
        {
          "output_type": "stream",
          "name": "stdout",
          "text": [
            "tensor([1., 1., 1., 1., 1.])\n"
          ]
        }
      ]
    },
    {
      "cell_type": "code",
      "source": [
        "# Создайте тензор из единиц размера 5x6\n",
        "\n",
        "on  = torch.ones(5, 6)\n",
        "print(on)"
      ],
      "metadata": {
        "colab": {
          "base_uri": "https://localhost:8080/"
        },
        "id": "Zi_Lw_cQXOeV",
        "outputId": "6a32409e-4c97-476d-d539-529a1a92394a"
      },
      "execution_count": 64,
      "outputs": [
        {
          "output_type": "stream",
          "name": "stdout",
          "text": [
            "tensor([[1., 1., 1., 1., 1., 1.],\n",
            "        [1., 1., 1., 1., 1., 1.],\n",
            "        [1., 1., 1., 1., 1., 1.],\n",
            "        [1., 1., 1., 1., 1., 1.],\n",
            "        [1., 1., 1., 1., 1., 1.]])\n"
          ]
        }
      ]
    }
  ],
  "metadata": {
    "accelerator": "GPU",
    "colab": {
      "provenance": [],
      "include_colab_link": true
    },
    "gpuClass": "standard",
    "kernelspec": {
      "display_name": "Python 3",
      "language": "python",
      "name": "python3"
    },
    "language_info": {
      "codemirror_mode": {
        "name": "ipython",
        "version": 3
      },
      "file_extension": ".py",
      "mimetype": "text/x-python",
      "name": "python",
      "nbconvert_exporter": "python",
      "pygments_lexer": "ipython3",
      "version": "3.10.9"
    }
  },
  "nbformat": 4,
  "nbformat_minor": 0
}