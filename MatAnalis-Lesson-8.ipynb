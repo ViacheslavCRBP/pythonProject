{
 "cells": [
  {
   "cell_type": "markdown",
   "id": "84634543",
   "metadata": {},
   "source": [
    "## Теория вероятностей и математическая статистика\n",
    "## Урок 8\n",
    "### Дисперсионный анализ. Факторный анализ. Логистическая регрессия."
   ]
  },
  {
   "cell_type": "markdown",
   "id": "04c2459a",
   "metadata": {},
   "source": [
    "### Задача 1:  \n",
    "**Провести дисперсионный анализ для определения того, есть ли различия среднего роста среди взрослых футболистов, хоккеистов и штангистов. Даны значения роста в трех группах случайно выбранных спортсменов: Футболисты: 173, 175, 180, 178, 177, 185, 183, 182. Хоккеисты: 177, 179, 180, 188, 177, 172, 171, 184, 180. Штангисты: 172, 173, 169, 177, 166, 180, 178, 177, 172, 166, 170. alpha = 0.05.**"
   ]
  },
  {
   "cell_type": "code",
   "execution_count": 198,
   "id": "4dd4a5be",
   "metadata": {},
   "outputs": [],
   "source": [
    "import numpy as np\n",
    "import pandas as pd\n",
    "import matplotlib.pyplot as plt\n",
    "import scipy.stats as stats"
   ]
  },
  {
   "cell_type": "code",
   "execution_count": 199,
   "id": "8ec01eaa",
   "metadata": {},
   "outputs": [
    {
     "name": "stdout",
     "output_type": "stream",
     "text": [
      " foot=> [173. 175. 180. 178. 177. 185. 183. 182.]\n",
      " hockey=> [177. 179. 180. 188. 177. 172. 171. 184. 180.]\n",
      " lifters=> [172. 173. 169. 177. 166. 180. 178. 177. 172. 166. 170.]\n",
      "\n"
     ]
    }
   ],
   "source": [
    "# Имеем массивы\n",
    "foot = np.array ([173, 175, 180, 178, 177, 185, 183, 182], dtype=np.float64)\n",
    "hockey = np.array ([177, 179, 180, 188, 177, 172, 171, 184, 180], dtype=np.float64)\n",
    "lifters = np.array ([172, 173, 169, 177, 166, 180, 178, 177, 172, 166, 170], dtype=np.float64)\n",
    "print(f' foot=> {foot}\\n hockey=> {hockey}\\n lifters=> {lifters}\\n')"
   ]
  },
  {
   "cell_type": "markdown",
   "id": "1c1c9383",
   "metadata": {},
   "source": [
    "На каждом уровне может быть свое число наблюдений  ni.  \n",
    "Общее число наблюдений — это сумма наблюдений на всех уровнях:\n",
    "$$n = \\sum\\limits_{i=1}^{k}n_i$$"
   ]
  },
  {
   "cell_type": "code",
   "execution_count": 200,
   "id": "16ab99bf",
   "metadata": {},
   "outputs": [
    {
     "name": "stdout",
     "output_type": "stream",
     "text": [
      " n1=8\n",
      " n2=9\n",
      " n3=11\n",
      " n = 28\n",
      " k = 3\n"
     ]
    }
   ],
   "source": [
    "# Ищем длину массивов:\n",
    "n1 = len(foot)\n",
    "n2 = len(hockey)\n",
    "n3 = len(lifters)\n",
    "n = n1+n2+n3\n",
    "k = 3 \n",
    "print(f' n1={n1}\\n n2={n2}\\n n3={n3}\\n n = {n}\\n k = {k}')"
   ]
  },
  {
   "cell_type": "markdown",
   "id": "2c212dd6",
   "metadata": {},
   "source": [
    "По данным $y_{ij}$ определяется $\\overline{y}_{i}$ — среднее значение переменной Y на i-м уровне: \n",
    "$$\\overline{y}_{i} = \\frac{1}{n_i}\\sum\\limits_{j=1}^{n_i}y_{ij}$$"
   ]
  },
  {
   "cell_type": "code",
   "execution_count": 201,
   "id": "b11e0770",
   "metadata": {},
   "outputs": [
    {
     "name": "stdout",
     "output_type": "stream",
     "text": [
      " 179.125\n",
      " 178.66666666666666\n",
      " 172.72727272727272\n",
      "\n"
     ]
    }
   ],
   "source": [
    "# Ищем средние значения по массивам\n",
    "foot_mean = np.mean(foot)\n",
    "hockey_mean = np.mean(hockey)\n",
    "lifters_mean = np.mean(lifters)\n",
    "\n",
    "print(f' {foot_mean}\\n {hockey_mean}\\n {lifters_mean}\\n')"
   ]
  },
  {
   "cell_type": "markdown",
   "id": "2b5f65ac",
   "metadata": {},
   "source": [
    "*Очевидно, что средний рост хоккеистов и футболистов почти равны. Штангисты ниже примерно на 10%.*"
   ]
  },
  {
   "cell_type": "markdown",
   "id": "6c3e7cd1",
   "metadata": {},
   "source": [
    "Проверим статистическую значимость всех отличий.\n",
    "\n",
    "$\\overline{Y}$ — среднее значение переменной Y по всем значениям:\n",
    "$$\\overline{Y} = \\frac{1}{n}\\sum\\limits_{i=1}^{k}\\sum\\limits_{j=1}^{n_i}y_{ij} = \\frac{1}{n}\\sum\\limits_{i=1}^{k}\\overline{y}_{i}n_{i}$$"
   ]
  },
  {
   "cell_type": "code",
   "execution_count": 202,
   "id": "444e47f0",
   "metadata": {},
   "outputs": [
    {
     "name": "stdout",
     "output_type": "stream",
     "text": [
      "[173. 175. 180. 178. 177. 185. 183. 182. 177. 179. 180. 188. 177. 172.\n",
      " 171. 184. 180. 172. 173. 169. 177. 166. 180. 178. 177. 172. 166. 170.]\n"
     ]
    }
   ],
   "source": [
    "# Сводим все данные в один массив:\n",
    "y = np.concatenate([foot, hockey, lifters])\n",
    "print(y)"
   ]
  },
  {
   "cell_type": "code",
   "execution_count": 203,
   "id": "18719ef7",
   "metadata": {},
   "outputs": [
    {
     "data": {
      "text/plain": [
       "176.46428571428572"
      ]
     },
     "execution_count": 203,
     "metadata": {},
     "output_type": "execute_result"
    }
   ],
   "source": [
    "# ищем среднее значение переменной Y по всем значениям:\n",
    "y_mean = np.mean(y)\n",
    "y_mean"
   ]
  },
  {
   "cell_type": "markdown",
   "id": "509f516e",
   "metadata": {},
   "source": [
    "Найдём значение $S^2$ — сумма квадратов отклонений наблюдений от общего среднего:\n",
    "$$S^2 = \\sum\\limits_{i=1}^{k}\\sum\\limits_{j=1}^{n_i}({y}_{ij} - \\overline{Y})^2$$"
   ]
  },
  {
   "cell_type": "code",
   "execution_count": 204,
   "id": "3951af01",
   "metadata": {},
   "outputs": [
    {
     "data": {
      "text/plain": [
       "831.0"
      ]
     },
     "execution_count": 204,
     "metadata": {},
     "output_type": "execute_result"
    }
   ],
   "source": [
    "S2 = round(np.sum((foot - y_mean)**2) + np.sum((hockey - y_mean)**2) + np.sum((lifters - y_mean)**2), 0)\n",
    "S2"
   ]
  },
  {
   "cell_type": "markdown",
   "id": "3fa635f9",
   "metadata": {},
   "source": [
    "Найдём значение $S_F^2$ — сумма квадратов отклонений средних групповых значений от общего среднего значения $\\overline{Y}$:\n",
    "$$S_F^2 = \\sum\\limits_{i=1}^{k}(\\overline{y}_i - \\overline{Y})^2n_i$$"
   ]
  },
  {
   "cell_type": "code",
   "execution_count": 205,
   "id": "e3e1f0c7",
   "metadata": {},
   "outputs": [
    {
     "data": {
      "text/plain": [
       "254.0"
      ]
     },
     "execution_count": 205,
     "metadata": {},
     "output_type": "execute_result"
    }
   ],
   "source": [
    "S2_F = round(n1 *(foot_mean - y_mean)**2 + n2 *(hockey_mean - y_mean)**2 + n3 *(lifters_mean - y_mean)**2, 0)\n",
    "S2_F"
   ]
  },
  {
   "cell_type": "markdown",
   "id": "5b331205",
   "metadata": {},
   "source": [
    "Найдём значение $S_{ост}^2$ — остаточная сумма квадратов отклонений:\n",
    "$$S_{ост}^{2} = \\sum\\limits_{i=1}^{k}\\sum\\limits_{j=1}^{n_i}(y_{ij} - \\overline{y}_i)^2$$"
   ]
  },
  {
   "cell_type": "code",
   "execution_count": 206,
   "id": "7877dcaf",
   "metadata": {},
   "outputs": [
    {
     "data": {
      "text/plain": [
       "577.0"
      ]
     },
     "execution_count": 206,
     "metadata": {},
     "output_type": "execute_result"
    }
   ],
   "source": [
    "S2_res = round(np.sum((foot - foot_mean)**2) + np.sum((hockey - hockey_mean)**2) + np.sum((lifters - lifters_mean)**2), 0)\n",
    "S2_res"
   ]
  },
  {
   "cell_type": "markdown",
   "id": "39f72c29",
   "metadata": {},
   "source": [
    "Cумма квадратов отклонений наблюдений от общего среднего дожна быть равна:\n",
    "$$S^2 = S_F^2 + S_{ост}^2$$"
   ]
  },
  {
   "cell_type": "code",
   "execution_count": 207,
   "id": "c00bc884",
   "metadata": {},
   "outputs": [
    {
     "data": {
      "text/plain": [
       "True"
      ]
     },
     "execution_count": 207,
     "metadata": {},
     "output_type": "execute_result"
    }
   ],
   "source": [
    "# Проверим сумму квадратов отклонений наблюдений:\n",
    "S2 == S2_F + S2_res"
   ]
  },
  {
   "cell_type": "markdown",
   "id": "a00be406",
   "metadata": {},
   "source": [
    "Отклонения посчитаные верно, теперь ищем дисперсию.\n",
    "\n",
    "Общая дисперсия:\n",
    "$$\\sigma_{общ}^{2} = \\frac{S^2}{n - 1} = \\frac{1}{n-1}\\sum\\limits_{i=1}^{k}\\sum\\limits_{j=1}^{n_i}(y_{ij} - \\overline{Y})^2$$"
   ]
  },
  {
   "cell_type": "code",
   "execution_count": 208,
   "id": "49e3f93a",
   "metadata": {},
   "outputs": [
    {
     "data": {
      "text/plain": [
       "30.7778"
      ]
     },
     "execution_count": 208,
     "metadata": {},
     "output_type": "execute_result"
    }
   ],
   "source": [
    "sigma2_O = round(S2 /(n-1), 4)\n",
    "sigma2_O"
   ]
  },
  {
   "cell_type": "markdown",
   "id": "926a7898",
   "metadata": {},
   "source": [
    "Факторная дисперсия:\n",
    "$$\\sigma_{F}^{2} = \\frac{S_{F}^{2}}{k-1} = \\frac{1}{k-1}\\sum\\limits_{i=1}^{k}(\\overline{y}_i - \\overline{Y})^{2}n_i$$"
   ]
  },
  {
   "cell_type": "code",
   "execution_count": 209,
   "id": "592897fb",
   "metadata": {},
   "outputs": [
    {
     "data": {
      "text/plain": [
       "127.0"
      ]
     },
     "execution_count": 209,
     "metadata": {},
     "output_type": "execute_result"
    }
   ],
   "source": [
    "sigma2_F = S2_F / (k-1)\n",
    "sigma2_F"
   ]
  },
  {
   "cell_type": "markdown",
   "id": "77cda0ee",
   "metadata": {},
   "source": [
    "Остаточная дисперсия:\n",
    "$$\\sigma_{ост}^{2} = \\frac{S_{ост}^{2}}{n - k} = \\frac{1}{n - k}\\sum\\limits_{i=1}^{k}\\sum\\limits_{j=1}^{n_i}(y_{ij} - \\overline{y}_i)^2$$"
   ]
  },
  {
   "cell_type": "code",
   "execution_count": 210,
   "id": "ddab752c",
   "metadata": {},
   "outputs": [
    {
     "data": {
      "text/plain": [
       "23.08"
      ]
     },
     "execution_count": 210,
     "metadata": {},
     "output_type": "execute_result"
    }
   ],
   "source": [
    "sigma2_res = S2_res / (n-k)\n",
    "sigma2_res"
   ]
  },
  {
   "cell_type": "markdown",
   "id": "19d8ca5d",
   "metadata": {},
   "source": [
    "В дисперсионном анализе проверяется гипотеза $H_0$ о равенстве средних групповых значений количественного показателя:\n",
    "$$(H_0: \\overline{y}_1 = \\overline{y}_2 = ... = \\overline{y}_k).$$\n",
    "\n",
    "Чтобы проверить эту гипотезу, необходимо воспользоваться соотношением:\n",
    "$$F_H = \\frac{\\sigma_{F}^{2}}{\\sigma_{ост}^{2}}$$\n",
    "\n",
    "*Если значение  FH  превышает  Fкрит  из таблицы критических точек распределения Фишера-Снедекора для заданного уровня значимости  α  двух степеней свободы  dfмежд=k−1  (относится к числителю соотношения) и  dfвнутр=n−k  (относится к знаменателю), то выборки имеют разные средние значения.*"
   ]
  },
  {
   "cell_type": "code",
   "execution_count": 211,
   "id": "32400913",
   "metadata": {},
   "outputs": [
    {
     "data": {
      "text/plain": [
       "5.50259965337955"
      ]
     },
     "execution_count": 211,
     "metadata": {},
     "output_type": "execute_result"
    }
   ],
   "source": [
    "# Получаем значение статистики T:\n",
    "T = sigma2_F / sigma2_res\n",
    "T"
   ]
  },
  {
   "cell_type": "markdown",
   "id": "cc2e4c0d",
   "metadata": {},
   "source": [
    "Зафиксируем уровень значимости ${\\alpha} = 0.05$. Для него найдём критическое значение $F_{crit}$ по таблице Фишера-Снедекора:"
   ]
  },
  {
   "cell_type": "code",
   "execution_count": 212,
   "id": "3ee77f45",
   "metadata": {},
   "outputs": [
    {
     "data": {
      "text/plain": [
       "3.3851899614491687"
      ]
     },
     "execution_count": 212,
     "metadata": {},
     "output_type": "execute_result"
    }
   ],
   "source": [
    "alpha = 0.05\n",
    "F_crit = stats.f.ppf(1 - alpha, k1, k2)\n",
    "F_crit"
   ]
  },
  {
   "cell_type": "code",
   "execution_count": 213,
   "id": "80a4bf58",
   "metadata": {},
   "outputs": [
    {
     "data": {
      "text/plain": [
       "True"
      ]
     },
     "execution_count": 213,
     "metadata": {},
     "output_type": "execute_result"
    }
   ],
   "source": [
    "T > F_crit"
   ]
  },
  {
   "cell_type": "markdown",
   "id": "36243976",
   "metadata": {},
   "source": [
    "**Подтверждается, что $T > F_{crit}$, поэтому отличие среднего роста футболистов, хокеистов и штангистов является статистически значимым.**"
   ]
  },
  {
   "cell_type": "markdown",
   "id": "77dde878",
   "metadata": {},
   "source": [
    "*Для проверки воспользуемся встроенным методом однофакторного дисперсионного анализа библиотеки scipy:*"
   ]
  },
  {
   "cell_type": "code",
   "execution_count": 214,
   "id": "d08f8de8",
   "metadata": {},
   "outputs": [
    {
     "data": {
      "text/plain": [
       "F_onewayResult(statistic=5.500053450812596, pvalue=0.010482206918698694)"
      ]
     },
     "execution_count": 214,
     "metadata": {},
     "output_type": "execute_result"
    }
   ],
   "source": [
    "stats.f_oneway(foot, hockey, lifters)"
   ]
  },
  {
   "cell_type": "markdown",
   "id": "702b7513",
   "metadata": {},
   "source": [
    "Получили значение pvalue=0.0105, и значит на уровне статистической значимости  ${\\alpha} = 0.05$ отвергаем нулевую гипотезу. \n",
    "\n",
    "**Т.е. средний рост футболистов, хоккеистов и штангистоа различен.**"
   ]
  },
  {
   "cell_type": "markdown",
   "id": "c20ca0aa",
   "metadata": {},
   "source": [
    "Важно проверить ещё одно соотношение:\n",
    "$$\\eta^{2} = \\frac{S_{F}^{2}}{S_{общ}^{2}}$$\n",
    "*Чем больше значение  η2  (греч. «эта», обозначает эмпирическое корреляционное отношение, располагается между 0 и 1), тем больше вероятность, что выборки имеют разные средние значения.*"
   ]
  },
  {
   "cell_type": "code",
   "execution_count": 215,
   "id": "261864da",
   "metadata": {},
   "outputs": [
    {
     "data": {
      "text/plain": [
       "0.3056558363417569"
      ]
     },
     "execution_count": 215,
     "metadata": {},
     "output_type": "execute_result"
    }
   ],
   "source": [
    "nu_2 = S2_F / S2\n",
    "nu_2"
   ]
  },
  {
   "cell_type": "markdown",
   "id": "c0cc781b",
   "metadata": {},
   "source": [
    "**ВЫВОД:\n",
    "принято считать, что при значениях  η2  ниже 0.2-0.3 групповые значения средних не имеют статистически достоверного отличия.\n",
    "В нашем случае значение  η2=0.31 и превышает 0.3, а значит различие среднего роста в трех группах спортсменов является статистически значимым.**"
   ]
  },
  {
   "cell_type": "code",
   "execution_count": null,
   "id": "4928d531",
   "metadata": {},
   "outputs": [],
   "source": []
  }
 ],
 "metadata": {
  "kernelspec": {
   "display_name": "Python 3 (ipykernel)",
   "language": "python",
   "name": "python3"
  },
  "language_info": {
   "codemirror_mode": {
    "name": "ipython",
    "version": 3
   },
   "file_extension": ".py",
   "mimetype": "text/x-python",
   "name": "python",
   "nbconvert_exporter": "python",
   "pygments_lexer": "ipython3",
   "version": "3.9.12"
  }
 },
 "nbformat": 4,
 "nbformat_minor": 5
}
