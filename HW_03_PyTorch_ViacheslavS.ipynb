{
  "cells": [
    {
      "cell_type": "markdown",
      "metadata": {
        "id": "view-in-github",
        "colab_type": "text"
      },
      "source": [
        "<a href=\"https://colab.research.google.com/github/ViacheslavCRBP/pythonProject/blob/MLB/HW_03_PyTorch_ViacheslavS.ipynb\" target=\"_parent\"><img src=\"https://colab.research.google.com/assets/colab-badge.svg\" alt=\"Open In Colab\"/></a>"
      ]
    },
    {
      "cell_type": "code",
      "source": [],
      "metadata": {
        "id": "23gJUIrzFnSD"
      },
      "execution_count": null,
      "outputs": []
    },
    {
      "cell_type": "markdown",
      "metadata": {
        "id": "pUFb7BDsFg8C"
      },
      "source": [
        "# Урок 3.\n",
        "\n",
        "Dataset, Dataloader, BatchNorm, Dropout, Оптимизация"
      ]
    },
    {
      "cell_type": "markdown",
      "source": [
        "1) Создать Dataset для загрузки данных (sklearn.datasets, fetch_california_housing)  \n",
        "2) Обернуть его в Dataloader  \n",
        "3) Написать архитектуру сети, которая предсказывает стоимость недвижимости. Сеть должна включать BatchNorm слои и Dropout (или НЕ включать, но нужно обосновать)  \n",
        "4) Сравните сходимость Adam, RMSProp и SGD, сделайте вывод по качеству работы модели train-test разделение нужно сделать с помощью sklearn random_state=13, test_size = 0.25"
      ],
      "metadata": {
        "id": "B3o11uvS7Lv1"
      }
    },
    {
      "cell_type": "code",
      "execution_count": null,
      "metadata": {
        "id": "qkgnLdFcFg8K"
      },
      "outputs": [],
      "source": [
        "# Сделаем необходимые импорты\n",
        "\n",
        "import numpy as np\n",
        "import pandas as pd\n",
        "\n",
        "import torch\n",
        "from torch import nn\n",
        "from torch.optim import Adam, RMSprop, SGD\n",
        "from torch.utils.data import DataLoader, Dataset\n",
        "\n",
        "from sklearn.datasets import fetch_california_housing\n",
        "from sklearn.model_selection import train_test_split\n",
        "from sklearn.preprocessing import StandardScaler"
      ]
    },
    {
      "cell_type": "code",
      "execution_count": null,
      "metadata": {
        "id": "wF5AX8ZwFg8O"
      },
      "outputs": [],
      "source": [
        "DEVICE = torch.device(\"cuda\" if torch.cuda.is_available() else \"cpu\")\n",
        "EPOCHES = 10\n",
        "LR = 0.01"
      ]
    },
    {
      "cell_type": "code",
      "execution_count": null,
      "metadata": {
        "id": "MXBBI1bDFg8R"
      },
      "outputs": [],
      "source": [
        "class CHDataset(Dataset):\n",
        "  def __init__(self, *init_datasets):\n",
        "    assert all(init_datasets[0].size(0) == init_dataset.size(0) for init_dataset in init_datasets), \"Несоотвутствует размерность среди dataset\"\n",
        "    self._base_datasets = init_datasets\n",
        "\n",
        "  def __len__(self):\n",
        "    return self._base_datasets[0].size(0)\n",
        "\n",
        "  def __getitem__(self, idx):\n",
        "      return tuple(base_dataset[idx] for base_dataset in self._base_datasets)"
      ]
    },
    {
      "cell_type": "code",
      "source": [
        "class CHNet(nn.Module):\n",
        "  def __init__(self) -> None:\n",
        "      super(CHNet, self).__init__()\n",
        "      self.block_1 = nn.Sequential(\n",
        "          nn.Linear(in_features=8, out_features=100, bias=True),\n",
        "          nn.Dropout(0.1),\n",
        "          nn.BatchNorm1d(100),\n",
        "          nn.ReLU())\n",
        "      self.block_2 = nn.Sequential(\n",
        "          nn.Linear(in_features=100, out_features=100, bias=True),\n",
        "          nn.Dropout(0.2),\n",
        "          nn.BatchNorm1d(100),\n",
        "          nn.ReLU())\n",
        "      self.block_3 = nn.Sequential(\n",
        "          nn.Linear(in_features=100, out_features=60, bias=True),\n",
        "          nn.Dropout(0.2),\n",
        "          nn.BatchNorm1d(60),\n",
        "          nn.ReLU())\n",
        "      self.block_4 = nn.Sequential(\n",
        "          nn.Linear(in_features=60, out_features=30),\n",
        "          nn.Dropout(0.2),\n",
        "          nn.BatchNorm1d(30),\n",
        "          nn.ReLU())\n",
        "      self.predict = nn.Sequential(\n",
        "          nn.Linear(in_features=30, out_features=1, bias=True),\n",
        "          nn.BatchNorm1d(1),\n",
        "          nn.ReLU())\n",
        "\n",
        "  def forward(self, inp):\n",
        "    out = self.block_1(inp)\n",
        "    out = self.block_2(out)\n",
        "    out = self.block_3(out)\n",
        "    out = self.block_4(out)\n",
        "    out = self.predict(out)\n",
        "    return out[:, 0]"
      ],
      "metadata": {
        "id": "aHKMWS5h8hZ_"
      },
      "execution_count": null,
      "outputs": []
    },
    {
      "cell_type": "code",
      "source": [
        "def train_loop(train_loader, test_loader, net, optimizer):\n",
        "  loss_fn = nn.MSELoss()\n",
        "  best_acc = {'train': None, 'test': None}\n",
        "  net.train()\n",
        "  for epoch in range(EPOCHES):\n",
        "    running_loss, running_items, running_right = 0.0, 0.0, 0.0\n",
        "    for i, (inputs, labels) in enumerate(train_loader):\n",
        "\n",
        "        outputs = net(inputs)\n",
        "        loss = loss_fn(outputs, labels)\n",
        "\n",
        "        # обнуляем градиент\n",
        "        optimizer.zero_grad()\n",
        "        loss.backward()\n",
        "        optimizer.step()\n",
        "\n",
        "        # выводим статистику о процессе обучения\n",
        "        running_loss += loss.item()\n",
        "        running_items += len(labels)\n",
        "\n",
        "        # выводим статистику о процессе обучения\n",
        "        if i % 150 == 0 or (i + 1) == len(train_loader):    # печатаем каждые 150 mini-batches\n",
        "            net.eval()\n",
        "\n",
        "            test_loss, test_running_total, test_loss  = 0.0, 0.0, 0.0\n",
        "            for y, (out_test, lbl_test) in enumerate(test_loader):\n",
        "                test_outputs = net(out_test)\n",
        "                test_loss += loss_fn(test_outputs, lbl_test)\n",
        "                test_running_total += len(lbl_test)\n",
        "\n",
        "            res_loss_train = running_loss / running_items\n",
        "            res_loss_test = test_loss / test_running_total\n",
        "\n",
        "            if best_acc['train'] is None or res_loss_train < best_acc['train']:\n",
        "              best_acc['train'] = res_loss_train\n",
        "\n",
        "            if best_acc['test'] is None or res_loss_test < best_acc['test']:\n",
        "              best_acc['test'] = res_loss_train\n",
        "\n",
        "            print(f'Epoch [{epoch + 1}/{EPOCHES}]. ' \\\n",
        "                  f'Step [{i + 1}/{len(train_loader)}]. ' \\\n",
        "                  f'Loss: {res_loss_train:.3f}. '\\\n",
        "                  f'Test acc: {res_loss_test:.3f}.')\n",
        "\n",
        "            running_loss, running_items = 0.0, 0.0\n",
        "            net.train()\n",
        "  print(f\"Best acc train: {best_acc['train']:.3f}. Best acc test: {best_acc['test']:.3f}\")\n",
        "  print('Training is finished!')"
      ],
      "metadata": {
        "id": "d1gs2Kdu8iFH"
      },
      "execution_count": null,
      "outputs": []
    },
    {
      "cell_type": "code",
      "source": [
        "california_housing = fetch_california_housing()\n",
        "# Разделим на тестовые и тренеровочные данные\n",
        "\n",
        "X_train, X_test, y_train, y_test = train_test_split(california_housing.data, california_housing.target, test_size=0.25, random_state=13)"
      ],
      "metadata": {
        "id": "whhJnkwY8iIJ"
      },
      "execution_count": null,
      "outputs": []
    },
    {
      "cell_type": "code",
      "source": [
        "# Нормализуем данные и подготовим их для дальнейшего использования в нашем dstaset\n",
        "\n",
        "scale = StandardScaler()\n",
        "X_train_s = scale.fit_transform(X_train)\n",
        "X_test_s = scale.transform(X_test)"
      ],
      "metadata": {
        "id": "YbMX6MJB8iK1"
      },
      "execution_count": null,
      "outputs": []
    },
    {
      "cell_type": "code",
      "source": [
        "train_xt = torch.from_numpy(X_train_s.astype(np.float32)).to(DEVICE)\n",
        "train_yt = torch.from_numpy(y_train.astype(np.float32)).to(DEVICE)\n",
        "\n",
        "test_xt = torch.from_numpy(X_test_s.astype(np.float32)).to(DEVICE)\n",
        "test_yt = torch.from_numpy(y_test.astype(np.float32)).to(DEVICE)"
      ],
      "metadata": {
        "id": "8FUCexfQ8iNL"
      },
      "execution_count": null,
      "outputs": []
    },
    {
      "cell_type": "code",
      "source": [
        "train_dataset = CHDataset(train_xt, train_yt)\n",
        "test_dataset = CHDataset(test_xt, test_yt)"
      ],
      "metadata": {
        "id": "saPlB_LQ8iPt"
      },
      "execution_count": null,
      "outputs": []
    },
    {
      "cell_type": "code",
      "source": [
        "train_loader = DataLoader(train_dataset, batch_size=64, shuffle=True, num_workers=2, drop_last=True)\n",
        "test_loader = DataLoader(test_dataset, batch_size=64, shuffle=True, num_workers=2, drop_last=True)"
      ],
      "metadata": {
        "id": "3nMZT4z68iT9"
      },
      "execution_count": null,
      "outputs": []
    },
    {
      "cell_type": "markdown",
      "source": [
        "# Adam"
      ],
      "metadata": {
        "id": "kwzgUhaE9PzF"
      }
    },
    {
      "cell_type": "code",
      "source": [
        "net = CHNet().to(DEVICE)\n",
        "optimizer = Adam(net.parameters(), lr=LR)"
      ],
      "metadata": {
        "id": "TnilndKG9QwJ"
      },
      "execution_count": null,
      "outputs": []
    },
    {
      "cell_type": "code",
      "source": [
        "%%time\n",
        "train_loop(train_loader, test_loader, net, optimizer)"
      ],
      "metadata": {
        "colab": {
          "base_uri": "https://localhost:8080/"
        },
        "id": "AALL977m9UzI",
        "outputId": "025b45b4-b88e-4596-cbe3-87fdb2849605"
      },
      "execution_count": null,
      "outputs": [
        {
          "output_type": "stream",
          "name": "stdout",
          "text": [
            "Epoch [1/10]. Step [1/241]. Loss: 0.072. Test acc: 0.084.\n",
            "Epoch [1/10]. Step [151/241]. Loss: 0.026. Test acc: 0.012.\n",
            "Epoch [1/10]. Step [241/241]. Loss: 0.011. Test acc: 0.011.\n",
            "Epoch [2/10]. Step [1/241]. Loss: 0.013. Test acc: 0.010.\n",
            "Epoch [2/10]. Step [151/241]. Loss: 0.008. Test acc: 0.007.\n",
            "Epoch [2/10]. Step [241/241]. Loss: 0.008. Test acc: 0.011.\n",
            "Epoch [3/10]. Step [1/241]. Loss: 0.006. Test acc: 0.011.\n",
            "Epoch [3/10]. Step [151/241]. Loss: 0.007. Test acc: 0.007.\n",
            "Epoch [3/10]. Step [241/241]. Loss: 0.007. Test acc: 0.006.\n",
            "Epoch [4/10]. Step [1/241]. Loss: 0.009. Test acc: 0.006.\n",
            "Epoch [4/10]. Step [151/241]. Loss: 0.007. Test acc: 0.006.\n",
            "Epoch [4/10]. Step [241/241]. Loss: 0.007. Test acc: 0.006.\n",
            "Epoch [5/10]. Step [1/241]. Loss: 0.006. Test acc: 0.006.\n",
            "Epoch [5/10]. Step [151/241]. Loss: 0.007. Test acc: 0.008.\n",
            "Epoch [5/10]. Step [241/241]. Loss: 0.007. Test acc: 0.008.\n",
            "Epoch [6/10]. Step [1/241]. Loss: 0.004. Test acc: 0.008.\n",
            "Epoch [6/10]. Step [151/241]. Loss: 0.007. Test acc: 0.010.\n",
            "Epoch [6/10]. Step [241/241]. Loss: 0.007. Test acc: 0.007.\n",
            "Epoch [7/10]. Step [1/241]. Loss: 0.010. Test acc: 0.007.\n",
            "Epoch [7/10]. Step [151/241]. Loss: 0.007. Test acc: 0.010.\n",
            "Epoch [7/10]. Step [241/241]. Loss: 0.007. Test acc: 0.006.\n",
            "Epoch [8/10]. Step [1/241]. Loss: 0.007. Test acc: 0.006.\n",
            "Epoch [8/10]. Step [151/241]. Loss: 0.007. Test acc: 0.006.\n",
            "Epoch [8/10]. Step [241/241]. Loss: 0.006. Test acc: 0.012.\n",
            "Epoch [9/10]. Step [1/241]. Loss: 0.006. Test acc: 0.012.\n",
            "Epoch [9/10]. Step [151/241]. Loss: 0.006. Test acc: 0.005.\n",
            "Epoch [9/10]. Step [241/241]. Loss: 0.006. Test acc: 0.007.\n",
            "Epoch [10/10]. Step [1/241]. Loss: 0.008. Test acc: 0.007.\n",
            "Epoch [10/10]. Step [151/241]. Loss: 0.006. Test acc: 0.011.\n",
            "Epoch [10/10]. Step [241/241]. Loss: 0.006. Test acc: 0.005.\n",
            "Best acc train: 0.004. Best acc test: 0.006\n",
            "Training is finished!\n",
            "CPU times: user 24.7 s, sys: 3.92 s, total: 28.6 s\n",
            "Wall time: 42.7 s\n"
          ]
        }
      ]
    },
    {
      "cell_type": "markdown",
      "source": [
        "# RMSProp"
      ],
      "metadata": {
        "id": "nONS7vRx9dHp"
      }
    },
    {
      "cell_type": "code",
      "source": [
        "net = CHNet().to(DEVICE)\n",
        "optimizer = RMSprop(net.parameters(), lr=LR)"
      ],
      "metadata": {
        "id": "RpG8s8ea9XwI"
      },
      "execution_count": null,
      "outputs": []
    },
    {
      "cell_type": "code",
      "source": [
        "%%time\n",
        "train_loop(train_loader, test_loader, net, optimizer)"
      ],
      "metadata": {
        "colab": {
          "base_uri": "https://localhost:8080/"
        },
        "id": "yw2Pf_rY9iU-",
        "outputId": "fb021bb1-a439-4a16-a6fd-ef548f14d651"
      },
      "execution_count": null,
      "outputs": [
        {
          "output_type": "stream",
          "name": "stdout",
          "text": [
            "Epoch [1/10]. Step [1/241]. Loss: 0.072. Test acc: 0.088.\n",
            "Epoch [1/10]. Step [151/241]. Loss: 0.015. Test acc: 0.009.\n",
            "Epoch [1/10]. Step [241/241]. Loss: 0.009. Test acc: 0.007.\n",
            "Epoch [2/10]. Step [1/241]. Loss: 0.005. Test acc: 0.007.\n",
            "Epoch [2/10]. Step [151/241]. Loss: 0.008. Test acc: 0.012.\n",
            "Epoch [2/10]. Step [241/241]. Loss: 0.008. Test acc: 0.006.\n",
            "Epoch [3/10]. Step [1/241]. Loss: 0.006. Test acc: 0.006.\n",
            "Epoch [3/10]. Step [151/241]. Loss: 0.007. Test acc: 0.009.\n",
            "Epoch [3/10]. Step [241/241]. Loss: 0.007. Test acc: 0.006.\n",
            "Epoch [4/10]. Step [1/241]. Loss: 0.008. Test acc: 0.006.\n",
            "Epoch [4/10]. Step [151/241]. Loss: 0.007. Test acc: 0.006.\n",
            "Epoch [4/10]. Step [241/241]. Loss: 0.007. Test acc: 0.012.\n",
            "Epoch [5/10]. Step [1/241]. Loss: 0.004. Test acc: 0.011.\n",
            "Epoch [5/10]. Step [151/241]. Loss: 0.007. Test acc: 0.006.\n",
            "Epoch [5/10]. Step [241/241]. Loss: 0.007. Test acc: 0.008.\n",
            "Epoch [6/10]. Step [1/241]. Loss: 0.007. Test acc: 0.008.\n",
            "Epoch [6/10]. Step [151/241]. Loss: 0.006. Test acc: 0.011.\n",
            "Epoch [6/10]. Step [241/241]. Loss: 0.006. Test acc: 0.005.\n",
            "Epoch [7/10]. Step [1/241]. Loss: 0.005. Test acc: 0.006.\n",
            "Epoch [7/10]. Step [151/241]. Loss: 0.006. Test acc: 0.012.\n",
            "Epoch [7/10]. Step [241/241]. Loss: 0.006. Test acc: 0.008.\n",
            "Epoch [8/10]. Step [1/241]. Loss: 0.005. Test acc: 0.007.\n",
            "Epoch [8/10]. Step [151/241]. Loss: 0.006. Test acc: 0.005.\n",
            "Epoch [8/10]. Step [241/241]. Loss: 0.006. Test acc: 0.007.\n",
            "Epoch [9/10]. Step [1/241]. Loss: 0.003. Test acc: 0.006.\n",
            "Epoch [9/10]. Step [151/241]. Loss: 0.006. Test acc: 0.009.\n",
            "Epoch [9/10]. Step [241/241]. Loss: 0.006. Test acc: 0.010.\n",
            "Epoch [10/10]. Step [1/241]. Loss: 0.003. Test acc: 0.009.\n",
            "Epoch [10/10]. Step [151/241]. Loss: 0.006. Test acc: 0.005.\n",
            "Epoch [10/10]. Step [241/241]. Loss: 0.006. Test acc: 0.006.\n",
            "Best acc train: 0.003. Best acc test: 0.006\n",
            "Training is finished!\n",
            "CPU times: user 21.3 s, sys: 3.65 s, total: 24.9 s\n",
            "Wall time: 37 s\n"
          ]
        }
      ]
    },
    {
      "cell_type": "markdown",
      "source": [
        "# SGD"
      ],
      "metadata": {
        "id": "hQXPycej9pN-"
      }
    },
    {
      "cell_type": "code",
      "source": [
        "net = CHNet().to(DEVICE)\n",
        "optimizer = SGD(net.parameters(), lr=LR)"
      ],
      "metadata": {
        "id": "PETbu5kD9iZK"
      },
      "execution_count": null,
      "outputs": []
    },
    {
      "cell_type": "code",
      "source": [
        "%%time\n",
        "train_loop(train_loader, test_loader, net, optimizer)"
      ],
      "metadata": {
        "colab": {
          "base_uri": "https://localhost:8080/"
        },
        "id": "369pHRXQ9icz",
        "outputId": "6acc799b-0892-4fa2-9dee-abf8c6a2ed13"
      },
      "execution_count": null,
      "outputs": [
        {
          "output_type": "stream",
          "name": "stdout",
          "text": [
            "Epoch [1/10]. Step [1/241]. Loss: 0.079. Test acc: 0.086.\n",
            "Epoch [1/10]. Step [151/241]. Loss: 0.026. Test acc: 0.011.\n",
            "Epoch [1/10]. Step [241/241]. Loss: 0.012. Test acc: 0.011.\n",
            "Epoch [2/10]. Step [1/241]. Loss: 0.011. Test acc: 0.011.\n",
            "Epoch [2/10]. Step [151/241]. Loss: 0.010. Test acc: 0.011.\n",
            "Epoch [2/10]. Step [241/241]. Loss: 0.010. Test acc: 0.009.\n",
            "Epoch [3/10]. Step [1/241]. Loss: 0.011. Test acc: 0.009.\n",
            "Epoch [3/10]. Step [151/241]. Loss: 0.009. Test acc: 0.008.\n",
            "Epoch [3/10]. Step [241/241]. Loss: 0.009. Test acc: 0.007.\n",
            "Epoch [4/10]. Step [1/241]. Loss: 0.010. Test acc: 0.007.\n",
            "Epoch [4/10]. Step [151/241]. Loss: 0.008. Test acc: 0.007.\n",
            "Epoch [4/10]. Step [241/241]. Loss: 0.008. Test acc: 0.008.\n",
            "Epoch [5/10]. Step [1/241]. Loss: 0.004. Test acc: 0.008.\n",
            "Epoch [5/10]. Step [151/241]. Loss: 0.008. Test acc: 0.007.\n",
            "Epoch [5/10]. Step [241/241]. Loss: 0.007. Test acc: 0.006.\n",
            "Epoch [6/10]. Step [1/241]. Loss: 0.009. Test acc: 0.006.\n",
            "Epoch [6/10]. Step [151/241]. Loss: 0.007. Test acc: 0.007.\n",
            "Epoch [6/10]. Step [241/241]. Loss: 0.007. Test acc: 0.007.\n",
            "Epoch [7/10]. Step [1/241]. Loss: 0.007. Test acc: 0.007.\n",
            "Epoch [7/10]. Step [151/241]. Loss: 0.007. Test acc: 0.008.\n",
            "Epoch [7/10]. Step [241/241]. Loss: 0.007. Test acc: 0.006.\n",
            "Epoch [8/10]. Step [1/241]. Loss: 0.005. Test acc: 0.006.\n",
            "Epoch [8/10]. Step [151/241]. Loss: 0.007. Test acc: 0.009.\n",
            "Epoch [8/10]. Step [241/241]. Loss: 0.007. Test acc: 0.006.\n",
            "Epoch [9/10]. Step [1/241]. Loss: 0.007. Test acc: 0.006.\n",
            "Epoch [9/10]. Step [151/241]. Loss: 0.007. Test acc: 0.007.\n",
            "Epoch [9/10]. Step [241/241]. Loss: 0.007. Test acc: 0.006.\n",
            "Epoch [10/10]. Step [1/241]. Loss: 0.007. Test acc: 0.006.\n",
            "Epoch [10/10]. Step [151/241]. Loss: 0.007. Test acc: 0.007.\n",
            "Epoch [10/10]. Step [241/241]. Loss: 0.007. Test acc: 0.009.\n",
            "Best acc train: 0.004. Best acc test: 0.005\n",
            "Training is finished!\n",
            "CPU times: user 19.2 s, sys: 3.55 s, total: 22.8 s\n",
            "Wall time: 32.2 s\n"
          ]
        }
      ]
    },
    {
      "cell_type": "markdown",
      "source": [
        "# SGD + Momentum"
      ],
      "metadata": {
        "id": "2sdkVnu591Tc"
      }
    },
    {
      "cell_type": "code",
      "source": [
        "net = CHNet().to(DEVICE)\n",
        "optimizer = SGD(net.parameters(), lr=LR, momentum=0.8)"
      ],
      "metadata": {
        "id": "tOuQDeVF9vsD"
      },
      "execution_count": null,
      "outputs": []
    },
    {
      "cell_type": "code",
      "source": [
        "%%time\n",
        "train_loop(train_loader, test_loader, net, optimizer)"
      ],
      "metadata": {
        "colab": {
          "base_uri": "https://localhost:8080/"
        },
        "id": "1sv4odcO95zf",
        "outputId": "0bae7243-b588-47d8-dda7-b0ca5d3209aa"
      },
      "execution_count": null,
      "outputs": [
        {
          "output_type": "stream",
          "name": "stdout",
          "text": [
            "Epoch [1/10]. Step [1/241]. Loss: 0.082. Test acc: 0.088.\n",
            "Epoch [1/10]. Step [151/241]. Loss: 0.016. Test acc: 0.009.\n",
            "Epoch [1/10]. Step [241/241]. Loss: 0.009. Test acc: 0.007.\n",
            "Epoch [2/10]. Step [1/241]. Loss: 0.007. Test acc: 0.007.\n",
            "Epoch [2/10]. Step [151/241]. Loss: 0.008. Test acc: 0.007.\n",
            "Epoch [2/10]. Step [241/241]. Loss: 0.007. Test acc: 0.006.\n",
            "Epoch [3/10]. Step [1/241]. Loss: 0.006. Test acc: 0.006.\n",
            "Epoch [3/10]. Step [151/241]. Loss: 0.007. Test acc: 0.007.\n",
            "Epoch [3/10]. Step [241/241]. Loss: 0.007. Test acc: 0.007.\n",
            "Epoch [4/10]. Step [1/241]. Loss: 0.005. Test acc: 0.007.\n",
            "Epoch [4/10]. Step [151/241]. Loss: 0.007. Test acc: 0.006.\n",
            "Epoch [4/10]. Step [241/241]. Loss: 0.007. Test acc: 0.007.\n",
            "Epoch [5/10]. Step [1/241]. Loss: 0.007. Test acc: 0.007.\n",
            "Epoch [5/10]. Step [151/241]. Loss: 0.007. Test acc: 0.006.\n",
            "Epoch [5/10]. Step [241/241]. Loss: 0.007. Test acc: 0.006.\n",
            "Epoch [6/10]. Step [1/241]. Loss: 0.007. Test acc: 0.006.\n",
            "Epoch [6/10]. Step [151/241]. Loss: 0.007. Test acc: 0.006.\n",
            "Epoch [6/10]. Step [241/241]. Loss: 0.007. Test acc: 0.006.\n",
            "Epoch [7/10]. Step [1/241]. Loss: 0.006. Test acc: 0.006.\n",
            "Epoch [7/10]. Step [151/241]. Loss: 0.007. Test acc: 0.008.\n",
            "Epoch [7/10]. Step [241/241]. Loss: 0.006. Test acc: 0.006.\n",
            "Epoch [8/10]. Step [1/241]. Loss: 0.005. Test acc: 0.006.\n",
            "Epoch [8/10]. Step [151/241]. Loss: 0.006. Test acc: 0.007.\n",
            "Epoch [8/10]. Step [241/241]. Loss: 0.006. Test acc: 0.006.\n",
            "Epoch [9/10]. Step [1/241]. Loss: 0.008. Test acc: 0.006.\n",
            "Epoch [9/10]. Step [151/241]. Loss: 0.006. Test acc: 0.007.\n",
            "Epoch [9/10]. Step [241/241]. Loss: 0.006. Test acc: 0.006.\n",
            "Epoch [10/10]. Step [1/241]. Loss: 0.005. Test acc: 0.006.\n",
            "Epoch [10/10]. Step [151/241]. Loss: 0.006. Test acc: 0.009.\n",
            "Epoch [10/10]. Step [241/241]. Loss: 0.006. Test acc: 0.006.\n",
            "Best acc train: 0.005. Best acc test: 0.005\n",
            "Training is finished!\n",
            "CPU times: user 18.3 s, sys: 3.59 s, total: 21.9 s\n",
            "Wall time: 30.3 s\n"
          ]
        }
      ]
    },
    {
      "cell_type": "markdown",
      "source": [
        "# Выводы:\n",
        "\n",
        "Adam:   \n",
        "Best acc train: 0.004. Best acc test: 0.006\n",
        "Wall time: 42.7 s\n",
        "\n",
        "RMSProp:   \n",
        "Best acc train: 0.003. Best acc test: 0.006\n",
        "Wall time: 37 s\n",
        "\n",
        "SGD:   \n",
        "Best acc train: 0.004. Best acc test: 0.005\n",
        "Wall time: 32.2 s\n",
        "\n",
        "SGD + Momentum:   \n",
        "Best acc train: 0.005. Best acc test: 0.005\n",
        "Wall time: 30.3 s\n",
        "\n",
        "\n",
        "\n",
        "## SGD + Momentum работает быстрее остальных, и выдал самый лучший показатель на тестах."
      ],
      "metadata": {
        "id": "6PTrUUPp-JLN"
      }
    },
    {
      "cell_type": "code",
      "source": [],
      "metadata": {
        "id": "nuYJTg3Q-QXf"
      },
      "execution_count": null,
      "outputs": []
    }
  ],
  "metadata": {
    "kernelspec": {
      "display_name": "Python 3",
      "language": "python",
      "name": "python3"
    },
    "language_info": {
      "codemirror_mode": {
        "name": "ipython",
        "version": 3
      },
      "file_extension": ".py",
      "mimetype": "text/x-python",
      "name": "python",
      "nbconvert_exporter": "python",
      "pygments_lexer": "ipython3",
      "version": "3.7.4"
    },
    "colab": {
      "provenance": [],
      "include_colab_link": true
    }
  },
  "nbformat": 4,
  "nbformat_minor": 0
}