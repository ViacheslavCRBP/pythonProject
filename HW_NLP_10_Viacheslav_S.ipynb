{
  "nbformat": 4,
  "nbformat_minor": 0,
  "metadata": {
    "accelerator": "GPU",
    "colab": {
      "provenance": [],
      "include_colab_link": true
    },
    "kernelspec": {
      "display_name": "Python 3",
      "name": "python3"
    }
  },
  "cells": [
    {
      "cell_type": "markdown",
      "metadata": {
        "id": "view-in-github",
        "colab_type": "text"
      },
      "source": [
        "<a href=\"https://colab.research.google.com/github/ViacheslavCRBP/pythonProject/blob/master/HW_NLP_10_Viacheslav_S.ipynb\" target=\"_parent\"><img src=\"https://colab.research.google.com/assets/colab-badge.svg\" alt=\"Open In Colab\"/></a>"
      ]
    },
    {
      "cell_type": "markdown",
      "source": [
        "## Домашнее задание\n",
        "\n",
        "Разобраться с моделькой перевода (без механизма внимания) как она устроена, запустить для перевода с русского на английский (при желании можно взять другие пары языков)"
      ],
      "metadata": {
        "id": "4sbtjVDVvSzO"
      }
    },
    {
      "cell_type": "markdown",
      "metadata": {
        "id": "J0Qjg6vuaHNt"
      },
      "source": [
        "# Neural machine translation"
      ]
    },
    {
      "cell_type": "code",
      "metadata": {
        "id": "tnxXKDjq3jEL"
      },
      "source": [
        "import tensorflow as tf\n",
        "\n",
        "import matplotlib.pyplot as plt\n",
        "import matplotlib.ticker as ticker\n",
        "from sklearn.model_selection import train_test_split\n",
        "\n",
        "import unicodedata\n",
        "import re\n",
        "import numpy as np\n",
        "import os\n",
        "import io\n",
        "import time"
      ],
      "execution_count": 1,
      "outputs": []
    },
    {
      "cell_type": "markdown",
      "metadata": {
        "id": "wfodePkj3jEa"
      },
      "source": [
        "## Download and prepare the dataset\n",
        "\n",
        "We'll use a language dataset provided by http://www.manythings.org/anki/"
      ]
    },
    {
      "cell_type": "code",
      "metadata": {
        "id": "CNvjhDyAKk3U",
        "colab": {
          "base_uri": "https://localhost:8080/"
        },
        "outputId": "7c4ea231-5284-4997-e259-abd5db3d9b13"
      },
      "source": [
        "!wget http://www.manythings.org/anki/rus-eng.zip"
      ],
      "execution_count": 2,
      "outputs": [
        {
          "output_type": "stream",
          "name": "stdout",
          "text": [
            "--2024-01-15 17:03:15--  http://www.manythings.org/anki/rus-eng.zip\n",
            "Resolving www.manythings.org (www.manythings.org)... 173.254.30.110\n",
            "Connecting to www.manythings.org (www.manythings.org)|173.254.30.110|:80... connected.\n",
            "HTTP request sent, awaiting response... 200 OK\n",
            "Length: 16065699 (15M) [application/zip]\n",
            "Saving to: ‘rus-eng.zip’\n",
            "\n",
            "rus-eng.zip         100%[===================>]  15.32M  51.6MB/s    in 0.3s    \n",
            "\n",
            "2024-01-15 17:03:16 (51.6 MB/s) - ‘rus-eng.zip’ saved [16065699/16065699]\n",
            "\n"
          ]
        }
      ]
    },
    {
      "cell_type": "code",
      "metadata": {
        "id": "83bg17Lr-7XK",
        "outputId": "e440fc11-385d-4290-cbd6-1613f24ca9bb",
        "colab": {
          "base_uri": "https://localhost:8080/"
        }
      },
      "source": [
        "!mkdir rus-eng\n",
        "!unzip rus-eng.zip -d rus-eng/"
      ],
      "execution_count": 3,
      "outputs": [
        {
          "output_type": "stream",
          "name": "stdout",
          "text": [
            "Archive:  rus-eng.zip\n",
            "  inflating: rus-eng/rus.txt         \n",
            "  inflating: rus-eng/_about.txt      \n"
          ]
        }
      ]
    },
    {
      "cell_type": "code",
      "metadata": {
        "id": "7o5L92efMMhf",
        "colab": {
          "base_uri": "https://localhost:8080/"
        },
        "outputId": "961cd53c-f681-4b28-ee05-8c500db17063"
      },
      "source": [
        "!ls /content/rus-eng/ -lah"
      ],
      "execution_count": 4,
      "outputs": [
        {
          "output_type": "stream",
          "name": "stdout",
          "text": [
            "total 78M\n",
            "drwxr-xr-x 2 root root 4.0K Jan 15 17:03 .\n",
            "drwxr-xr-x 1 root root 4.0K Jan 15 17:03 ..\n",
            "-rw-r--r-- 1 root root 1.5K Nov 29 00:30 _about.txt\n",
            "-rw-r--r-- 1 root root  78M Nov 29 00:30 rus.txt\n"
          ]
        }
      ]
    },
    {
      "cell_type": "code",
      "metadata": {
        "id": "kRVATYOgJs1b"
      },
      "source": [
        "# Download the file\n",
        "path_to_file = \"/content/rus-eng/rus.txt\""
      ],
      "execution_count": 5,
      "outputs": []
    },
    {
      "cell_type": "code",
      "metadata": {
        "id": "rd0jw-eC3jEh"
      },
      "source": [
        "def preprocess_sentence(w):\n",
        "  w = w.lower().strip()\n",
        "\n",
        "  # creating a space between a word and the punctuation following it\n",
        "  # eg: \"he is a boy.\" => \"he is a boy .\"\n",
        "  # Reference:- https://stackoverflow.com/questions/3645931/python-padding-punctuation-with-white-spaces-keeping-punctuation\n",
        "  w = re.sub(r\"([?.!,])\", r\" \\1 \", w)\n",
        "  w = re.sub(r'[\" \"]+', \" \", w)\n",
        "\n",
        "  # replacing everything with space except (a-z, A-Z, \".\", \"?\", \"!\", \",\")\n",
        "  w = re.sub(r\"[^a-zA-Zа-яА-Я?.!,']+\", \" \", w)\n",
        "\n",
        "  w = w.strip()\n",
        "\n",
        "  # adding a start and an end token to the sentence\n",
        "  # so that the model know when to start and stop predicting.\n",
        "  w = '<start> ' + w + ' <end>'\n",
        "  return w"
      ],
      "execution_count": 6,
      "outputs": []
    },
    {
      "cell_type": "code",
      "metadata": {
        "id": "yV9lZXQXNbnH",
        "colab": {
          "base_uri": "https://localhost:8080/",
          "height": 35
        },
        "outputId": "06a76851-d0b4-4ec7-d1e5-61cf0ed4649f"
      },
      "source": [
        "preprocess_sentence(\"I can't go.\")"
      ],
      "execution_count": 7,
      "outputs": [
        {
          "output_type": "execute_result",
          "data": {
            "text/plain": [
              "\"<start> i can't go . <end>\""
            ],
            "application/vnd.google.colaboratory.intrinsic+json": {
              "type": "string"
            }
          },
          "metadata": {},
          "execution_count": 7
        }
      ]
    },
    {
      "cell_type": "code",
      "metadata": {
        "id": "OHn4Dct23jEm"
      },
      "source": [
        "# 1. Remove the accents\n",
        "# 2. Clean the sentences\n",
        "# 3. Return word pairs in the format: [ENG, RUS]\n",
        "def create_dataset(path, num_examples):\n",
        "  lines = io.open(path, encoding='UTF-8').read().strip().split('\\n')\n",
        "\n",
        "  word_pairs = [[preprocess_sentence(w) for w in l.split('\\t')[:2]]  for l in lines[:num_examples]]\n",
        "\n",
        "  return zip(*word_pairs)"
      ],
      "execution_count": 8,
      "outputs": []
    },
    {
      "cell_type": "code",
      "metadata": {
        "id": "cTbSbBz55QtF"
      },
      "source": [
        "en, ru = create_dataset(path_to_file, None)\n",
        "print(en[0])\n",
        "print(ru[0])"
      ],
      "execution_count": null,
      "outputs": []
    },
    {
      "cell_type": "code",
      "metadata": {
        "id": "bIOn8RCNDJXG"
      },
      "source": [
        "def tokenize(lang):\n",
        "  lang_tokenizer = tf.keras.preprocessing.text.Tokenizer(\n",
        "      filters='')\n",
        "  lang_tokenizer.fit_on_texts(lang)\n",
        "\n",
        "  tensor = lang_tokenizer.texts_to_sequences(lang)\n",
        "\n",
        "  tensor = tf.keras.preprocessing.sequence.pad_sequences(tensor,\n",
        "                                                         padding='post')\n",
        "\n",
        "  return tensor, lang_tokenizer"
      ],
      "execution_count": null,
      "outputs": []
    },
    {
      "cell_type": "code",
      "metadata": {
        "id": "eAY9k49G3jE_"
      },
      "source": [
        "def load_dataset(path, num_examples=None):\n",
        "  # creating cleaned input, output pairs\n",
        "  targ_lang, inp_lang = create_dataset(path, num_examples)\n",
        "\n",
        "  input_tensor, inp_lang_tokenizer = tokenize(inp_lang)\n",
        "  target_tensor, targ_lang_tokenizer = tokenize(targ_lang)\n",
        "\n",
        "  return input_tensor, target_tensor, inp_lang_tokenizer, targ_lang_tokenizer"
      ],
      "execution_count": null,
      "outputs": []
    },
    {
      "cell_type": "markdown",
      "metadata": {
        "id": "GOi42V79Ydlr"
      },
      "source": [
        "### Limit the size of the dataset to experiment faster (optional)\n"
      ]
    },
    {
      "cell_type": "code",
      "metadata": {
        "id": "C8j9g9AnIeZV"
      },
      "source": [
        "len(en), len(ru)"
      ],
      "execution_count": null,
      "outputs": []
    },
    {
      "cell_type": "code",
      "metadata": {
        "id": "cnxC7q-j3jFD"
      },
      "source": [
        "# Try experimenting with the size of that dataset\n",
        "num_examples = 100000\n",
        "input_tensor, target_tensor, inp_lang, targ_lang = load_dataset(path_to_file, num_examples)\n",
        "\n",
        "# Calculate max_length of the target tensors\n",
        "max_length_targ, max_length_inp = target_tensor.shape[1], input_tensor.shape[1]"
      ],
      "execution_count": 13,
      "outputs": []
    },
    {
      "cell_type": "code",
      "metadata": {
        "id": "4QILQkOs3jFG",
        "colab": {
          "base_uri": "https://localhost:8080/"
        },
        "outputId": "7d5c5fe4-100d-4cae-fa6c-25f88a42e1b7"
      },
      "source": [
        "# Creating training and validation sets using an 80-20 split\n",
        "input_tensor_train, input_tensor_val, target_tensor_train, target_tensor_val = train_test_split(input_tensor, target_tensor, test_size=0.2)\n",
        "\n",
        "# Show length\n",
        "print(len(input_tensor_train), len(target_tensor_train), len(input_tensor_val), len(target_tensor_val))"
      ],
      "execution_count": 14,
      "outputs": [
        {
          "output_type": "stream",
          "name": "stdout",
          "text": [
            "80000 80000 20000 20000\n"
          ]
        }
      ]
    },
    {
      "cell_type": "code",
      "metadata": {
        "id": "lJPmLZGMeD5q"
      },
      "source": [
        "def convert(lang, tensor):\n",
        "  for t in tensor:\n",
        "    if t!=0:\n",
        "      print (\"%d ----> %s\" % (t, lang.index_word[t]))"
      ],
      "execution_count": 15,
      "outputs": []
    },
    {
      "cell_type": "code",
      "metadata": {
        "id": "VXukARTDd7MT",
        "colab": {
          "base_uri": "https://localhost:8080/"
        },
        "outputId": "70533e37-57ad-4f6e-ae67-5e33746f5c0c"
      },
      "source": [
        "print (\"Input Language; index to word mapping\")\n",
        "convert(inp_lang, input_tensor_train[0])\n",
        "print ()\n",
        "print (\"Target Language; index to word mapping\")\n",
        "convert(targ_lang, target_tensor_train[0])"
      ],
      "execution_count": 16,
      "outputs": [
        {
          "output_type": "stream",
          "name": "stdout",
          "text": [
            "Input Language; index to word mapping\n",
            "1 ----> <start>\n",
            "4 ----> я\n",
            "382 ----> поздно\n",
            "526 ----> встал\n",
            "3 ----> .\n",
            "2 ----> <end>\n",
            "\n",
            "Target Language; index to word mapping\n",
            "1 ----> <start>\n",
            "4 ----> i\n",
            "63 ----> got\n",
            "53 ----> up\n",
            "180 ----> late\n",
            "3 ----> .\n",
            "2 ----> <end>\n"
          ]
        }
      ]
    },
    {
      "cell_type": "markdown",
      "metadata": {
        "id": "rgCLkfv5uO3d"
      },
      "source": [
        "### Create a tf.data dataset"
      ]
    },
    {
      "cell_type": "code",
      "metadata": {
        "id": "TqHsArVZ3jFS"
      },
      "source": [
        "BUFFER_SIZE = len(input_tensor_train)\n",
        "BATCH_SIZE = 32\n",
        "steps_per_epoch = len(input_tensor_train)//BATCH_SIZE\n",
        "embedding_dim = 200\n",
        "units = 512\n",
        "vocab_inp_size = len(inp_lang.word_index)+1\n",
        "vocab_tar_size = len(targ_lang.word_index)+1\n",
        "\n",
        "dataset = tf.data.Dataset.from_tensor_slices((input_tensor_train, target_tensor_train)).shuffle(BUFFER_SIZE)\n",
        "dataset = dataset.batch(BATCH_SIZE, drop_remainder=True)"
      ],
      "execution_count": 17,
      "outputs": []
    },
    {
      "cell_type": "code",
      "metadata": {
        "id": "qc6-NK1GtWQt",
        "colab": {
          "base_uri": "https://localhost:8080/"
        },
        "outputId": "15c1dd3e-c757-4347-ed29-0568dffd61a2"
      },
      "source": [
        "example_input_batch, example_target_batch = next(iter(dataset))\n",
        "example_input_batch.shape, example_target_batch.shape"
      ],
      "execution_count": 18,
      "outputs": [
        {
          "output_type": "execute_result",
          "data": {
            "text/plain": [
              "(TensorShape([32, 15]), TensorShape([32, 11]))"
            ]
          },
          "metadata": {},
          "execution_count": 18
        }
      ]
    },
    {
      "cell_type": "markdown",
      "source": [
        "**Для эксперимента возьму двунаправленный слой GRU**"
      ],
      "metadata": {
        "id": "68zZxRZCveW5"
      }
    },
    {
      "cell_type": "code",
      "source": [
        "from keras.layers import GRU, Concatenate"
      ],
      "metadata": {
        "id": "x3EfyzA6glQm"
      },
      "execution_count": 19,
      "outputs": []
    },
    {
      "cell_type": "code",
      "metadata": {
        "id": "nZ2rI24i3jFg"
      },
      "source": [
        "class Encoder(tf.keras.Model):\n",
        "  def __init__(self, vocab_size, embedding_dim, enc_units, batch_sz):\n",
        "    super(Encoder, self).__init__()\n",
        "    self.batch_sz = batch_sz\n",
        "    self.enc_units = enc_units\n",
        "    self.embedding = tf.keras.layers.Embedding(vocab_size, embedding_dim)\n",
        "    self.gru = tf.keras.layers.Bidirectional(GRU(self.enc_units,\n",
        "                                   return_sequences=False,\n",
        "                                   return_state=True,\n",
        "                                   recurrent_initializer='glorot_uniform'))\n",
        "\n",
        "\n",
        "  def call(self, x, hidden):\n",
        "    x = self.embedding(x)\n",
        "    output, state_frw, state_bcw = self.gru(x, initial_state = hidden)\n",
        "    return state_frw, state_bcw\n",
        "\n",
        "  # def initialize_hidden_state(self):\n",
        "  #   return tf.zeros((self.batch_sz, self.enc_units))\n",
        "\n",
        "  def initialize_hidden_state(self):\n",
        "      return [tf.zeros((self.batch_sz, self.enc_units)) for i in range(2)]"
      ],
      "execution_count": 20,
      "outputs": []
    },
    {
      "cell_type": "code",
      "source": [
        "encoder = Encoder(vocab_inp_size, embedding_dim, units, BATCH_SIZE)\n",
        "# sample input\n",
        "encoder = Encoder(vocab_inp_size, embedding_dim, units, BATCH_SIZE)\n",
        "sample_hidden = encoder.initialize_hidden_state()\n",
        "forward_hidden, backward_hidden = encoder(example_input_batch, sample_hidden)\n",
        "print('Encoder forward_h shape: (batch size, units) {}'.format(forward_hidden.shape))\n",
        "print('Encoder backward_h shape: (batch size, units) {}'.format(backward_hidden.shape))\n"
      ],
      "metadata": {
        "id": "vKHA_t1KkZkV",
        "colab": {
          "base_uri": "https://localhost:8080/"
        },
        "outputId": "8ab7e8d4-76a3-49ac-9ab3-d1c18d75c532"
      },
      "execution_count": 21,
      "outputs": [
        {
          "output_type": "stream",
          "name": "stdout",
          "text": [
            "Encoder forward_h shape: (batch size, units) (32, 512)\n",
            "Encoder backward_h shape: (batch size, units) (32, 512)\n"
          ]
        }
      ]
    },
    {
      "cell_type": "code",
      "metadata": {
        "id": "yJ_B3mhW3jFk"
      },
      "source": [
        "class Decoder(tf.keras.Model):\n",
        "  def __init__(self, vocab_size, embedding_dim, dec_units, batch_sz):\n",
        "    super(Decoder, self).__init__()\n",
        "    self.batch_sz = batch_sz\n",
        "    self.dec_units = dec_units\n",
        "    self.embedding = tf.keras.layers.Embedding(vocab_size, embedding_dim)\n",
        "    self.gru = tf.keras.layers.GRU(2*self.dec_units,\n",
        "                                   return_sequences=True,\n",
        "                                   return_state=True,\n",
        "                                   recurrent_initializer='glorot_uniform')\n",
        "    self.fc = tf.keras.layers.Dense(vocab_size)\n",
        "\n",
        "  def call(self, x, encoder_fwd_state, encoder_back_state):\n",
        "    # enc_output shape == (batch_size, max_length, hidden_size)\n",
        "\n",
        "    # x shape after passing through embedding == (batch_size, 1, embedding_dim)\n",
        "    x = self.embedding(x)\n",
        "\n",
        "    # x shape after concatenation == (batch_size, 1, embedding_dim + hidden_size)\n",
        "\n",
        "    # passing the concatenated vector to the GRU\n",
        "    output, state = self.gru(x, initial_state=Concatenate(axis=-1)([encoder_fwd_state, encoder_back_state]))\n",
        "\n",
        "    # output shape == (batch_size * 1, hidden_size)\n",
        "    output = tf.reshape(output, (-1, output.shape[2]))\n",
        "\n",
        "    # output shape == (batch_size, vocab)\n",
        "    x = self.fc(output)\n",
        "\n",
        "    return x, state"
      ],
      "execution_count": 22,
      "outputs": []
    },
    {
      "cell_type": "code",
      "metadata": {
        "id": "P5UY8wko3jFp"
      },
      "source": [
        "decoder = Decoder(vocab_tar_size, embedding_dim, units, BATCH_SIZE)\n",
        "\n",
        "decoder_sample_x, decoder_sample_h = decoder(tf.random.uniform((BATCH_SIZE, 1)),\n",
        "                                      forward_hidden, backward_hidden)"
      ],
      "execution_count": 23,
      "outputs": []
    },
    {
      "cell_type": "code",
      "metadata": {
        "id": "XKcypC0AGeLR",
        "colab": {
          "base_uri": "https://localhost:8080/"
        },
        "outputId": "fa9a76f2-a15f-48f7-8b9a-cb488d886426"
      },
      "source": [
        "decoder_sample_x.shape"
      ],
      "execution_count": 24,
      "outputs": [
        {
          "output_type": "execute_result",
          "data": {
            "text/plain": [
              "TensorShape([32, 7356])"
            ]
          },
          "metadata": {},
          "execution_count": 24
        }
      ]
    },
    {
      "cell_type": "code",
      "metadata": {
        "id": "6y0HF-zMF_vp",
        "colab": {
          "base_uri": "https://localhost:8080/"
        },
        "outputId": "da263b04-27db-486f-b45e-f380ed4613dc"
      },
      "source": [
        "decoder_sample_h.shape"
      ],
      "execution_count": 25,
      "outputs": [
        {
          "output_type": "execute_result",
          "data": {
            "text/plain": [
              "TensorShape([32, 1024])"
            ]
          },
          "metadata": {},
          "execution_count": 25
        }
      ]
    },
    {
      "cell_type": "markdown",
      "metadata": {
        "id": "_ch_71VbIRfK"
      },
      "source": [
        "## Define the optimizer and the loss function"
      ]
    },
    {
      "cell_type": "code",
      "metadata": {
        "id": "WmTHr5iV3jFr"
      },
      "source": [
        "optimizer = tf.keras.optimizers.Adam()\n",
        "\n",
        "loss_object = tf.keras.losses.SparseCategoricalCrossentropy(\n",
        "    from_logits=True, reduction='none')\n",
        "\n",
        "def loss_function(real, pred):\n",
        "  mask = tf.math.logical_not(tf.math.equal(real, 0))\n",
        "  loss_ = loss_object(real, pred)\n",
        "\n",
        "  mask = tf.cast(mask, dtype=loss_.dtype)\n",
        "  loss_ *= mask\n",
        "\n",
        "  return tf.reduce_mean(loss_)"
      ],
      "execution_count": 26,
      "outputs": []
    },
    {
      "cell_type": "markdown",
      "metadata": {
        "id": "DMVWzzsfNl4e"
      },
      "source": [
        "## Checkpoints (Object-based saving)"
      ]
    },
    {
      "cell_type": "code",
      "metadata": {
        "id": "Zj8bXQTgNwrF"
      },
      "source": [
        "checkpoint_dir = './training_nmt_checkpoints'\n",
        "\n",
        "checkpoint_prefix = os.path.join(checkpoint_dir, \"ckpt\")\n",
        "\n",
        "checkpoint = tf.train.Checkpoint(optimizer=optimizer,\n",
        "                                 encoder=encoder,\n",
        "                                 decoder=decoder)"
      ],
      "execution_count": 27,
      "outputs": []
    },
    {
      "cell_type": "code",
      "metadata": {
        "id": "sC9ArXSsVfqn"
      },
      "source": [
        "@tf.function\n",
        "def train_step(inp, targ, enc_hidden):\n",
        "  loss = 0\n",
        "\n",
        "  with tf.GradientTape() as tape:\n",
        "    enc_hidden = encoder(inp, enc_hidden)\n",
        "\n",
        "    forward_hidden, backward_hidden = enc_hidden\n",
        "\n",
        "    dec_input = tf.expand_dims([targ_lang.word_index['<start>']] * BATCH_SIZE, 1)\n",
        "\n",
        "    # Teacher forcing - feeding the target as the next input\n",
        "    for t in range(1, targ.shape[1]): # Максимальная длина последовательности\n",
        "      # passing enc_output to the decoder\n",
        "      predictions, dec_hidden = decoder(dec_input, forward_hidden, backward_hidden)\n",
        "\n",
        "      # считаем лосс по каждому предсказанному слову\n",
        "      loss += loss_function(targ[:, t], predictions)\n",
        "\n",
        "      # using teacher forcing\n",
        "      dec_input = tf.expand_dims(targ[:, t], 1)\n",
        "\n",
        "  batch_loss = (loss / int(targ.shape[1]))\n",
        "\n",
        "  variables = encoder.trainable_variables + decoder.trainable_variables\n",
        "\n",
        "  gradients = tape.gradient(loss, variables)\n",
        "\n",
        "  optimizer.apply_gradients(zip(gradients, variables))\n",
        "\n",
        "  return batch_loss"
      ],
      "execution_count": 28,
      "outputs": []
    },
    {
      "cell_type": "code",
      "metadata": {
        "id": "ddefjBMa3jF0",
        "colab": {
          "base_uri": "https://localhost:8080/"
        },
        "outputId": "22b71812-a2aa-41c0-af35-e98bf5a78fdf"
      },
      "source": [
        "EPOCHS = 25\n",
        "\n",
        "for epoch in range(EPOCHS):\n",
        "  start = time.time()\n",
        "\n",
        "  enc_hidden = encoder.initialize_hidden_state()\n",
        "  total_loss = 0\n",
        "\n",
        "  for (batch, (inp, targ)) in enumerate(dataset.take(steps_per_epoch)):\n",
        "    batch_loss = train_step(inp, targ, enc_hidden)\n",
        "    total_loss += batch_loss\n",
        "\n",
        "    if batch % 100 == 0:\n",
        "      print('Epoch {} Batch {} Loss {:.4f}'.format(epoch + 1,\n",
        "                                                   batch,\n",
        "                                                   batch_loss.numpy()))\n",
        "  # saving (checkpoint) the model every 2 epochs\n",
        "  if (epoch + 1) % 2 == 0:\n",
        "    checkpoint.save(file_prefix = checkpoint_prefix)\n",
        "\n",
        "  print('Epoch {} Loss {:.4f}'.format(epoch + 1,\n",
        "                                      total_loss / steps_per_epoch))\n",
        "  print('Time taken for 1 epoch {} sec\\n'.format(time.time() - start))"
      ],
      "execution_count": 29,
      "outputs": [
        {
          "output_type": "stream",
          "name": "stdout",
          "text": [
            "Epoch 1 Batch 0 Loss 4.4514\n",
            "Epoch 1 Batch 100 Loss 2.0596\n",
            "Epoch 1 Batch 200 Loss 1.8959\n",
            "Epoch 1 Batch 300 Loss 1.7815\n",
            "Epoch 1 Batch 400 Loss 1.6754\n",
            "Epoch 1 Batch 500 Loss 1.5748\n",
            "Epoch 1 Batch 600 Loss 1.6028\n",
            "Epoch 1 Batch 700 Loss 1.2583\n",
            "Epoch 1 Batch 800 Loss 1.3544\n",
            "Epoch 1 Batch 900 Loss 1.2672\n",
            "Epoch 1 Batch 1000 Loss 1.1371\n",
            "Epoch 1 Batch 1100 Loss 1.1229\n",
            "Epoch 1 Batch 1200 Loss 1.1429\n",
            "Epoch 1 Batch 1300 Loss 1.1401\n",
            "Epoch 1 Batch 1400 Loss 1.0699\n",
            "Epoch 1 Batch 1500 Loss 1.0892\n",
            "Epoch 1 Batch 1600 Loss 1.0033\n",
            "Epoch 1 Batch 1700 Loss 1.2133\n",
            "Epoch 1 Batch 1800 Loss 0.8779\n",
            "Epoch 1 Batch 1900 Loss 0.8389\n",
            "Epoch 1 Batch 2000 Loss 0.8175\n",
            "Epoch 1 Batch 2100 Loss 0.9170\n",
            "Epoch 1 Batch 2200 Loss 0.7877\n",
            "Epoch 1 Batch 2300 Loss 1.0125\n",
            "Epoch 1 Batch 2400 Loss 0.6163\n",
            "Epoch 1 Loss 1.2461\n",
            "Time taken for 1 epoch 100.75156092643738 sec\n",
            "\n",
            "Epoch 2 Batch 0 Loss 0.6166\n",
            "Epoch 2 Batch 100 Loss 0.7170\n",
            "Epoch 2 Batch 200 Loss 0.5360\n",
            "Epoch 2 Batch 300 Loss 0.5459\n",
            "Epoch 2 Batch 400 Loss 0.6025\n",
            "Epoch 2 Batch 500 Loss 0.6142\n",
            "Epoch 2 Batch 600 Loss 0.6513\n",
            "Epoch 2 Batch 700 Loss 0.4825\n",
            "Epoch 2 Batch 800 Loss 0.6571\n",
            "Epoch 2 Batch 900 Loss 0.5987\n",
            "Epoch 2 Batch 1000 Loss 0.4857\n",
            "Epoch 2 Batch 1100 Loss 0.5128\n",
            "Epoch 2 Batch 1200 Loss 0.4893\n",
            "Epoch 2 Batch 1300 Loss 0.5806\n",
            "Epoch 2 Batch 1400 Loss 0.6680\n",
            "Epoch 2 Batch 1500 Loss 0.5891\n",
            "Epoch 2 Batch 1600 Loss 0.5756\n",
            "Epoch 2 Batch 1700 Loss 0.4860\n",
            "Epoch 2 Batch 1800 Loss 0.5442\n",
            "Epoch 2 Batch 1900 Loss 0.5369\n",
            "Epoch 2 Batch 2000 Loss 0.5008\n",
            "Epoch 2 Batch 2100 Loss 0.5119\n",
            "Epoch 2 Batch 2200 Loss 0.5677\n",
            "Epoch 2 Batch 2300 Loss 0.4989\n",
            "Epoch 2 Batch 2400 Loss 0.4639\n",
            "Epoch 2 Loss 0.5379\n",
            "Time taken for 1 epoch 82.12355828285217 sec\n",
            "\n",
            "Epoch 3 Batch 0 Loss 0.2887\n",
            "Epoch 3 Batch 100 Loss 0.1696\n",
            "Epoch 3 Batch 200 Loss 0.2675\n",
            "Epoch 3 Batch 300 Loss 0.2950\n",
            "Epoch 3 Batch 400 Loss 0.3161\n",
            "Epoch 3 Batch 500 Loss 0.3859\n",
            "Epoch 3 Batch 600 Loss 0.2296\n",
            "Epoch 3 Batch 700 Loss 0.3844\n",
            "Epoch 3 Batch 800 Loss 0.3069\n",
            "Epoch 3 Batch 900 Loss 0.2605\n",
            "Epoch 3 Batch 1000 Loss 0.4371\n",
            "Epoch 3 Batch 1100 Loss 0.2788\n",
            "Epoch 3 Batch 1200 Loss 0.3195\n",
            "Epoch 3 Batch 1300 Loss 0.3527\n",
            "Epoch 3 Batch 1400 Loss 0.2152\n",
            "Epoch 3 Batch 1500 Loss 0.2255\n",
            "Epoch 3 Batch 1600 Loss 0.2924\n",
            "Epoch 3 Batch 1700 Loss 0.4053\n",
            "Epoch 3 Batch 1800 Loss 0.3652\n",
            "Epoch 3 Batch 1900 Loss 0.2726\n",
            "Epoch 3 Batch 2000 Loss 0.2519\n",
            "Epoch 3 Batch 2100 Loss 0.2713\n",
            "Epoch 3 Batch 2200 Loss 0.4441\n",
            "Epoch 3 Batch 2300 Loss 0.3560\n",
            "Epoch 3 Batch 2400 Loss 0.2850\n",
            "Epoch 3 Loss 0.3046\n",
            "Time taken for 1 epoch 79.06740403175354 sec\n",
            "\n",
            "Epoch 4 Batch 0 Loss 0.2193\n",
            "Epoch 4 Batch 100 Loss 0.1946\n",
            "Epoch 4 Batch 200 Loss 0.1649\n",
            "Epoch 4 Batch 300 Loss 0.1109\n",
            "Epoch 4 Batch 400 Loss 0.1468\n",
            "Epoch 4 Batch 500 Loss 0.1748\n",
            "Epoch 4 Batch 600 Loss 0.1896\n",
            "Epoch 4 Batch 700 Loss 0.1818\n",
            "Epoch 4 Batch 800 Loss 0.2121\n",
            "Epoch 4 Batch 900 Loss 0.2201\n",
            "Epoch 4 Batch 1000 Loss 0.1960\n",
            "Epoch 4 Batch 1100 Loss 0.2201\n",
            "Epoch 4 Batch 1200 Loss 0.2720\n",
            "Epoch 4 Batch 1300 Loss 0.2559\n",
            "Epoch 4 Batch 1400 Loss 0.2002\n",
            "Epoch 4 Batch 1500 Loss 0.1894\n",
            "Epoch 4 Batch 1600 Loss 0.2112\n",
            "Epoch 4 Batch 1700 Loss 0.2152\n",
            "Epoch 4 Batch 1800 Loss 0.1478\n",
            "Epoch 4 Batch 1900 Loss 0.2108\n",
            "Epoch 4 Batch 2000 Loss 0.1693\n",
            "Epoch 4 Batch 2100 Loss 0.2106\n",
            "Epoch 4 Batch 2200 Loss 0.2240\n",
            "Epoch 4 Batch 2300 Loss 0.2314\n",
            "Epoch 4 Batch 2400 Loss 0.2510\n",
            "Epoch 4 Loss 0.2037\n",
            "Time taken for 1 epoch 85.41774892807007 sec\n",
            "\n",
            "Epoch 5 Batch 0 Loss 0.1239\n",
            "Epoch 5 Batch 100 Loss 0.1936\n",
            "Epoch 5 Batch 200 Loss 0.0749\n",
            "Epoch 5 Batch 300 Loss 0.0857\n",
            "Epoch 5 Batch 400 Loss 0.1027\n",
            "Epoch 5 Batch 500 Loss 0.1009\n",
            "Epoch 5 Batch 600 Loss 0.1366\n",
            "Epoch 5 Batch 700 Loss 0.1656\n",
            "Epoch 5 Batch 800 Loss 0.1306\n",
            "Epoch 5 Batch 900 Loss 0.1160\n",
            "Epoch 5 Batch 1000 Loss 0.1901\n",
            "Epoch 5 Batch 1100 Loss 0.1389\n",
            "Epoch 5 Batch 1200 Loss 0.1062\n",
            "Epoch 5 Batch 1300 Loss 0.1384\n",
            "Epoch 5 Batch 1400 Loss 0.0946\n",
            "Epoch 5 Batch 1500 Loss 0.1892\n",
            "Epoch 5 Batch 1600 Loss 0.1433\n",
            "Epoch 5 Batch 1700 Loss 0.2200\n",
            "Epoch 5 Batch 1800 Loss 0.1701\n",
            "Epoch 5 Batch 1900 Loss 0.2317\n",
            "Epoch 5 Batch 2000 Loss 0.1348\n",
            "Epoch 5 Batch 2100 Loss 0.1370\n",
            "Epoch 5 Batch 2200 Loss 0.1919\n",
            "Epoch 5 Batch 2300 Loss 0.2340\n",
            "Epoch 5 Batch 2400 Loss 0.1658\n",
            "Epoch 5 Loss 0.1575\n",
            "Time taken for 1 epoch 79.76598024368286 sec\n",
            "\n",
            "Epoch 6 Batch 0 Loss 0.0744\n",
            "Epoch 6 Batch 100 Loss 0.1254\n",
            "Epoch 6 Batch 200 Loss 0.0565\n",
            "Epoch 6 Batch 300 Loss 0.1181\n",
            "Epoch 6 Batch 400 Loss 0.1005\n",
            "Epoch 6 Batch 500 Loss 0.2398\n",
            "Epoch 6 Batch 600 Loss 0.0786\n",
            "Epoch 6 Batch 700 Loss 0.0978\n",
            "Epoch 6 Batch 800 Loss 0.0769\n",
            "Epoch 6 Batch 900 Loss 0.2019\n",
            "Epoch 6 Batch 1000 Loss 0.0575\n",
            "Epoch 6 Batch 1100 Loss 0.1145\n",
            "Epoch 6 Batch 1200 Loss 0.1089\n",
            "Epoch 6 Batch 1300 Loss 0.1444\n",
            "Epoch 6 Batch 1400 Loss 0.1214\n",
            "Epoch 6 Batch 1500 Loss 0.1949\n",
            "Epoch 6 Batch 1600 Loss 0.1657\n",
            "Epoch 6 Batch 1700 Loss 0.1379\n",
            "Epoch 6 Batch 1800 Loss 0.1222\n",
            "Epoch 6 Batch 1900 Loss 0.0937\n",
            "Epoch 6 Batch 2000 Loss 0.1588\n",
            "Epoch 6 Batch 2100 Loss 0.2032\n",
            "Epoch 6 Batch 2200 Loss 0.1584\n",
            "Epoch 6 Batch 2300 Loss 0.1870\n",
            "Epoch 6 Batch 2400 Loss 0.1544\n",
            "Epoch 6 Loss 0.1337\n",
            "Time taken for 1 epoch 79.75100493431091 sec\n",
            "\n",
            "Epoch 7 Batch 0 Loss 0.1125\n",
            "Epoch 7 Batch 100 Loss 0.0738\n",
            "Epoch 7 Batch 200 Loss 0.0807\n",
            "Epoch 7 Batch 300 Loss 0.1399\n",
            "Epoch 7 Batch 400 Loss 0.0970\n",
            "Epoch 7 Batch 500 Loss 0.0697\n",
            "Epoch 7 Batch 600 Loss 0.1285\n",
            "Epoch 7 Batch 700 Loss 0.0440\n",
            "Epoch 7 Batch 800 Loss 0.1056\n",
            "Epoch 7 Batch 900 Loss 0.1671\n",
            "Epoch 7 Batch 1000 Loss 0.1542\n",
            "Epoch 7 Batch 1100 Loss 0.1530\n",
            "Epoch 7 Batch 1200 Loss 0.1186\n",
            "Epoch 7 Batch 1300 Loss 0.1426\n",
            "Epoch 7 Batch 1400 Loss 0.2367\n",
            "Epoch 7 Batch 1500 Loss 0.1577\n",
            "Epoch 7 Batch 1600 Loss 0.1547\n",
            "Epoch 7 Batch 1700 Loss 0.0930\n",
            "Epoch 7 Batch 1800 Loss 0.1021\n",
            "Epoch 7 Batch 1900 Loss 0.1115\n",
            "Epoch 7 Batch 2000 Loss 0.1241\n",
            "Epoch 7 Batch 2100 Loss 0.1393\n",
            "Epoch 7 Batch 2200 Loss 0.1980\n",
            "Epoch 7 Batch 2300 Loss 0.2022\n",
            "Epoch 7 Batch 2400 Loss 0.1884\n",
            "Epoch 7 Loss 0.1206\n",
            "Time taken for 1 epoch 78.93150544166565 sec\n",
            "\n",
            "Epoch 8 Batch 0 Loss 0.0987\n",
            "Epoch 8 Batch 100 Loss 0.1149\n",
            "Epoch 8 Batch 200 Loss 0.0869\n",
            "Epoch 8 Batch 300 Loss 0.1161\n",
            "Epoch 8 Batch 400 Loss 0.0987\n",
            "Epoch 8 Batch 500 Loss 0.1105\n",
            "Epoch 8 Batch 600 Loss 0.1084\n",
            "Epoch 8 Batch 700 Loss 0.0657\n",
            "Epoch 8 Batch 800 Loss 0.0707\n",
            "Epoch 8 Batch 900 Loss 0.1257\n",
            "Epoch 8 Batch 1000 Loss 0.1104\n",
            "Epoch 8 Batch 1100 Loss 0.0758\n",
            "Epoch 8 Batch 1200 Loss 0.0967\n",
            "Epoch 8 Batch 1300 Loss 0.0627\n",
            "Epoch 8 Batch 1400 Loss 0.1077\n",
            "Epoch 8 Batch 1500 Loss 0.1872\n",
            "Epoch 8 Batch 1600 Loss 0.0924\n",
            "Epoch 8 Batch 1700 Loss 0.1204\n",
            "Epoch 8 Batch 1800 Loss 0.1841\n",
            "Epoch 8 Batch 1900 Loss 0.0606\n",
            "Epoch 8 Batch 2000 Loss 0.1456\n",
            "Epoch 8 Batch 2100 Loss 0.1095\n",
            "Epoch 8 Batch 2200 Loss 0.1680\n",
            "Epoch 8 Batch 2300 Loss 0.1473\n",
            "Epoch 8 Batch 2400 Loss 0.1248\n",
            "Epoch 8 Loss 0.1114\n",
            "Time taken for 1 epoch 79.86461067199707 sec\n",
            "\n",
            "Epoch 9 Batch 0 Loss 0.0861\n",
            "Epoch 9 Batch 100 Loss 0.0546\n",
            "Epoch 9 Batch 200 Loss 0.0473\n",
            "Epoch 9 Batch 300 Loss 0.1048\n",
            "Epoch 9 Batch 400 Loss 0.0686\n",
            "Epoch 9 Batch 500 Loss 0.1611\n",
            "Epoch 9 Batch 600 Loss 0.1036\n",
            "Epoch 9 Batch 700 Loss 0.0731\n",
            "Epoch 9 Batch 800 Loss 0.0731\n",
            "Epoch 9 Batch 900 Loss 0.0920\n",
            "Epoch 9 Batch 1000 Loss 0.1001\n",
            "Epoch 9 Batch 1100 Loss 0.1373\n",
            "Epoch 9 Batch 1200 Loss 0.0949\n",
            "Epoch 9 Batch 1300 Loss 0.1387\n",
            "Epoch 9 Batch 1400 Loss 0.1477\n",
            "Epoch 9 Batch 1500 Loss 0.0888\n",
            "Epoch 9 Batch 1600 Loss 0.1196\n",
            "Epoch 9 Batch 1700 Loss 0.0966\n",
            "Epoch 9 Batch 1800 Loss 0.1047\n",
            "Epoch 9 Batch 1900 Loss 0.0898\n",
            "Epoch 9 Batch 2000 Loss 0.0724\n",
            "Epoch 9 Batch 2100 Loss 0.1423\n",
            "Epoch 9 Batch 2200 Loss 0.1440\n",
            "Epoch 9 Batch 2300 Loss 0.0990\n",
            "Epoch 9 Batch 2400 Loss 0.1253\n",
            "Epoch 9 Loss 0.1060\n",
            "Time taken for 1 epoch 79.44878220558167 sec\n",
            "\n",
            "Epoch 10 Batch 0 Loss 0.0742\n",
            "Epoch 10 Batch 100 Loss 0.0903\n",
            "Epoch 10 Batch 200 Loss 0.0266\n",
            "Epoch 10 Batch 300 Loss 0.0488\n",
            "Epoch 10 Batch 400 Loss 0.1387\n",
            "Epoch 10 Batch 500 Loss 0.0975\n",
            "Epoch 10 Batch 600 Loss 0.0908\n",
            "Epoch 10 Batch 700 Loss 0.0576\n",
            "Epoch 10 Batch 800 Loss 0.0413\n",
            "Epoch 10 Batch 900 Loss 0.0932\n",
            "Epoch 10 Batch 1000 Loss 0.0795\n",
            "Epoch 10 Batch 1100 Loss 0.1004\n",
            "Epoch 10 Batch 1200 Loss 0.1130\n",
            "Epoch 10 Batch 1300 Loss 0.0839\n",
            "Epoch 10 Batch 1400 Loss 0.0944\n",
            "Epoch 10 Batch 1500 Loss 0.1590\n",
            "Epoch 10 Batch 1600 Loss 0.1275\n",
            "Epoch 10 Batch 1700 Loss 0.0718\n",
            "Epoch 10 Batch 1800 Loss 0.2038\n",
            "Epoch 10 Batch 1900 Loss 0.1444\n",
            "Epoch 10 Batch 2000 Loss 0.1148\n",
            "Epoch 10 Batch 2100 Loss 0.0974\n",
            "Epoch 10 Batch 2200 Loss 0.0865\n",
            "Epoch 10 Batch 2300 Loss 0.1189\n",
            "Epoch 10 Batch 2400 Loss 0.0912\n",
            "Epoch 10 Loss 0.1010\n",
            "Time taken for 1 epoch 80.06994724273682 sec\n",
            "\n",
            "Epoch 11 Batch 0 Loss 0.0581\n",
            "Epoch 11 Batch 100 Loss 0.0580\n",
            "Epoch 11 Batch 200 Loss 0.0485\n",
            "Epoch 11 Batch 300 Loss 0.0583\n",
            "Epoch 11 Batch 400 Loss 0.0815\n",
            "Epoch 11 Batch 500 Loss 0.0878\n",
            "Epoch 11 Batch 600 Loss 0.0620\n",
            "Epoch 11 Batch 700 Loss 0.0912\n",
            "Epoch 11 Batch 800 Loss 0.1575\n",
            "Epoch 11 Batch 900 Loss 0.1188\n",
            "Epoch 11 Batch 1000 Loss 0.0506\n",
            "Epoch 11 Batch 1100 Loss 0.0726\n",
            "Epoch 11 Batch 1200 Loss 0.0715\n",
            "Epoch 11 Batch 1300 Loss 0.0777\n",
            "Epoch 11 Batch 1400 Loss 0.1279\n",
            "Epoch 11 Batch 1500 Loss 0.1080\n",
            "Epoch 11 Batch 1600 Loss 0.0801\n",
            "Epoch 11 Batch 1700 Loss 0.0958\n",
            "Epoch 11 Batch 1800 Loss 0.0783\n",
            "Epoch 11 Batch 1900 Loss 0.0812\n",
            "Epoch 11 Batch 2000 Loss 0.1486\n",
            "Epoch 11 Batch 2100 Loss 0.0745\n",
            "Epoch 11 Batch 2200 Loss 0.2323\n",
            "Epoch 11 Batch 2300 Loss 0.1585\n",
            "Epoch 11 Batch 2400 Loss 0.2342\n",
            "Epoch 11 Loss 0.0972\n",
            "Time taken for 1 epoch 79.18084359169006 sec\n",
            "\n",
            "Epoch 12 Batch 0 Loss 0.0524\n",
            "Epoch 12 Batch 100 Loss 0.0519\n",
            "Epoch 12 Batch 200 Loss 0.0546\n",
            "Epoch 12 Batch 300 Loss 0.0559\n",
            "Epoch 12 Batch 400 Loss 0.0914\n",
            "Epoch 12 Batch 500 Loss 0.1278\n",
            "Epoch 12 Batch 600 Loss 0.0651\n",
            "Epoch 12 Batch 700 Loss 0.0424\n",
            "Epoch 12 Batch 800 Loss 0.0956\n",
            "Epoch 12 Batch 900 Loss 0.1391\n",
            "Epoch 12 Batch 1000 Loss 0.0760\n",
            "Epoch 12 Batch 1100 Loss 0.0820\n",
            "Epoch 12 Batch 1200 Loss 0.0890\n",
            "Epoch 12 Batch 1300 Loss 0.0949\n",
            "Epoch 12 Batch 1400 Loss 0.0544\n",
            "Epoch 12 Batch 1500 Loss 0.1330\n",
            "Epoch 12 Batch 1600 Loss 0.2060\n",
            "Epoch 12 Batch 1700 Loss 0.0984\n",
            "Epoch 12 Batch 1800 Loss 0.0576\n",
            "Epoch 12 Batch 1900 Loss 0.0801\n",
            "Epoch 12 Batch 2000 Loss 0.0582\n",
            "Epoch 12 Batch 2100 Loss 0.0605\n",
            "Epoch 12 Batch 2200 Loss 0.0783\n",
            "Epoch 12 Batch 2300 Loss 0.0995\n",
            "Epoch 12 Batch 2400 Loss 0.0523\n",
            "Epoch 12 Loss 0.0939\n",
            "Time taken for 1 epoch 79.92158555984497 sec\n",
            "\n",
            "Epoch 13 Batch 0 Loss 0.0906\n",
            "Epoch 13 Batch 100 Loss 0.0899\n",
            "Epoch 13 Batch 200 Loss 0.0353\n",
            "Epoch 13 Batch 300 Loss 0.0759\n",
            "Epoch 13 Batch 400 Loss 0.0536\n",
            "Epoch 13 Batch 500 Loss 0.0500\n",
            "Epoch 13 Batch 600 Loss 0.1212\n",
            "Epoch 13 Batch 700 Loss 0.0164\n",
            "Epoch 13 Batch 800 Loss 0.0491\n",
            "Epoch 13 Batch 900 Loss 0.1341\n",
            "Epoch 13 Batch 1000 Loss 0.0459\n",
            "Epoch 13 Batch 1100 Loss 0.1172\n",
            "Epoch 13 Batch 1200 Loss 0.1074\n",
            "Epoch 13 Batch 1300 Loss 0.1003\n",
            "Epoch 13 Batch 1400 Loss 0.0671\n",
            "Epoch 13 Batch 1500 Loss 0.0701\n",
            "Epoch 13 Batch 1600 Loss 0.1038\n",
            "Epoch 13 Batch 1700 Loss 0.1242\n",
            "Epoch 13 Batch 1800 Loss 0.0535\n",
            "Epoch 13 Batch 1900 Loss 0.1083\n",
            "Epoch 13 Batch 2000 Loss 0.0716\n",
            "Epoch 13 Batch 2100 Loss 0.1379\n",
            "Epoch 13 Batch 2200 Loss 0.1059\n",
            "Epoch 13 Batch 2300 Loss 0.1492\n",
            "Epoch 13 Batch 2400 Loss 0.0966\n",
            "Epoch 13 Loss 0.0909\n",
            "Time taken for 1 epoch 80.14089179039001 sec\n",
            "\n",
            "Epoch 14 Batch 0 Loss 0.0540\n",
            "Epoch 14 Batch 100 Loss 0.0460\n",
            "Epoch 14 Batch 200 Loss 0.0441\n",
            "Epoch 14 Batch 300 Loss 0.0490\n",
            "Epoch 14 Batch 400 Loss 0.0656\n",
            "Epoch 14 Batch 500 Loss 0.0285\n",
            "Epoch 14 Batch 600 Loss 0.0385\n",
            "Epoch 14 Batch 700 Loss 0.0801\n",
            "Epoch 14 Batch 800 Loss 0.0634\n",
            "Epoch 14 Batch 900 Loss 0.0415\n",
            "Epoch 14 Batch 1000 Loss 0.0964\n",
            "Epoch 14 Batch 1100 Loss 0.0622\n",
            "Epoch 14 Batch 1200 Loss 0.0859\n",
            "Epoch 14 Batch 1300 Loss 0.0890\n",
            "Epoch 14 Batch 1400 Loss 0.0788\n",
            "Epoch 14 Batch 1500 Loss 0.0502\n",
            "Epoch 14 Batch 1600 Loss 0.0701\n",
            "Epoch 14 Batch 1700 Loss 0.0592\n",
            "Epoch 14 Batch 1800 Loss 0.0718\n",
            "Epoch 14 Batch 1900 Loss 0.0945\n",
            "Epoch 14 Batch 2000 Loss 0.0885\n",
            "Epoch 14 Batch 2100 Loss 0.1426\n",
            "Epoch 14 Batch 2200 Loss 0.1361\n",
            "Epoch 14 Batch 2300 Loss 0.0810\n",
            "Epoch 14 Batch 2400 Loss 0.1052\n",
            "Epoch 14 Loss 0.0888\n",
            "Time taken for 1 epoch 86.2266206741333 sec\n",
            "\n",
            "Epoch 15 Batch 0 Loss 0.0333\n",
            "Epoch 15 Batch 100 Loss 0.0616\n",
            "Epoch 15 Batch 200 Loss 0.1134\n",
            "Epoch 15 Batch 300 Loss 0.0370\n",
            "Epoch 15 Batch 400 Loss 0.1267\n",
            "Epoch 15 Batch 500 Loss 0.0893\n",
            "Epoch 15 Batch 600 Loss 0.0418\n",
            "Epoch 15 Batch 700 Loss 0.1146\n",
            "Epoch 15 Batch 800 Loss 0.0378\n",
            "Epoch 15 Batch 900 Loss 0.2077\n",
            "Epoch 15 Batch 1000 Loss 0.0935\n",
            "Epoch 15 Batch 1100 Loss 0.0582\n",
            "Epoch 15 Batch 1200 Loss 0.1135\n",
            "Epoch 15 Batch 1300 Loss 0.0757\n",
            "Epoch 15 Batch 1400 Loss 0.0325\n",
            "Epoch 15 Batch 1500 Loss 0.1011\n",
            "Epoch 15 Batch 1600 Loss 0.1280\n",
            "Epoch 15 Batch 1700 Loss 0.1170\n",
            "Epoch 15 Batch 1800 Loss 0.1310\n",
            "Epoch 15 Batch 1900 Loss 0.0746\n",
            "Epoch 15 Batch 2000 Loss 0.0605\n",
            "Epoch 15 Batch 2100 Loss 0.0771\n",
            "Epoch 15 Batch 2200 Loss 0.1527\n",
            "Epoch 15 Batch 2300 Loss 0.1291\n",
            "Epoch 15 Batch 2400 Loss 0.1392\n",
            "Epoch 15 Loss 0.0862\n",
            "Time taken for 1 epoch 79.335928440094 sec\n",
            "\n",
            "Epoch 16 Batch 0 Loss 0.0495\n",
            "Epoch 16 Batch 100 Loss 0.0306\n",
            "Epoch 16 Batch 200 Loss 0.0742\n",
            "Epoch 16 Batch 300 Loss 0.1213\n",
            "Epoch 16 Batch 400 Loss 0.1306\n",
            "Epoch 16 Batch 500 Loss 0.0718\n",
            "Epoch 16 Batch 600 Loss 0.0611\n",
            "Epoch 16 Batch 700 Loss 0.0566\n",
            "Epoch 16 Batch 800 Loss 0.1189\n",
            "Epoch 16 Batch 900 Loss 0.1250\n",
            "Epoch 16 Batch 1000 Loss 0.1226\n",
            "Epoch 16 Batch 1100 Loss 0.0643\n",
            "Epoch 16 Batch 1200 Loss 0.1253\n",
            "Epoch 16 Batch 1300 Loss 0.0622\n",
            "Epoch 16 Batch 1400 Loss 0.0583\n",
            "Epoch 16 Batch 1500 Loss 0.1139\n",
            "Epoch 16 Batch 1600 Loss 0.0764\n",
            "Epoch 16 Batch 1700 Loss 0.0635\n",
            "Epoch 16 Batch 1800 Loss 0.0575\n",
            "Epoch 16 Batch 1900 Loss 0.0536\n",
            "Epoch 16 Batch 2000 Loss 0.1402\n",
            "Epoch 16 Batch 2100 Loss 0.0830\n",
            "Epoch 16 Batch 2200 Loss 0.0989\n",
            "Epoch 16 Batch 2300 Loss 0.1051\n",
            "Epoch 16 Batch 2400 Loss 0.0882\n",
            "Epoch 16 Loss 0.0838\n",
            "Time taken for 1 epoch 84.97911739349365 sec\n",
            "\n",
            "Epoch 17 Batch 0 Loss 0.0711\n",
            "Epoch 17 Batch 100 Loss 0.0888\n",
            "Epoch 17 Batch 200 Loss 0.1176\n",
            "Epoch 17 Batch 300 Loss 0.0297\n",
            "Epoch 17 Batch 400 Loss 0.0662\n",
            "Epoch 17 Batch 500 Loss 0.0947\n",
            "Epoch 17 Batch 600 Loss 0.0735\n",
            "Epoch 17 Batch 700 Loss 0.0860\n",
            "Epoch 17 Batch 800 Loss 0.0785\n",
            "Epoch 17 Batch 900 Loss 0.0940\n",
            "Epoch 17 Batch 1000 Loss 0.0669\n",
            "Epoch 17 Batch 1100 Loss 0.1281\n",
            "Epoch 17 Batch 1200 Loss 0.0558\n",
            "Epoch 17 Batch 1300 Loss 0.0738\n",
            "Epoch 17 Batch 1400 Loss 0.0300\n",
            "Epoch 17 Batch 1500 Loss 0.0884\n",
            "Epoch 17 Batch 1600 Loss 0.0703\n",
            "Epoch 17 Batch 1700 Loss 0.0902\n",
            "Epoch 17 Batch 1800 Loss 0.0941\n",
            "Epoch 17 Batch 1900 Loss 0.0502\n",
            "Epoch 17 Batch 2000 Loss 0.0856\n",
            "Epoch 17 Batch 2100 Loss 0.1901\n",
            "Epoch 17 Batch 2200 Loss 0.1175\n",
            "Epoch 17 Batch 2300 Loss 0.0949\n",
            "Epoch 17 Batch 2400 Loss 0.1253\n",
            "Epoch 17 Loss 0.0825\n",
            "Time taken for 1 epoch 78.9806478023529 sec\n",
            "\n",
            "Epoch 18 Batch 0 Loss 0.0768\n",
            "Epoch 18 Batch 100 Loss 0.0608\n",
            "Epoch 18 Batch 200 Loss 0.1070\n",
            "Epoch 18 Batch 300 Loss 0.0270\n",
            "Epoch 18 Batch 400 Loss 0.0536\n",
            "Epoch 18 Batch 500 Loss 0.0592\n",
            "Epoch 18 Batch 600 Loss 0.0782\n",
            "Epoch 18 Batch 700 Loss 0.0125\n",
            "Epoch 18 Batch 800 Loss 0.0465\n",
            "Epoch 18 Batch 900 Loss 0.0652\n",
            "Epoch 18 Batch 1000 Loss 0.0800\n",
            "Epoch 18 Batch 1100 Loss 0.0937\n",
            "Epoch 18 Batch 1200 Loss 0.0315\n",
            "Epoch 18 Batch 1300 Loss 0.0441\n",
            "Epoch 18 Batch 1400 Loss 0.0430\n",
            "Epoch 18 Batch 1500 Loss 0.1790\n",
            "Epoch 18 Batch 1600 Loss 0.0692\n",
            "Epoch 18 Batch 1700 Loss 0.0891\n",
            "Epoch 18 Batch 1800 Loss 0.0549\n",
            "Epoch 18 Batch 1900 Loss 0.0516\n",
            "Epoch 18 Batch 2000 Loss 0.0716\n",
            "Epoch 18 Batch 2100 Loss 0.0797\n",
            "Epoch 18 Batch 2200 Loss 0.1365\n",
            "Epoch 18 Batch 2300 Loss 0.1072\n",
            "Epoch 18 Batch 2400 Loss 0.0929\n",
            "Epoch 18 Loss 0.0800\n",
            "Time taken for 1 epoch 84.92063403129578 sec\n",
            "\n",
            "Epoch 19 Batch 0 Loss 0.0982\n",
            "Epoch 19 Batch 100 Loss 0.0739\n",
            "Epoch 19 Batch 200 Loss 0.0563\n",
            "Epoch 19 Batch 300 Loss 0.0817\n",
            "Epoch 19 Batch 400 Loss 0.0926\n",
            "Epoch 19 Batch 500 Loss 0.0799\n",
            "Epoch 19 Batch 600 Loss 0.0620\n",
            "Epoch 19 Batch 700 Loss 0.0949\n",
            "Epoch 19 Batch 800 Loss 0.0339\n",
            "Epoch 19 Batch 900 Loss 0.0908\n",
            "Epoch 19 Batch 1000 Loss 0.0748\n",
            "Epoch 19 Batch 1100 Loss 0.0781\n",
            "Epoch 19 Batch 1200 Loss 0.0568\n",
            "Epoch 19 Batch 1300 Loss 0.0741\n",
            "Epoch 19 Batch 1400 Loss 0.0630\n",
            "Epoch 19 Batch 1500 Loss 0.1002\n",
            "Epoch 19 Batch 1600 Loss 0.1127\n",
            "Epoch 19 Batch 1700 Loss 0.0947\n",
            "Epoch 19 Batch 1800 Loss 0.0907\n",
            "Epoch 19 Batch 1900 Loss 0.1023\n",
            "Epoch 19 Batch 2000 Loss 0.1093\n",
            "Epoch 19 Batch 2100 Loss 0.0714\n",
            "Epoch 19 Batch 2200 Loss 0.0613\n",
            "Epoch 19 Batch 2300 Loss 0.0493\n",
            "Epoch 19 Batch 2400 Loss 0.0630\n",
            "Epoch 19 Loss 0.0789\n",
            "Time taken for 1 epoch 79.081467628479 sec\n",
            "\n",
            "Epoch 20 Batch 0 Loss 0.0849\n",
            "Epoch 20 Batch 100 Loss 0.0690\n",
            "Epoch 20 Batch 200 Loss 0.1875\n",
            "Epoch 20 Batch 300 Loss 0.0901\n",
            "Epoch 20 Batch 400 Loss 0.0360\n",
            "Epoch 20 Batch 500 Loss 0.0318\n",
            "Epoch 20 Batch 600 Loss 0.1359\n",
            "Epoch 20 Batch 700 Loss 0.0474\n",
            "Epoch 20 Batch 800 Loss 0.0723\n",
            "Epoch 20 Batch 900 Loss 0.1160\n",
            "Epoch 20 Batch 1000 Loss 0.0496\n",
            "Epoch 20 Batch 1100 Loss 0.1049\n",
            "Epoch 20 Batch 1200 Loss 0.0670\n",
            "Epoch 20 Batch 1300 Loss 0.0812\n",
            "Epoch 20 Batch 1400 Loss 0.0847\n",
            "Epoch 20 Batch 1500 Loss 0.1094\n",
            "Epoch 20 Batch 1600 Loss 0.0789\n",
            "Epoch 20 Batch 1700 Loss 0.1002\n",
            "Epoch 20 Batch 1800 Loss 0.1185\n",
            "Epoch 20 Batch 1900 Loss 0.0326\n",
            "Epoch 20 Batch 2000 Loss 0.0632\n",
            "Epoch 20 Batch 2100 Loss 0.0564\n",
            "Epoch 20 Batch 2200 Loss 0.0388\n",
            "Epoch 20 Batch 2300 Loss 0.1559\n",
            "Epoch 20 Batch 2400 Loss 0.0893\n",
            "Epoch 20 Loss 0.0769\n",
            "Time taken for 1 epoch 81.87636828422546 sec\n",
            "\n",
            "Epoch 21 Batch 0 Loss 0.0475\n",
            "Epoch 21 Batch 100 Loss 0.0786\n",
            "Epoch 21 Batch 200 Loss 0.0882\n",
            "Epoch 21 Batch 300 Loss 0.0807\n",
            "Epoch 21 Batch 400 Loss 0.0549\n",
            "Epoch 21 Batch 500 Loss 0.0827\n",
            "Epoch 21 Batch 600 Loss 0.0939\n",
            "Epoch 21 Batch 700 Loss 0.0334\n",
            "Epoch 21 Batch 800 Loss 0.0581\n",
            "Epoch 21 Batch 900 Loss 0.0245\n",
            "Epoch 21 Batch 1000 Loss 0.0783\n",
            "Epoch 21 Batch 1100 Loss 0.0962\n",
            "Epoch 21 Batch 1200 Loss 0.0463\n",
            "Epoch 21 Batch 1300 Loss 0.1058\n",
            "Epoch 21 Batch 1400 Loss 0.1081\n",
            "Epoch 21 Batch 1500 Loss 0.0505\n",
            "Epoch 21 Batch 1600 Loss 0.0287\n",
            "Epoch 21 Batch 1700 Loss 0.0472\n",
            "Epoch 21 Batch 1800 Loss 0.1487\n",
            "Epoch 21 Batch 1900 Loss 0.0778\n",
            "Epoch 21 Batch 2000 Loss 0.0923\n",
            "Epoch 21 Batch 2100 Loss 0.0511\n",
            "Epoch 21 Batch 2200 Loss 0.0849\n",
            "Epoch 21 Batch 2300 Loss 0.0596\n",
            "Epoch 21 Batch 2400 Loss 0.1059\n",
            "Epoch 21 Loss 0.0753\n",
            "Time taken for 1 epoch 79.04272985458374 sec\n",
            "\n",
            "Epoch 22 Batch 0 Loss 0.0709\n",
            "Epoch 22 Batch 100 Loss 0.0389\n",
            "Epoch 22 Batch 200 Loss 0.0222\n",
            "Epoch 22 Batch 300 Loss 0.0410\n",
            "Epoch 22 Batch 400 Loss 0.0713\n",
            "Epoch 22 Batch 500 Loss 0.1153\n",
            "Epoch 22 Batch 600 Loss 0.0452\n",
            "Epoch 22 Batch 700 Loss 0.0557\n",
            "Epoch 22 Batch 800 Loss 0.0408\n",
            "Epoch 22 Batch 900 Loss 0.1447\n",
            "Epoch 22 Batch 1000 Loss 0.0701\n",
            "Epoch 22 Batch 1100 Loss 0.1062\n",
            "Epoch 22 Batch 1200 Loss 0.0563\n",
            "Epoch 22 Batch 1300 Loss 0.0494\n",
            "Epoch 22 Batch 1400 Loss 0.0932\n",
            "Epoch 22 Batch 1500 Loss 0.0952\n",
            "Epoch 22 Batch 1600 Loss 0.0931\n",
            "Epoch 22 Batch 1700 Loss 0.0571\n",
            "Epoch 22 Batch 1800 Loss 0.1091\n",
            "Epoch 22 Batch 1900 Loss 0.0289\n",
            "Epoch 22 Batch 2000 Loss 0.1083\n",
            "Epoch 22 Batch 2100 Loss 0.1202\n",
            "Epoch 22 Batch 2200 Loss 0.0950\n",
            "Epoch 22 Batch 2300 Loss 0.0660\n",
            "Epoch 22 Batch 2400 Loss 0.0939\n",
            "Epoch 22 Loss 0.0743\n",
            "Time taken for 1 epoch 84.9901807308197 sec\n",
            "\n",
            "Epoch 23 Batch 0 Loss 0.0800\n",
            "Epoch 23 Batch 100 Loss 0.0434\n",
            "Epoch 23 Batch 200 Loss 0.1022\n",
            "Epoch 23 Batch 300 Loss 0.0910\n",
            "Epoch 23 Batch 400 Loss 0.1660\n",
            "Epoch 23 Batch 500 Loss 0.0449\n",
            "Epoch 23 Batch 600 Loss 0.0665\n",
            "Epoch 23 Batch 700 Loss 0.0412\n",
            "Epoch 23 Batch 800 Loss 0.0591\n",
            "Epoch 23 Batch 900 Loss 0.0651\n",
            "Epoch 23 Batch 1000 Loss 0.0577\n",
            "Epoch 23 Batch 1100 Loss 0.0608\n",
            "Epoch 23 Batch 1200 Loss 0.0451\n",
            "Epoch 23 Batch 1300 Loss 0.0957\n",
            "Epoch 23 Batch 1400 Loss 0.0565\n",
            "Epoch 23 Batch 1500 Loss 0.0833\n",
            "Epoch 23 Batch 1600 Loss 0.1741\n",
            "Epoch 23 Batch 1700 Loss 0.0441\n",
            "Epoch 23 Batch 1800 Loss 0.0651\n",
            "Epoch 23 Batch 1900 Loss 0.1006\n",
            "Epoch 23 Batch 2000 Loss 0.0593\n",
            "Epoch 23 Batch 2100 Loss 0.0721\n",
            "Epoch 23 Batch 2200 Loss 0.1228\n",
            "Epoch 23 Batch 2300 Loss 0.0508\n",
            "Epoch 23 Batch 2400 Loss 0.0255\n",
            "Epoch 23 Loss 0.0722\n",
            "Time taken for 1 epoch 79.22588872909546 sec\n",
            "\n",
            "Epoch 24 Batch 0 Loss 0.0904\n",
            "Epoch 24 Batch 100 Loss 0.0782\n",
            "Epoch 24 Batch 200 Loss 0.0820\n",
            "Epoch 24 Batch 300 Loss 0.0499\n",
            "Epoch 24 Batch 400 Loss 0.0699\n",
            "Epoch 24 Batch 500 Loss 0.0783\n",
            "Epoch 24 Batch 600 Loss 0.0574\n",
            "Epoch 24 Batch 700 Loss 0.0700\n",
            "Epoch 24 Batch 800 Loss 0.0404\n",
            "Epoch 24 Batch 900 Loss 0.0645\n",
            "Epoch 24 Batch 1000 Loss 0.0774\n",
            "Epoch 24 Batch 1100 Loss 0.0679\n",
            "Epoch 24 Batch 1200 Loss 0.1117\n",
            "Epoch 24 Batch 1300 Loss 0.0213\n",
            "Epoch 24 Batch 1400 Loss 0.0254\n",
            "Epoch 24 Batch 1500 Loss 0.0766\n",
            "Epoch 24 Batch 1600 Loss 0.0270\n",
            "Epoch 24 Batch 1700 Loss 0.0302\n",
            "Epoch 24 Batch 1800 Loss 0.0989\n",
            "Epoch 24 Batch 1900 Loss 0.0425\n",
            "Epoch 24 Batch 2000 Loss 0.0486\n",
            "Epoch 24 Batch 2100 Loss 0.0792\n",
            "Epoch 24 Batch 2200 Loss 0.1717\n",
            "Epoch 24 Batch 2300 Loss 0.0638\n",
            "Epoch 24 Batch 2400 Loss 0.0330\n",
            "Epoch 24 Loss 0.0712\n",
            "Time taken for 1 epoch 85.11336851119995 sec\n",
            "\n",
            "Epoch 25 Batch 0 Loss 0.0448\n",
            "Epoch 25 Batch 100 Loss 0.0563\n",
            "Epoch 25 Batch 200 Loss 0.0692\n",
            "Epoch 25 Batch 300 Loss 0.0413\n",
            "Epoch 25 Batch 400 Loss 0.1244\n",
            "Epoch 25 Batch 500 Loss 0.0359\n",
            "Epoch 25 Batch 600 Loss 0.0433\n",
            "Epoch 25 Batch 700 Loss 0.0470\n",
            "Epoch 25 Batch 800 Loss 0.0564\n",
            "Epoch 25 Batch 900 Loss 0.0566\n",
            "Epoch 25 Batch 1000 Loss 0.0413\n",
            "Epoch 25 Batch 1100 Loss 0.0876\n",
            "Epoch 25 Batch 1200 Loss 0.0994\n",
            "Epoch 25 Batch 1300 Loss 0.1171\n",
            "Epoch 25 Batch 1400 Loss 0.0623\n",
            "Epoch 25 Batch 1500 Loss 0.0612\n",
            "Epoch 25 Batch 1600 Loss 0.0687\n",
            "Epoch 25 Batch 1700 Loss 0.0539\n",
            "Epoch 25 Batch 1800 Loss 0.0404\n",
            "Epoch 25 Batch 1900 Loss 0.0668\n",
            "Epoch 25 Batch 2000 Loss 0.0775\n",
            "Epoch 25 Batch 2100 Loss 0.0630\n",
            "Epoch 25 Batch 2200 Loss 0.0625\n",
            "Epoch 25 Batch 2300 Loss 0.0590\n",
            "Epoch 25 Batch 2400 Loss 0.1069\n",
            "Epoch 25 Loss 0.0698\n",
            "Time taken for 1 epoch 79.14637207984924 sec\n",
            "\n"
          ]
        }
      ]
    },
    {
      "cell_type": "markdown",
      "metadata": {
        "id": "mU3Ce8M6I3rz"
      },
      "source": [
        "## Translate\n",
        "\n",
        "* The evaluate function is similar to the training loop, except we don't use *teacher forcing* here. The input to the decoder at each time step is its previous predictions along with the hidden state and the encoder output.\n",
        "* Stop predicting when the model predicts the *end token*.\n",
        "* And store the *attention weights for every time step*.\n",
        "\n",
        "Note: The encoder output is calculated only once for one input."
      ]
    },
    {
      "cell_type": "code",
      "metadata": {
        "id": "EbQpyYs13jF_"
      },
      "source": [
        "def evaluate(sentence):\n",
        "  attention_plot = np.zeros((max_length_targ, max_length_inp))\n",
        "\n",
        "  sentence = preprocess_sentence(sentence)\n",
        "\n",
        "  inputs = [inp_lang.word_index[i] for i in sentence.split(' ')]\n",
        "  inputs = tf.keras.preprocessing.sequence.pad_sequences([inputs],\n",
        "                                                         maxlen=max_length_inp,\n",
        "                                                         padding='post')\n",
        "  inputs = tf.convert_to_tensor(inputs)\n",
        "\n",
        "  result = ''\n",
        "\n",
        "  hidden = [tf.zeros((1, units)) for i in range(2)]\n",
        "  enc_hidden = encoder(inputs, hidden)\n",
        "\n",
        "  forward_hidden, backward_hidden = enc_hidden\n",
        "\n",
        "  dec_input = tf.expand_dims([targ_lang.word_index['<start>']], 0)\n",
        "\n",
        "  for t in range(max_length_targ):\n",
        "    predictions, dec_hidden = decoder(dec_input, forward_hidden, backward_hidden)\n",
        "\n",
        "    # storing the attention weights to plot later on\n",
        "    predicted_id = tf.argmax(predictions[0]).numpy()\n",
        "    result += targ_lang.index_word[predicted_id] + ' '\n",
        "\n",
        "    if targ_lang.index_word[predicted_id] == '<end>':\n",
        "      return result, sentence\n",
        "\n",
        "    # the predicted ID is fed back into the model\n",
        "    dec_input = tf.expand_dims([predicted_id], 0)\n",
        "\n",
        "  return result, sentence"
      ],
      "execution_count": 30,
      "outputs": []
    },
    {
      "cell_type": "code",
      "metadata": {
        "id": "sl9zUHzg3jGI"
      },
      "source": [
        "def translate(sentence):\n",
        "  result, sentence = evaluate(sentence)\n",
        "\n",
        "  print('Input: %s' % (sentence))\n",
        "  print('Predicted translation: {}'.format(result))"
      ],
      "execution_count": 31,
      "outputs": []
    },
    {
      "cell_type": "markdown",
      "metadata": {
        "id": "n250XbnjOaqP"
      },
      "source": [
        "## Restore the latest checkpoint and test"
      ]
    },
    {
      "cell_type": "code",
      "metadata": {
        "id": "UJpT9D5_OgP6"
      },
      "source": [
        "# restoring the latest checkpoint in checkpoint_dir\n",
        "# checkpoint.restore(tf.train.latest_checkpoint(checkpoint_dir))"
      ],
      "execution_count": 32,
      "outputs": []
    },
    {
      "cell_type": "code",
      "metadata": {
        "id": "WrAM0FDomq3E",
        "colab": {
          "base_uri": "https://localhost:8080/"
        },
        "outputId": "37dd0ea5-2847-4d38-a31a-08893be69555"
      },
      "source": [
        "translate('Здесь хорошо.')"
      ],
      "execution_count": 33,
      "outputs": [
        {
          "output_type": "stream",
          "name": "stdout",
          "text": [
            "Input: <start> здесь хорошо . <end>\n",
            "Predicted translation: it's good here . <end> \n"
          ]
        }
      ]
    },
    {
      "cell_type": "code",
      "metadata": {
        "id": "5bhFfwcIMX5i",
        "colab": {
          "base_uri": "https://localhost:8080/"
        },
        "outputId": "c83cda9f-f2f7-4c40-e651-56db8ec1b885"
      },
      "source": [
        "translate('Я не смогу поехать.')"
      ],
      "execution_count": 34,
      "outputs": [
        {
          "output_type": "stream",
          "name": "stdout",
          "text": [
            "Input: <start> я не смогу поехать . <end>\n",
            "Predicted translation: i can't go . <end> \n"
          ]
        }
      ]
    },
    {
      "cell_type": "code",
      "metadata": {
        "id": "zSx2iM36EZQZ",
        "colab": {
          "base_uri": "https://localhost:8080/"
        },
        "outputId": "2e73f37f-57b7-4254-e5d0-1821837ec64b"
      },
      "source": [
        "translate(u'Вы еще дома?')"
      ],
      "execution_count": 35,
      "outputs": [
        {
          "output_type": "stream",
          "name": "stdout",
          "text": [
            "Input: <start> вы еще дома ? <end>\n",
            "Predicted translation: are you still home ? <end> \n"
          ]
        }
      ]
    },
    {
      "cell_type": "code",
      "metadata": {
        "id": "A3LLCx3ZE0Ls",
        "colab": {
          "base_uri": "https://localhost:8080/"
        },
        "outputId": "0b1b4176-c99d-461c-94e3-538b7231f360"
      },
      "source": [
        "translate(u'Вы всё еще дома?')"
      ],
      "execution_count": 36,
      "outputs": [
        {
          "output_type": "stream",
          "name": "stdout",
          "text": [
            "Input: <start> вы вс еще дома ? <end>\n",
            "Predicted translation: are you still home ? <end> \n"
          ]
        }
      ]
    },
    {
      "cell_type": "code",
      "metadata": {
        "id": "DUQVLVqUE1YW",
        "colab": {
          "base_uri": "https://localhost:8080/"
        },
        "outputId": "b54a3a83-9358-49e1-ba9a-b662ca7b1e88"
      },
      "source": [
        "translate(u'Попробуй сделать это.')"
      ],
      "execution_count": 37,
      "outputs": [
        {
          "output_type": "stream",
          "name": "stdout",
          "text": [
            "Input: <start> попробуй сделать это . <end>\n",
            "Predicted translation: try to do it . <end> \n"
          ]
        }
      ]
    },
    {
      "cell_type": "code",
      "metadata": {
        "id": "f09_hUFx9EJh",
        "colab": {
          "base_uri": "https://localhost:8080/"
        },
        "outputId": "62ee99d1-50a9-4ddb-bd93-9e5d80ca6f59"
      },
      "source": [
        "translate(u'Я люблю, когда идет снег.')"
      ],
      "execution_count": 38,
      "outputs": [
        {
          "output_type": "stream",
          "name": "stdout",
          "text": [
            "Input: <start> я люблю , когда идет снег . <end>\n",
            "Predicted translation: i like when it rains . <end> \n"
          ]
        }
      ]
    },
    {
      "cell_type": "code",
      "metadata": {
        "id": "e7c5p8rmkHQG",
        "colab": {
          "base_uri": "https://localhost:8080/"
        },
        "outputId": "2ee5ea28-3a8d-49e8-a1e8-3a6d015fb544"
      },
      "source": [
        "translate(u'Я никогда такого не делаю.')"
      ],
      "execution_count": 39,
      "outputs": [
        {
          "output_type": "stream",
          "name": "stdout",
          "text": [
            "Input: <start> я никогда такого не делаю . <end>\n",
            "Predicted translation: i never do that . <end> \n"
          ]
        }
      ]
    },
    {
      "cell_type": "code",
      "source": [
        "translate('Я хочу поехать в отпуск.')"
      ],
      "metadata": {
        "id": "TxGkYLKgA33D",
        "colab": {
          "base_uri": "https://localhost:8080/"
        },
        "outputId": "d4183c9b-691a-4535-f242-839178f508db"
      },
      "execution_count": 40,
      "outputs": [
        {
          "output_type": "stream",
          "name": "stdout",
          "text": [
            "Input: <start> я хочу поехать в отпуск . <end>\n",
            "Predicted translation: i want to go hunting . <end> \n"
          ]
        }
      ]
    },
    {
      "cell_type": "code",
      "source": [
        "translate('Я тебя люблю')"
      ],
      "metadata": {
        "id": "uZbjLtv2BwGZ",
        "colab": {
          "base_uri": "https://localhost:8080/"
        },
        "outputId": "edb855cb-7b63-4513-bc53-1bad295ad73e"
      },
      "execution_count": 41,
      "outputs": [
        {
          "output_type": "stream",
          "name": "stdout",
          "text": [
            "Input: <start> я тебя люблю <end>\n",
            "Predicted translation: i love you . <end> \n"
          ]
        }
      ]
    },
    {
      "cell_type": "code",
      "source": [
        "translate('У меня есть собака')"
      ],
      "metadata": {
        "id": "EsB5BRQdBTKD",
        "colab": {
          "base_uri": "https://localhost:8080/"
        },
        "outputId": "09e44b24-842a-4a01-e6b9-f6522804a1bd"
      },
      "execution_count": 42,
      "outputs": [
        {
          "output_type": "stream",
          "name": "stdout",
          "text": [
            "Input: <start> у меня есть собака <end>\n",
            "Predicted translation: i have a dog . <end> \n"
          ]
        }
      ]
    },
    {
      "cell_type": "code",
      "source": [
        "translate('Как у тебя дела?')"
      ],
      "metadata": {
        "id": "2xJPd5a2C_Ov",
        "colab": {
          "base_uri": "https://localhost:8080/"
        },
        "outputId": "08809f6c-6a23-4de6-f6e9-eb496fcece66"
      },
      "execution_count": 43,
      "outputs": [
        {
          "output_type": "stream",
          "name": "stdout",
          "text": [
            "Input: <start> как у тебя дела ? <end>\n",
            "Predicted translation: how are you doing ? <end> \n"
          ]
        }
      ]
    },
    {
      "cell_type": "code",
      "source": [
        "translate('Жизнь прекрасна')"
      ],
      "metadata": {
        "id": "ZBcSHjAC2hyI",
        "colab": {
          "base_uri": "https://localhost:8080/"
        },
        "outputId": "5318e698-dcae-4a69-d3df-5520bd29cb16"
      },
      "execution_count": 44,
      "outputs": [
        {
          "output_type": "stream",
          "name": "stdout",
          "text": [
            "Input: <start> жизнь прекрасна <end>\n",
            "Predicted translation: life is not fair . <end> \n"
          ]
        }
      ]
    },
    {
      "cell_type": "code",
      "source": [
        "translate(u'Когда у тебя день рождения?')"
      ],
      "metadata": {
        "id": "DhRnaJOG25_m",
        "colab": {
          "base_uri": "https://localhost:8080/"
        },
        "outputId": "d8a6236f-5fdd-4ce9-9724-909429c4f27c"
      },
      "execution_count": 45,
      "outputs": [
        {
          "output_type": "stream",
          "name": "stdout",
          "text": [
            "Input: <start> когда у тебя день рождения ? <end>\n",
            "Predicted translation: what's your day ? <end> \n"
          ]
        }
      ]
    },
    {
      "cell_type": "code",
      "source": [],
      "metadata": {
        "id": "oQkpI2M-6d5m"
      },
      "execution_count": 45,
      "outputs": []
    },
    {
      "cell_type": "markdown",
      "source": [
        "В целом перевод получается лучше, чем если брать сеть с однонаправленным gru."
      ],
      "metadata": {
        "id": "Reh7_D9w5Ab6"
      }
    }
  ]
}