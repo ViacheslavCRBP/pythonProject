{
 "cells": [
  {
   "cell_type": "markdown",
   "id": "b457bcd2",
   "metadata": {},
   "source": [
    "## Урок 2\n",
    "### Матрицы и матричные операции. Часть 1\n",
    "\n",
    "### Практическое задание. Часть 1"
   ]
  },
  {
   "cell_type": "code",
   "execution_count": 28,
   "id": "b43fadfa",
   "metadata": {},
   "outputs": [],
   "source": [
    "import numpy as np"
   ]
  },
  {
   "cell_type": "markdown",
   "id": "3d4bfd5b",
   "metadata": {},
   "source": [
    "#### 1. Установите какие произведения матриц A B и B A , определены и найдите размерности полученных матриц:\n",
    "\n",
    "а) A — матрица 4×2, B — матрица 4×2;  \n",
    "б) A — матрица 2×5, B — матрица 5×3;  \n",
    "в) A — матрица 8×3, B — матрица 3×8;  \n",
    "г) A — квадратная матрица 4 ×4, B — квадратная матрица 4 ×4."
   ]
  },
  {
   "cell_type": "markdown",
   "id": "148e33ee",
   "metadata": {},
   "source": [
    "Матрицу A можно умножить на матрицу B, если число столбцов матрицы A было равно числу строк матрицы B.\n",
    "\n",
    "а) A — матрица 4×2, B — матрица 4×2;  \n",
    "AB - перемножить нельзя  \n",
    "BA - перемножить нельзя  \n",
    "\n",
    "б) A — матрица 2×5, B — матрица 5×3;  \n",
    "AB - перемножить можно  (2х3)  \n",
    "BA - перемножить нельзя  \n",
    "\n",
    "в) A — матрица 8×3, B — матрица 3×8;  \n",
    "AB - перемножить можно (8х8)  \n",
    "BA - перемножить можно (3х3)  \n",
    "\n",
    "г) A — квадратная матрица 4×4, B — квадратная матрица 4×4.   \n",
    "AB - перемножить можно  (4×4)  \n",
    "BA - перемножить можно  (4×4)  "
   ]
  },
  {
   "cell_type": "markdown",
   "id": "bd78fc51",
   "metadata": {},
   "source": [
    "#### 2. Найдите сумму и произведение матриц:\n",
    "\n",
    "A  \n",
    "\n",
    "    1  -2  \n",
    "    3   0   \n",
    "    \n",
    "В  \n",
    "\n",
    "    4  -1  \n",
    "    0   5  "
   ]
  },
  {
   "cell_type": "markdown",
   "id": "9cb7a9ac",
   "metadata": {},
   "source": [
    "    (1  -2)    +    (4  -1)    =  (5   -3)\n",
    "    (3   0)         (0   5)       (3    5)"
   ]
  },
  {
   "cell_type": "code",
   "execution_count": 29,
   "id": "48dc62f6",
   "metadata": {},
   "outputs": [
    {
     "data": {
      "text/plain": [
       "array([[ 5, -3],\n",
       "       [ 3,  5]])"
      ]
     },
     "execution_count": 29,
     "metadata": {},
     "output_type": "execute_result"
    }
   ],
   "source": [
    "#проверка суммы\n",
    "a = np.array([[1, -2], [3, 0]])\n",
    "b = np.array([[4, -1], [0, 5]])\n",
    "a + b"
   ]
  },
  {
   "cell_type": "markdown",
   "id": "c4a5730a",
   "metadata": {},
   "source": [
    "    (1  -2)    *    (4  -1)    =  (4   -11)\n",
    "    (3   0)         (0   5)       (12   -3)"
   ]
  },
  {
   "cell_type": "code",
   "execution_count": 30,
   "id": "7cbd8b88",
   "metadata": {},
   "outputs": [
    {
     "data": {
      "text/plain": [
       "array([[  4, -11],\n",
       "       [ 12,  -3]])"
      ]
     },
     "execution_count": 30,
     "metadata": {},
     "output_type": "execute_result"
    }
   ],
   "source": [
    "#проверка произведения\n",
    "a.dot(b)"
   ]
  },
  {
   "cell_type": "markdown",
   "id": "3d60a7ba",
   "metadata": {},
   "source": [
    "#### 3. Из закономерностей сложения и умножения матриц на число можно сделать вывод, что матрицы одного размера образуют линейное пространство. Вычислите линейную комбинацию 3 A −2B+4C\n",
    "\n",
    "A  \n",
    "\n",
    "    1   7  \n",
    "    3  -6   \n",
    "    \n",
    "В  \n",
    "\n",
    "    0   5  \n",
    "    2  -1\n",
    "    \n",
    "C\n",
    "\n",
    "    2  -4\n",
    "    1   1"
   ]
  },
  {
   "cell_type": "code",
   "execution_count": 31,
   "id": "403a183e",
   "metadata": {},
   "outputs": [
    {
     "data": {
      "text/plain": [
       "array([[ 11,  -5],\n",
       "       [  9, -12]])"
      ]
     },
     "execution_count": 31,
     "metadata": {},
     "output_type": "execute_result"
    }
   ],
   "source": [
    "a = np.array([[1, 7], [3, -6]])\n",
    "b = np.array([[0, 5], [2, -1]])\n",
    "c = np.array([[2, -4], [1, 1]])\n",
    "3 * a + (-2) * b + 4 * c"
   ]
  },
  {
   "cell_type": "markdown",
   "id": "d98b79f1",
   "metadata": {},
   "source": [
    "#### 4.  Дана матрица A\n",
    "    4   1\n",
    "    5  -2\n",
    "    2   3\n",
    "\n",
    "Вычислите:\n",
    "$A * A^T \\\\\n",
    "A^T *A$"
   ]
  },
  {
   "cell_type": "markdown",
   "id": "37bdb06b",
   "metadata": {},
   "source": [
    "$A^{T} = \\begin{pmatrix} 4 & 5 & 2\\\\ 1 & -2 & 3 \\end{pmatrix} $\n"
   ]
  },
  {
   "cell_type": "markdown",
   "id": "dfa41d3c",
   "metadata": {},
   "source": [
    "$A A^{T} = \\begin{pmatrix} 4 & 1\\\\ 5 & -2\\\\ 2 & 3\\end{pmatrix} * \\begin{pmatrix} 4 & 5 & 2\\\\ 1 & -2 & 3 \\end{pmatrix} = \\begin{pmatrix} 17 & 18 & 11\\\\ 18 & 29 & 4\\\\ 11 & 4 & 13\\end{pmatrix} $\n"
   ]
  },
  {
   "cell_type": "markdown",
   "id": "0245b2e7",
   "metadata": {},
   "source": [
    "$A^{T}A = \\begin{pmatrix} 4 & 5 & 2\\\\ 1 & -2 & 3\\end{pmatrix} * \\begin{pmatrix} 4 & 1\\\\ 5\n",
    "& -2\\\\ 2 & 3 \\end{pmatrix} = \\begin{pmatrix} 45 & 0\\\\ 0 & 14 \\end{pmatrix} $\n"
   ]
  },
  {
   "cell_type": "code",
   "execution_count": 32,
   "id": "59fe81a4",
   "metadata": {},
   "outputs": [
    {
     "data": {
      "text/plain": [
       "array([[ 4,  5,  2],\n",
       "       [ 1, -2,  3]])"
      ]
     },
     "execution_count": 32,
     "metadata": {},
     "output_type": "execute_result"
    }
   ],
   "source": [
    "A = np.array([[4, 1], [5, -2], [2, 3]])\n",
    "A.T"
   ]
  },
  {
   "cell_type": "code",
   "execution_count": 33,
   "id": "e037716b",
   "metadata": {},
   "outputs": [
    {
     "data": {
      "text/plain": [
       "array([[17, 18, 11],\n",
       "       [18, 29,  4],\n",
       "       [11,  4, 13]])"
      ]
     },
     "execution_count": 33,
     "metadata": {},
     "output_type": "execute_result"
    }
   ],
   "source": [
    "A.dot(A.T)"
   ]
  },
  {
   "cell_type": "code",
   "execution_count": 34,
   "id": "7a8de83e",
   "metadata": {},
   "outputs": [
    {
     "data": {
      "text/plain": [
       "array([[45,  0],\n",
       "       [ 0, 14]])"
      ]
     },
     "execution_count": 34,
     "metadata": {},
     "output_type": "execute_result"
    }
   ],
   "source": [
    "A.T.dot(A)"
   ]
  },
  {
   "cell_type": "markdown",
   "id": "64dfa9c9",
   "metadata": {},
   "source": [
    "### Практическое задание. Часть 2"
   ]
  },
  {
   "cell_type": "markdown",
   "id": "209a7b2c",
   "metadata": {},
   "source": [
    "#### 1. Вычислить определитель:\n",
    "\n",
    "a)  \n",
    "           sinx −cosx  \n",
    "           cosx sinx\n",
    "           \n",
    "$ sin^2x + cos^2x = 1$\n",
    "\n",
    "б)\n",
    "\n",
    "    4 2 3\n",
    "    0 5 1\n",
    "    0 0 9\n",
    "\n",
    "$4∗(5∗9−1∗0)−2(0∗9−1∗0)+3 (0∗0−5∗0)=4∗45=180$\n",
    "\n",
    "в)\n",
    "\n",
    "    1 2 3\n",
    "    4 5 6\n",
    "    7 8 9\n",
    "\n",
    "$1∗(5∗9−6∗8)−2∗( 4∗9−7∗6)+3∗( 4∗8−5∗7)=0 $"
   ]
  },
  {
   "cell_type": "code",
   "execution_count": 35,
   "id": "4a42f3d9",
   "metadata": {},
   "outputs": [
    {
     "data": {
      "text/plain": [
       "180.0"
      ]
     },
     "execution_count": 35,
     "metadata": {},
     "output_type": "execute_result"
    }
   ],
   "source": [
    "# проверка б)\n",
    "b = np.array([[4, 2, 3], [0, 5, 1], [0, 0, 9]])\n",
    "np.linalg.det(b)"
   ]
  },
  {
   "cell_type": "code",
   "execution_count": 36,
   "id": "cbe07657",
   "metadata": {},
   "outputs": [
    {
     "data": {
      "text/plain": [
       "-0.0"
      ]
     },
     "execution_count": 36,
     "metadata": {},
     "output_type": "execute_result"
    }
   ],
   "source": [
    "# проверка в)\n",
    "c = np.array([[1, 2, 3], [4, 5, 6], [7, 8, 9]])\n",
    "round(np.linalg.det(c), 2)"
   ]
  },
  {
   "cell_type": "markdown",
   "id": "78923490",
   "metadata": {},
   "source": [
    "#### 2. Определитель матрицы A равен 4.  \n",
    "#### Найдите:\n",
    "\n",
    "$а)  det(A^2);$\n",
    "\n",
    "$б)  det(A^T);$\n",
    "\n",
    "$в)  det(2A).$"
   ]
  },
  {
   "cell_type": "markdown",
   "id": "1a8183f0",
   "metadata": {},
   "source": [
    "a) Для двух квадратных матриц одинакового размера:\n",
    "\\begin{equation*}\n",
    "det(AB) = detA * detB\n",
    "\\\\\n",
    "det(A^2) = 4 ∗ 4 = 16\n",
    "\\end{equation*}"
   ]
  },
  {
   "cell_type": "markdown",
   "id": "bad8313e",
   "metadata": {},
   "source": [
    "б) Определитель транспонированной матрицы равен определителю\n",
    "исходной: \n",
    "\\begin{equation*}\n",
    "det A^T = det A\n",
    "\\\\\n",
    "det A^T = 4 \n",
    "\\end{equation*}"
   ]
  },
  {
   "cell_type": "markdown",
   "id": "3eb807d6",
   "metadata": {},
   "source": [
    "в) Умножение строки или столбца матрицы на число λ приведёт к\n",
    "умножению определителя матрицы на то же число. \n",
    "\\begin{equation*}\n",
    "det (2 A) = 2^n ∗ 4 = 2^n+^2\n",
    "\\end{equation*}"
   ]
  },
  {
   "cell_type": "markdown",
   "id": "62ae6a46",
   "metadata": {},
   "source": [
    "#### 3. Докажите что это вырожденная матрица:\n",
    "    -2  7  -3\n",
    "     4 -14  6\n",
    "    -3  7   13\n",
    "Матрица является вырожденной если ее определитель равен нулю.   \n",
    "Если две строки столбца матрицы линейно зависимы, то определитель\n",
    "этой матрицы равен нулю.\n",
    "Так как вторая строка матрицы равна первой строке умноженной ,\n",
    "на то эти две строки линейно зависимы соответственно определитель матрицы равен нулю что и означает что эта матрица - вырожденная.\n",
    "\n",
    "= −2 (−14∗13−6∗7) −7 (4∗13+6∗3) −3 (4∗7−(14∗3)) = 448 − 490 + 42 = 0"
   ]
  },
  {
   "cell_type": "code",
   "execution_count": 37,
   "id": "d1129daf",
   "metadata": {},
   "outputs": [
    {
     "data": {
      "text/plain": [
       "0.0"
      ]
     },
     "execution_count": 37,
     "metadata": {},
     "output_type": "execute_result"
    }
   ],
   "source": [
    "#Для верности посчитаем определитель матрицы:\n",
    "\n",
    "c = np.array([[-2, 7, -3], [4, -14, 6],[-3, 7, 13]])\n",
    "np.linalg.det(c)"
   ]
  },
  {
   "cell_type": "markdown",
   "id": "a27cc7bc",
   "metadata": {},
   "source": [
    "#### 4. Найдите ранг матрицы:\n",
    "a)\n",
    "\n",
    "     1  2  3\n",
    "     1  1  1\n",
    "     2  3  4\n",
    "     \n",
    "Отнимем из второй строки первую:   \n",
    "\n",
    "     1  2  3\n",
    "     0 -1 -2\n",
    "     2  3  4\n",
    "     \n",
    "Теперь отнимем из третьей строки первую умноженную на 2  \n",
    "\n",
    "    1  2  3\n",
    "    0 -1 -2\n",
    "    0 -1 -2\n",
    "\n",
    "Так как вторая и третья строки равны удалим третью строку  \n",
    "\n",
    "     1  2  3\n",
    "     0 -1 -2\n",
    "     \n",
    "Получилась верхне треугольная матрица таким образом ранг матрицы равен 2.  \n",
    "     \n",
    "б)\n",
    "\n",
    "    0  0  2  1\n",
    "    0  0  2  2\n",
    "    0  0  4  3\n",
    "    2  3  5  6\n",
    "   \n",
    "Переместим последную строку наверх на место первой:  \n",
    "\n",
    "    2  3  5  6\n",
    "    0  0  2  1\n",
    "    0  0  2  2\n",
    "    0  0  4  3\n",
    "    \n",
    "Из четвертой строки отнимем вторую умноженную на 2:  \n",
    "\n",
    "    2  3  5  6\n",
    "    0  0  2  1\n",
    "    0  0  2  2\n",
    "    0  0  0  1\n",
    "\n",
    "Получилась верхне-треугольная матрица.  \n",
    "\n",
    "Используем правило:\n",
    "*Определитель матрицы треугольного вида равен произведению\n",
    "элементов стоящих на её главной диагонали*.\n",
    "\n",
    "В нашем случае произведение и определитель равны нулю, так как во второй строке стоит ноль на главной диагонали.\n",
    "Если убрать вторую строку то ранг матрицы получается равен 3."
   ]
  },
  {
   "cell_type": "code",
   "execution_count": 40,
   "id": "f5977876",
   "metadata": {},
   "outputs": [
    {
     "data": {
      "text/plain": [
       "2"
      ]
     },
     "execution_count": 40,
     "metadata": {},
     "output_type": "execute_result"
    }
   ],
   "source": [
    "#проверка а)\n",
    "a = np.array([[1, 2, 3], [1, 1, 1],[2, 3, 4]])\n",
    "np.linalg.matrix_rank(a)"
   ]
  },
  {
   "cell_type": "code",
   "execution_count": 41,
   "id": "40d571db",
   "metadata": {},
   "outputs": [
    {
     "data": {
      "text/plain": [
       "3"
      ]
     },
     "execution_count": 41,
     "metadata": {},
     "output_type": "execute_result"
    }
   ],
   "source": [
    "#проверка б)\n",
    "a = np.array([[0, 0, 2, 1], [0, 0, 2, 2], [0, 0, 4, 3], [2, 3, 5, 6]])\n",
    "np.linalg.matrix_rank(a)"
   ]
  },
  {
   "cell_type": "code",
   "execution_count": null,
   "id": "6345e48a",
   "metadata": {},
   "outputs": [],
   "source": []
  }
 ],
 "metadata": {
  "kernelspec": {
   "display_name": "Python 3 (ipykernel)",
   "language": "python",
   "name": "python3"
  },
  "language_info": {
   "codemirror_mode": {
    "name": "ipython",
    "version": 3
   },
   "file_extension": ".py",
   "mimetype": "text/x-python",
   "name": "python",
   "nbconvert_exporter": "python",
   "pygments_lexer": "ipython3",
   "version": "3.9.12"
  }
 },
 "nbformat": 4,
 "nbformat_minor": 5
}
