{
  "cells": [
    {
      "cell_type": "markdown",
      "metadata": {
        "id": "view-in-github",
        "colab_type": "text"
      },
      "source": [
        "<a href=\"https://colab.research.google.com/github/ViacheslavCRBP/pythonProject/blob/course-2/Parsing_Lesson_4.ipynb\" target=\"_parent\"><img src=\"https://colab.research.google.com/assets/colab-badge.svg\" alt=\"Open In Colab\"/></a>"
      ]
    },
    {
      "cell_type": "code",
      "source": [
        "!apt install mongodb > log"
      ],
      "metadata": {
        "colab": {
          "base_uri": "https://localhost:8080/"
        },
        "id": "E91sSonWjd25",
        "outputId": "355c36a4-227d-4ab4-ea5b-b3710940c71d"
      },
      "id": "E91sSonWjd25",
      "execution_count": 2,
      "outputs": [
        {
          "output_type": "stream",
          "name": "stdout",
          "text": [
            "\n",
            "WARNING: apt does not have a stable CLI interface. Use with caution in scripts.\n",
            "\n"
          ]
        }
      ]
    },
    {
      "cell_type": "code",
      "source": [
        "!service mongodb start"
      ],
      "metadata": {
        "colab": {
          "base_uri": "https://localhost:8080/"
        },
        "id": "-aO9QbRAjmSb",
        "outputId": "df260d8a-b41f-4b2c-905e-5278a0fa9b73"
      },
      "id": "-aO9QbRAjmSb",
      "execution_count": 3,
      "outputs": [
        {
          "output_type": "stream",
          "name": "stdout",
          "text": [
            " * Starting database mongodb\n",
            "   ...done.\n"
          ]
        }
      ]
    },
    {
      "cell_type": "code",
      "source": [
        "!mongo"
      ],
      "metadata": {
        "colab": {
          "base_uri": "https://localhost:8080/"
        },
        "id": "tzzV-mgNkENK",
        "outputId": "5d897e35-c8b4-4b87-fdc7-e98f06b7ac40"
      },
      "id": "tzzV-mgNkENK",
      "execution_count": 5,
      "outputs": [
        {
          "output_type": "stream",
          "name": "stdout",
          "text": [
            "MongoDB shell version v3.6.8\n",
            "connecting to: mongodb://127.0.0.1:27017\n",
            "Implicit session: session { \"id\" : UUID(\"7f4b0a20-e0c1-40da-9090-775a0f6ef705\") }\n",
            "MongoDB server version: 3.6.8\n",
            "Welcome to the MongoDB shell.\n",
            "For interactive help, type \"help\".\n",
            "For more comprehensive documentation, see\n",
            "\thttp://docs.mongodb.org/\n",
            "Questions? Try the support group\n",
            "\thttp://groups.google.com/group/mongodb-user\n",
            "Server has startup warnings: \n",
            "2023-02-18T17:25:58.123+0000 I CONTROL  [initandlisten] \n",
            "2023-02-18T17:25:58.123+0000 I CONTROL  [initandlisten] ** WARNING: Access control is not enabled for the database.\n",
            "2023-02-18T17:25:58.123+0000 I CONTROL  [initandlisten] **          Read and write access to data and configuration is unrestricted.\n",
            "2023-02-18T17:25:58.123+0000 I CONTROL  [initandlisten] \n",
            "> 2023-02-18T17:27:46.800+0000 I CONTROL  [main] shutting down with code:0\n"
          ]
        }
      ]
    },
    {
      "cell_type": "code",
      "source": [
        "!pip install pymongo"
      ],
      "metadata": {
        "colab": {
          "base_uri": "https://localhost:8080/"
        },
        "id": "o0i5O1fhkIPe",
        "outputId": "54142eda-ecb8-4f35-8b32-d1a699649a76"
      },
      "id": "o0i5O1fhkIPe",
      "execution_count": 6,
      "outputs": [
        {
          "output_type": "stream",
          "name": "stdout",
          "text": [
            "Looking in indexes: https://pypi.org/simple, https://us-python.pkg.dev/colab-wheels/public/simple/\n",
            "Requirement already satisfied: pymongo in /usr/local/lib/python3.8/dist-packages (4.3.3)\n",
            "Requirement already satisfied: dnspython<3.0.0,>=1.16.0 in /usr/local/lib/python3.8/dist-packages (from pymongo) (2.3.0)\n"
          ]
        }
      ]
    },
    {
      "cell_type": "code",
      "source": [
        "from pymongo import MongoClient"
      ],
      "metadata": {
        "id": "sQq-kFblkfMw"
      },
      "id": "sQq-kFblkfMw",
      "execution_count": 7,
      "outputs": []
    },
    {
      "cell_type": "code",
      "source": [
        "client = MongoClient('localhost:27017')\n",
        "client"
      ],
      "metadata": {
        "colab": {
          "base_uri": "https://localhost:8080/"
        },
        "id": "QkKj6oI2k35L",
        "outputId": "29fc1cb6-8f63-42c4-d86a-1dc46a6cab1a"
      },
      "id": "QkKj6oI2k35L",
      "execution_count": 11,
      "outputs": [
        {
          "output_type": "execute_result",
          "data": {
            "text/plain": [
              "MongoClient(host=['localhost:27017'], document_class=dict, tz_aware=False, connect=True)"
            ]
          },
          "metadata": {},
          "execution_count": 11
        }
      ]
    },
    {
      "cell_type": "code",
      "source": [],
      "metadata": {
        "id": "74RFWICdk-HO"
      },
      "id": "74RFWICdk-HO",
      "execution_count": null,
      "outputs": []
    },
    {
      "cell_type": "code",
      "source": [],
      "metadata": {
        "id": "D0_kuUP2lpYQ"
      },
      "id": "D0_kuUP2lpYQ",
      "execution_count": null,
      "outputs": []
    }
  ],
  "metadata": {
    "kernelspec": {
      "display_name": "Python 3 (ipykernel)",
      "language": "python",
      "name": "python3"
    },
    "language_info": {
      "codemirror_mode": {
        "name": "ipython",
        "version": 3
      },
      "file_extension": ".py",
      "mimetype": "text/x-python",
      "name": "python",
      "nbconvert_exporter": "python",
      "pygments_lexer": "ipython3",
      "version": "3.9.12"
    },
    "colab": {
      "provenance": [],
      "include_colab_link": true
    }
  },
  "nbformat": 4,
  "nbformat_minor": 5
}