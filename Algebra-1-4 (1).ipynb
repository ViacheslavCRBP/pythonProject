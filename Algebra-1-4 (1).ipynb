{
 "cells": [
  {
   "cell_type": "markdown",
   "id": "b457bcd2",
   "metadata": {},
   "source": [
    "## Урок 4\n",
    "### Системы линейных уравнений\n",
    "\n",
    "### Практическое задание"
   ]
  },
  {
   "cell_type": "code",
   "execution_count": 1,
   "id": "b43fadfa",
   "metadata": {},
   "outputs": [],
   "source": [
    "import numpy as np"
   ]
  },
  {
   "cell_type": "markdown",
   "id": "c04964b1",
   "metadata": {},
   "source": [
    "### Часть 1"
   ]
  },
  {
   "cell_type": "markdown",
   "id": "3d4bfd5b",
   "metadata": {},
   "source": [
    "__1. Решите систему уравнений методом Гаусса:__\n",
    "\n",
    "$$\\begin{cases}\n",
    "x_{1} +x_{2} -x_{3} -2x_{4} =0, \\\\\n",
    "2x_{1} +x_{2} -x_{3} +x_{4} =-2, \\\\\n",
    "x_{1} +x_{2} -3x_{3} +x_{4} =4. \\\\\n",
    "\\end{cases}$$\n"
   ]
  },
  {
   "cell_type": "markdown",
   "id": "5233183d",
   "metadata": {},
   "source": [
    "Вычтем первое уравнение из третьего и из второго уравнений:\n",
    "\n",
    "$$\\begin{cases}\n",
    "x_{1} +x_{2} -x_{3} -2x_{4} =0, \\\\\n",
    "x_{1} +3x_{4} =-2, \\\\\n",
    "-2x_{3} +3x_{4} =4. \\\\\n",
    "\\end{cases}$$"
   ]
  },
  {
   "cell_type": "markdown",
   "id": "7b11d493",
   "metadata": {},
   "source": [
    "Из второго уравнения выразим $x_1 =−2−3 x_4$, а из третьего уравнения выразим $x_3=2−1.5 x_4$  \n",
    "\n",
    "Затем подставим это в первое и найдем $x_2$:\n",
    "\n",
    "\n",
    "$$-2 -3x_{4} +x_{2} -2 +1.5x_{4} -2x_{4} =0 \\\\\n",
    "x_2 = 4 -3.5x_4$$\n"
   ]
  },
  {
   "attachments": {},
   "cell_type": "markdown",
   "id": "b1fc18e0",
   "metadata": {},
   "source": [
    "Получаем следующее решение:\n",
    "\n",
    "$$\\begin{cases}\n",
    "x_{1} = -2 -3x_{4}  \\\\\n",
    "x_{2} = 4 -3.5x_{4} \\\\\n",
    "x_{3} = 2 -1.5x_{4} \\\\\n",
    "\\end{cases}$$"
   ]
  },
  {
   "cell_type": "markdown",
   "id": "6c4e385c",
   "metadata": {},
   "source": [
    "__2. Проверить на совместность и выяснить, сколько решений будет иметь система линейных уравнений:__\n",
    "\n",
    "а)\n",
    "$$\\begin{cases}\n",
    "3x_{1} -x_{2} +x_{3} =4, \\\\\n",
    "2x_{1} -5x_{2} -3x_{3} =-17, \\\\\n",
    "x_{1} +x_{2} -x_{3} =0. \\\\\n",
    "\\end{cases}$$\n",
    "\n",
    "б)\n",
    "$$\\begin{cases}\n",
    "2x_{1} -4x_{2} +6x_{3} =1, \\\\\n",
    "x_{1} -2x_{2} +3x_{3} =-2, \\\\\n",
    "3x_{1} -6x_{2} +9x_{3} =5. \\\\\n",
    "\\end{cases}$$\n",
    "\n",
    "\n",
    "в) \n",
    "$$\\begin{cases}\n",
    "x_{1} +2x_{2} +5x_{3} =4, \\\\\n",
    "3x_{1} +x_{2} -8x_{3} =-2, \\\\\n",
    "\\end{cases}$$\n"
   ]
  },
  {
   "cell_type": "code",
   "execution_count": 31,
   "id": "6cdbefde",
   "metadata": {},
   "outputs": [
    {
     "name": "stdout",
     "output_type": "stream",
     "text": [
      "rank A = 3\n",
      "rank A_extended = 3\n"
     ]
    }
   ],
   "source": [
    "# 2 a)\n",
    "A = np.array([[3, -1, 1], [2, -5, -3], [1, 1, -1]])\n",
    "b = np.array([4, -17, 0])[:, np.newaxis]\n",
    "A_extended = np.hstack((A, b))\n",
    "print(f'rank A = {np.linalg.matrix_rank(A)}')\n",
    "print(f'rank A_extended = {np.linalg.matrix_rank(A_extended)}')"
   ]
  },
  {
   "cell_type": "markdown",
   "id": "966c67eb",
   "metadata": {},
   "source": [
    "Вывод:  \n",
    "число неизвестных 3,  \n",
    "система совместна и имеет единственное решение"
   ]
  },
  {
   "cell_type": "code",
   "execution_count": 32,
   "id": "4fe105cd",
   "metadata": {},
   "outputs": [
    {
     "name": "stdout",
     "output_type": "stream",
     "text": [
      "rank A = 1\n",
      "rank A_extended = 2\n"
     ]
    }
   ],
   "source": [
    "# 2 б)\n",
    "A = np.array([[2, -4, 6], [1, -2, 3], [3, -6, 9]])\n",
    "b = np.array([1, -2, 5])[:, np.newaxis]\n",
    "A_extended = np.hstack((A, b))\n",
    "print(f'rank A = {np.linalg.matrix_rank(A)}')\n",
    "print(f'rank A_extended = {np.linalg.matrix_rank(A_extended)}')"
   ]
  },
  {
   "cell_type": "markdown",
   "id": "268cf16d",
   "metadata": {},
   "source": [
    "Вывод:  \n",
    "система несовместна и не имеет решений"
   ]
  },
  {
   "cell_type": "code",
   "execution_count": 33,
   "id": "713cbf78",
   "metadata": {},
   "outputs": [
    {
     "name": "stdout",
     "output_type": "stream",
     "text": [
      "rank A = 2\n",
      "rank A_extended = 2\n"
     ]
    }
   ],
   "source": [
    "# 2 в)\n",
    "A = np.array([[1, 2, 5], [3, 1, -8]])\n",
    "b = np.array([4, -2])[:, np.newaxis]\n",
    "A_extended = np.hstack((A, b))\n",
    "print(f'rank A = {np.linalg.matrix_rank(A)}')\n",
    "print(f'rank A_extended = {np.linalg.matrix_rank(A_extended)}')"
   ]
  },
  {
   "cell_type": "markdown",
   "id": "3f147207",
   "metadata": {},
   "source": [
    "Вывод:  \n",
    "ранги обеих матриц равны 2, но неизвестных тут 3,  \n",
    "поэтому система имеет бесконечное множество решений"
   ]
  },
  {
   "cell_type": "markdown",
   "id": "e4c26ea6",
   "metadata": {},
   "source": [
    "__3. Проверить на совместность и выяснить, сколько решений будет иметь система линейных уравнений, заданная расширенной матрицей__\n",
    "\n",
    "$$\\tilde{A}=\\begin{pmatrix}\n",
    "\\left.\\begin{matrix}\n",
    "1 & 3 & -2 & 4\\\\ \n",
    "0 & 5 & 0 & 1\\\\ \n",
    "0 & 0 & 3 & 0\\\\ \n",
    "0 & 0 & 0 & 2\n",
    "\\end{matrix}\\right|\n",
    "\\begin{matrix}\n",
    "3\\\\ \n",
    "2\\\\\n",
    "4\\\\\n",
    "1\n",
    "\\end{matrix}\n",
    "\\end{pmatrix}.$$\n"
   ]
  },
  {
   "cell_type": "code",
   "execution_count": 34,
   "id": "615a2128",
   "metadata": {},
   "outputs": [
    {
     "name": "stdout",
     "output_type": "stream",
     "text": [
      "Система совместна: True\n",
      "Система имеет единственное решение: True\n"
     ]
    }
   ],
   "source": [
    "A = np.array([[1, 3, -2, 4], [0, 5, 0, 1], [0, 0, 3, 0], [0, 0, 0, 2]])\n",
    "b = np.array([[3], [2], [4], [1]])\n",
    "A_ext = np.hstack((A, b))\n",
    "print(f'Система совместна: {np.linalg.matrix_rank(A) == np.linalg.matrix_rank(A_ext)}')\n",
    "print(f'Система имеет единственное решение: {np.linalg.matrix_rank(A) == np.linalg.matrix_rank(A_ext) == 4}')"
   ]
  },
  {
   "cell_type": "markdown",
   "id": "48708841",
   "metadata": {},
   "source": [
    "__4. Дана система линейных уравнений, заданная расширенной матрицей.\n",
    "Найти соотношение между параметрами  a ,  b  и  c , при которых система является несовместной.__\n",
    "\n",
    "$$\\tilde{A}=\\begin{pmatrix}\n",
    "\\left.\\begin{matrix}\n",
    "1 & 2 & 3\\\\ \n",
    "4 & 5 & 6\\\\ \n",
    "7 & 8 & 9\n",
    "\\end{matrix}\\right|\n",
    "\\begin{matrix}\n",
    "a\\\\ \n",
    "b\\\\\n",
    "c\n",
    "\\end{matrix}\n",
    "\\end{pmatrix}.$$\n"
   ]
  },
  {
   "cell_type": "markdown",
   "id": "6342473a",
   "metadata": {},
   "source": [
    "Система будет несовместной, когда  \n",
    "$rank A < rank\\tilde{A}$\n",
    "rank A=2  \n",
    "т.к. третья строка является линейной комбинацией первых двух:  \n",
    "$A_3=2 A_2− A_1$  \n",
    "Из третьей строки вычтем удвоенную вторую и затем сложим результат с первой:"
   ]
  },
  {
   "cell_type": "code",
   "execution_count": 35,
   "id": "d364874c",
   "metadata": {},
   "outputs": [
    {
     "data": {
      "text/plain": [
       "array([[1, 2, 3],\n",
       "       [4, 5, 6],\n",
       "       [0, 0, 0]])"
      ]
     },
     "execution_count": 35,
     "metadata": {},
     "output_type": "execute_result"
    }
   ],
   "source": [
    "A = np.array([[1, 2, 3], [4, 5, 6], [7, 8, 9]])\n",
    "A[2] = A[2] - 2*A[1] + A[0]\n",
    "A"
   ]
  },
  {
   "cell_type": "markdown",
   "id": "2b472725",
   "metadata": {},
   "source": [
    "Чтобы система была несовместной, нужно чтобы после преобразований в расширенной матрице в третьей строке свободных членов был не 0. \n",
    "\n",
    "Следовательно:\n",
    "$$c −2b +a ≠0$$"
   ]
  },
  {
   "cell_type": "markdown",
   "id": "324ec748",
   "metadata": {},
   "source": [
    "### Часть 2"
   ]
  },
  {
   "cell_type": "markdown",
   "id": "062c365f",
   "metadata": {},
   "source": [
    "__1.__ Решить систему уравнений методом Крамера:\n",
    "\n",
    "   а) $\\begin{cases}\n",
    "x_{1}-2x_{2}=1 \\\\\n",
    "3x_{1}-4x_{2}=7\n",
    "\\end{cases}$\n",
    "    \n",
    "   б) $\\begin{cases}\n",
    "2x_{1}-x_{2}+5x_{3}=10 \\\\\n",
    "x_{1}+x_{2}-3x_{3}=-2 \\\\\n",
    "2x_{1}+4x_{2}+x_{3}=1\n",
    "\\end{cases}$\n"
   ]
  },
  {
   "cell_type": "code",
   "execution_count": 52,
   "id": "3bc062d0",
   "metadata": {},
   "outputs": [],
   "source": [
    "def kramer(A, b):\n",
    "    assert A.shape[0] == A.shape[1], 'Check matrix size'\n",
    "    det_A = np.linalg.det(A)\n",
    "    result = []\n",
    "    if np.abs(det_A) > 0: \n",
    "        for i in range(A.shape[0]):\n",
    "            A_i = np.hstack((A[:, :i], b, A[:, i+1:]))\n",
    "            result.append(np.linalg.det(A_i) / det_A)\n",
    "        return np.round(result, 2)\n",
    "    else:\n",
    "        return 'detA = 0'"
   ]
  },
  {
   "cell_type": "code",
   "execution_count": 53,
   "id": "3f37f025",
   "metadata": {},
   "outputs": [
    {
     "name": "stdout",
     "output_type": "stream",
     "text": [
      "[5. 2.]\n"
     ]
    }
   ],
   "source": [
    "# a)\n",
    "A = np.array([[1, -2], [3, -4]])\n",
    "b = np.array([[1, 7]]).T\n",
    "print(kramer(A, b))"
   ]
  },
  {
   "cell_type": "code",
   "execution_count": 54,
   "id": "3bb50b5b",
   "metadata": {},
   "outputs": [
    {
     "name": "stdout",
     "output_type": "stream",
     "text": [
      "[ 2. -1.  1.]\n"
     ]
    }
   ],
   "source": [
    "# б)\n",
    "A = np.array([[2, -1, 5], [1, 1, -3], [2, 4, 1]])\n",
    "b = np.array([[10, -2, 1]]).T\n",
    "print(kramer(A, b))"
   ]
  },
  {
   "cell_type": "code",
   "execution_count": null,
   "id": "ccd7fbf1",
   "metadata": {},
   "outputs": [],
   "source": []
  }
 ],
 "metadata": {
  "kernelspec": {
   "display_name": "Python 3 (ipykernel)",
   "language": "python",
   "name": "python3"
  },
  "language_info": {
   "codemirror_mode": {
    "name": "ipython",
    "version": 3
   },
   "file_extension": ".py",
   "mimetype": "text/x-python",
   "name": "python",
   "nbconvert_exporter": "python",
   "pygments_lexer": "ipython3",
   "version": "3.9.12"
  }
 },
 "nbformat": 4,
 "nbformat_minor": 5
}
