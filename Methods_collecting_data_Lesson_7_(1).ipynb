{
  "cells": [
    {
      "cell_type": "markdown",
      "metadata": {
        "id": "view-in-github",
        "colab_type": "text"
      },
      "source": [
        "<a href=\"https://colab.research.google.com/github/ViacheslavCRBP/pythonProject/blob/branch/Methods_collecting_data_Lesson_7_(1).ipynb\" target=\"_parent\"><img src=\"https://colab.research.google.com/assets/colab-badge.svg\" alt=\"Open In Colab\"/></a>"
      ]
    },
    {
      "cell_type": "markdown",
      "id": "9bcb6d97",
      "metadata": {
        "id": "9bcb6d97"
      },
      "source": [
        "## Урок 7. Парсинг данных. Selenium в Python"
      ]
    },
    {
      "cell_type": "markdown",
      "id": "b6fc5a07",
      "metadata": {
        "id": "b6fc5a07"
      },
      "source": [
        "**1) Взять любую категорию товаров на сайте Леруа Мерлен. Собрать следующие данные:\n",
        "● название;\n",
        "● все фото;\n",
        "● ссылка;\n",
        "● цена.**\n",
        "\n",
        "**Реализуйте очистку и преобразование данных с помощью ItemLoader. Цены должны быть в виде числового значения.**\n",
        "\n",
        "**Дополнительно:**  \n",
        "\n",
        "**2) Написать универсальный обработчик характеристик товаров, который будет формировать данные вне зависимости от их типа и количества.**\n",
        "\n",
        "**3) Реализовать хранение скачиваемых файлов в отдельных папках, каждая из которых должна соответствовать собираемому товару**"
      ]
    },
    {
      "cell_type": "code",
      "execution_count": null,
      "id": "96c1cff8",
      "metadata": {
        "id": "96c1cff8",
        "outputId": "23a1af31-c275-4866-ba17-eea5547b86b4"
      },
      "outputs": [
        {
          "name": "stdout",
          "output_type": "stream",
          "text": [
            "Defaulting to user installation because normal site-packages is not writeable\n",
            "Collecting selenium\n",
            "  Downloading selenium-4.8.2-py3-none-any.whl (6.9 MB)\n",
            "Requirement already satisfied: urllib3[socks]~=1.26 in c:\\programdata\\anaconda3\\lib\\site-packages (from selenium) (1.26.9)\n",
            "Requirement already satisfied: certifi>=2021.10.8 in c:\\programdata\\anaconda3\\lib\\site-packages (from selenium) (2021.10.8)\n",
            "Collecting trio~=0.17\n",
            "  Downloading trio-0.22.0-py3-none-any.whl (384 kB)\n",
            "Collecting trio-websocket~=0.9\n",
            "  Downloading trio_websocket-0.9.2-py3-none-any.whl (16 kB)\n",
            "Collecting async-generator>=1.9\n",
            "  Downloading async_generator-1.10-py3-none-any.whl (18 kB)\n",
            "Requirement already satisfied: attrs>=19.2.0 in c:\\programdata\\anaconda3\\lib\\site-packages (from trio~=0.17->selenium) (21.4.0)\n",
            "Collecting exceptiongroup>=1.0.0rc9\n",
            "  Downloading exceptiongroup-1.1.0-py3-none-any.whl (14 kB)\n",
            "Collecting outcome\n",
            "  Downloading outcome-1.2.0-py2.py3-none-any.whl (9.7 kB)\n",
            "Requirement already satisfied: sortedcontainers in c:\\programdata\\anaconda3\\lib\\site-packages (from trio~=0.17->selenium) (2.4.0)\n",
            "Requirement already satisfied: sniffio in c:\\programdata\\anaconda3\\lib\\site-packages (from trio~=0.17->selenium) (1.2.0)\n",
            "Requirement already satisfied: idna in c:\\programdata\\anaconda3\\lib\\site-packages (from trio~=0.17->selenium) (3.3)\n",
            "Requirement already satisfied: cffi>=1.14 in c:\\programdata\\anaconda3\\lib\\site-packages (from trio~=0.17->selenium) (1.15.0)\n",
            "Requirement already satisfied: pycparser in c:\\programdata\\anaconda3\\lib\\site-packages (from cffi>=1.14->trio~=0.17->selenium) (2.21)\n",
            "Collecting wsproto>=0.14\n",
            "  Downloading wsproto-1.2.0-py3-none-any.whl (24 kB)\n",
            "Requirement already satisfied: PySocks!=1.5.7,<2.0,>=1.5.6 in c:\\programdata\\anaconda3\\lib\\site-packages (from urllib3[socks]~=1.26->selenium) (1.7.1)\n",
            "Collecting h11<1,>=0.9.0\n",
            "  Downloading h11-0.14.0-py3-none-any.whl (58 kB)\n",
            "Installing collected packages: outcome, h11, exceptiongroup, async-generator, wsproto, trio, trio-websocket, selenium\n",
            "Successfully installed async-generator-1.10 exceptiongroup-1.1.0 h11-0.14.0 outcome-1.2.0 selenium-4.8.2 trio-0.22.0 trio-websocket-0.9.2 wsproto-1.2.0\n"
          ]
        }
      ],
      "source": [
        "!pip install selenium"
      ]
    },
    {
      "cell_type": "code",
      "execution_count": null,
      "id": "2cc52503",
      "metadata": {
        "id": "2cc52503"
      },
      "outputs": [],
      "source": [
        "from selenium import webdriver\n",
        "from selenium.webdriver.chrome.service import Service\n",
        "from selenium.webdriver.common.by import By\n",
        "from selenium.webdriver.support.ui import WebDriverWait\n",
        "from selenium.webdriver.support import expected_conditions as EC\n",
        "from selenium.common.exceptions import TimeoutException"
      ]
    },
    {
      "cell_type": "code",
      "execution_count": null,
      "id": "94dbc2de",
      "metadata": {
        "id": "94dbc2de"
      },
      "outputs": [],
      "source": [
        "service = Service('chromedriver.exe')\n",
        "driver = webdriver.Chrome(service=service)\n",
        "driver.maximize_window()\n",
        "driver.implicitly_wait(15) \n",
        "driver.get('https://5ka.ru/special_offers')"
      ]
    },
    {
      "cell_type": "code",
      "execution_count": null,
      "id": "4424f7b5",
      "metadata": {
        "id": "4424f7b5"
      },
      "outputs": [],
      "source": [
        "button_location = driver.find_element(By.XPATH, \"//button[contains(@class, 'location-confirm__button')]\")\n",
        "button_location.click()"
      ]
    },
    {
      "cell_type": "code",
      "execution_count": null,
      "id": "96d9a7d8",
      "metadata": {
        "id": "96d9a7d8"
      },
      "outputs": [],
      "source": [
        "button_cookie = driver.find_element(By.XPATH, \"//div[@class='cookie-message page-container']//button\")\n",
        "button_cookie.click()"
      ]
    },
    {
      "cell_type": "code",
      "execution_count": null,
      "id": "8fbb4155",
      "metadata": {
        "id": "8fbb4155",
        "outputId": "97eb1dae-5e3e-4a6d-b083-b19279ad89fb"
      },
      "outputs": [
        {
          "ename": "NoSuchWindowException",
          "evalue": "Message: no such window: target window already closed\nfrom unknown error: web view not found\n  (Session info: chrome=110.0.5481.178)\nStacktrace:\nBacktrace:\n\t(No symbol) [0x005537D3]\n\t(No symbol) [0x004E8B81]\n\t(No symbol) [0x003EB36D]\n\t(No symbol) [0x003CE5DA]\n\t(No symbol) [0x0043F0CB]\n\t(No symbol) [0x00450A56]\n\t(No symbol) [0x0043B216]\n\t(No symbol) [0x00410D97]\n\t(No symbol) [0x0041253D]\n\tGetHandleVerifier [0x007CABF2+2510930]\n\tGetHandleVerifier [0x007F8EC1+2700065]\n\tGetHandleVerifier [0x007FC86C+2714828]\n\tGetHandleVerifier [0x00603480+645344]\n\t(No symbol) [0x004F0FD2]\n\t(No symbol) [0x004F6C68]\n\t(No symbol) [0x004F6D4B]\n\t(No symbol) [0x00500D6B]\n\tBaseThreadInitThunk [0x76AF7D69+25]\n\tRtlInitializeExceptionChain [0x7719BB9B+107]\n\tRtlClearBits [0x7719BB1F+191]\n",
          "output_type": "error",
          "traceback": [
            "\u001b[1;31m---------------------------------------------------------------------------\u001b[0m",
            "\u001b[1;31mNoSuchWindowException\u001b[0m                     Traceback (most recent call last)",
            "Input \u001b[1;32mIn [7]\u001b[0m, in \u001b[0;36m<cell line: 2>\u001b[1;34m()\u001b[0m\n\u001b[0;32m      2\u001b[0m wait \u001b[38;5;241m=\u001b[39m WebDriverWait(driver, \u001b[38;5;241m15\u001b[39m)\n\u001b[0;32m      3\u001b[0m \u001b[38;5;28;01mtry\u001b[39;00m:\n\u001b[1;32m----> 4\u001b[0m     button \u001b[38;5;241m=\u001b[39m \u001b[43mwait\u001b[49m\u001b[38;5;241;43m.\u001b[39;49m\u001b[43muntil\u001b[49m\u001b[43m(\u001b[49m\u001b[43mEC\u001b[49m\u001b[38;5;241;43m.\u001b[39;49m\u001b[43melement_to_be_clickable\u001b[49m\u001b[43m(\u001b[49m\u001b[43m(\u001b[49m\u001b[43mBy\u001b[49m\u001b[38;5;241;43m.\u001b[39;49m\u001b[43mXPATH\u001b[49m\u001b[43m,\u001b[49m\u001b[43m \u001b[49m\u001b[38;5;124;43m\"\u001b[39;49m\u001b[38;5;124;43m//button[@class=\u001b[39;49m\u001b[38;5;124;43m'\u001b[39;49m\u001b[38;5;124;43madd-more-btn\u001b[39;49m\u001b[38;5;124;43m'\u001b[39;49m\u001b[38;5;124;43m]\u001b[39;49m\u001b[38;5;124;43m\"\u001b[39;49m\u001b[43m)\u001b[49m\u001b[43m)\u001b[49m\u001b[43m)\u001b[49m\n\u001b[0;32m      5\u001b[0m     \u001b[38;5;66;03m#button = driver.find_element(By.XPATH, \"//button[@class='add-more-btn']\")\u001b[39;00m\n\u001b[0;32m      6\u001b[0m     button\u001b[38;5;241m.\u001b[39mclick()\n",
            "File \u001b[1;32m~\\AppData\\Roaming\\Python\\Python39\\site-packages\\selenium\\webdriver\\support\\wait.py:86\u001b[0m, in \u001b[0;36mWebDriverWait.until\u001b[1;34m(self, method, message)\u001b[0m\n\u001b[0;32m     84\u001b[0m \u001b[38;5;28;01mwhile\u001b[39;00m \u001b[38;5;28;01mTrue\u001b[39;00m:\n\u001b[0;32m     85\u001b[0m     \u001b[38;5;28;01mtry\u001b[39;00m:\n\u001b[1;32m---> 86\u001b[0m         value \u001b[38;5;241m=\u001b[39m \u001b[43mmethod\u001b[49m\u001b[43m(\u001b[49m\u001b[38;5;28;43mself\u001b[39;49m\u001b[38;5;241;43m.\u001b[39;49m\u001b[43m_driver\u001b[49m\u001b[43m)\u001b[49m\n\u001b[0;32m     87\u001b[0m         \u001b[38;5;28;01mif\u001b[39;00m value:\n\u001b[0;32m     88\u001b[0m             \u001b[38;5;28;01mreturn\u001b[39;00m value\n",
            "File \u001b[1;32m~\\AppData\\Roaming\\Python\\Python39\\site-packages\\selenium\\webdriver\\support\\expected_conditions.py:334\u001b[0m, in \u001b[0;36melement_to_be_clickable.<locals>._predicate\u001b[1;34m(driver)\u001b[0m\n\u001b[0;32m    332\u001b[0m target \u001b[38;5;241m=\u001b[39m mark\n\u001b[0;32m    333\u001b[0m \u001b[38;5;28;01mif\u001b[39;00m \u001b[38;5;129;01mnot\u001b[39;00m \u001b[38;5;28misinstance\u001b[39m(target, WebElement):  \u001b[38;5;66;03m# if given locator instead of WebElement\u001b[39;00m\n\u001b[1;32m--> 334\u001b[0m     target \u001b[38;5;241m=\u001b[39m \u001b[43mdriver\u001b[49m\u001b[38;5;241;43m.\u001b[39;49m\u001b[43mfind_element\u001b[49m\u001b[43m(\u001b[49m\u001b[38;5;241;43m*\u001b[39;49m\u001b[43mtarget\u001b[49m\u001b[43m)\u001b[49m  \u001b[38;5;66;03m# grab element at locator\u001b[39;00m\n\u001b[0;32m    335\u001b[0m target \u001b[38;5;241m=\u001b[39m visibility_of(target)(driver)\n\u001b[0;32m    336\u001b[0m \u001b[38;5;28;01mif\u001b[39;00m target \u001b[38;5;129;01mand\u001b[39;00m target\u001b[38;5;241m.\u001b[39mis_enabled():\n",
            "File \u001b[1;32m~\\AppData\\Roaming\\Python\\Python39\\site-packages\\selenium\\webdriver\\remote\\webdriver.py:830\u001b[0m, in \u001b[0;36mWebDriver.find_element\u001b[1;34m(self, by, value)\u001b[0m\n\u001b[0;32m    827\u001b[0m     by \u001b[38;5;241m=\u001b[39m By\u001b[38;5;241m.\u001b[39mCSS_SELECTOR\n\u001b[0;32m    828\u001b[0m     value \u001b[38;5;241m=\u001b[39m \u001b[38;5;124mf\u001b[39m\u001b[38;5;124m'\u001b[39m\u001b[38;5;124m[name=\u001b[39m\u001b[38;5;124m\"\u001b[39m\u001b[38;5;132;01m{\u001b[39;00mvalue\u001b[38;5;132;01m}\u001b[39;00m\u001b[38;5;124m\"\u001b[39m\u001b[38;5;124m]\u001b[39m\u001b[38;5;124m'\u001b[39m\n\u001b[1;32m--> 830\u001b[0m \u001b[38;5;28;01mreturn\u001b[39;00m \u001b[38;5;28;43mself\u001b[39;49m\u001b[38;5;241;43m.\u001b[39;49m\u001b[43mexecute\u001b[49m\u001b[43m(\u001b[49m\u001b[43mCommand\u001b[49m\u001b[38;5;241;43m.\u001b[39;49m\u001b[43mFIND_ELEMENT\u001b[49m\u001b[43m,\u001b[49m\u001b[43m \u001b[49m\u001b[43m{\u001b[49m\u001b[38;5;124;43m\"\u001b[39;49m\u001b[38;5;124;43musing\u001b[39;49m\u001b[38;5;124;43m\"\u001b[39;49m\u001b[43m:\u001b[49m\u001b[43m \u001b[49m\u001b[43mby\u001b[49m\u001b[43m,\u001b[49m\u001b[43m \u001b[49m\u001b[38;5;124;43m\"\u001b[39;49m\u001b[38;5;124;43mvalue\u001b[39;49m\u001b[38;5;124;43m\"\u001b[39;49m\u001b[43m:\u001b[49m\u001b[43m \u001b[49m\u001b[43mvalue\u001b[49m\u001b[43m}\u001b[49m\u001b[43m)\u001b[49m[\u001b[38;5;124m\"\u001b[39m\u001b[38;5;124mvalue\u001b[39m\u001b[38;5;124m\"\u001b[39m]\n",
            "File \u001b[1;32m~\\AppData\\Roaming\\Python\\Python39\\site-packages\\selenium\\webdriver\\remote\\webdriver.py:440\u001b[0m, in \u001b[0;36mWebDriver.execute\u001b[1;34m(self, driver_command, params)\u001b[0m\n\u001b[0;32m    438\u001b[0m response \u001b[38;5;241m=\u001b[39m \u001b[38;5;28mself\u001b[39m\u001b[38;5;241m.\u001b[39mcommand_executor\u001b[38;5;241m.\u001b[39mexecute(driver_command, params)\n\u001b[0;32m    439\u001b[0m \u001b[38;5;28;01mif\u001b[39;00m response:\n\u001b[1;32m--> 440\u001b[0m     \u001b[38;5;28;43mself\u001b[39;49m\u001b[38;5;241;43m.\u001b[39;49m\u001b[43merror_handler\u001b[49m\u001b[38;5;241;43m.\u001b[39;49m\u001b[43mcheck_response\u001b[49m\u001b[43m(\u001b[49m\u001b[43mresponse\u001b[49m\u001b[43m)\u001b[49m\n\u001b[0;32m    441\u001b[0m     response[\u001b[38;5;124m\"\u001b[39m\u001b[38;5;124mvalue\u001b[39m\u001b[38;5;124m\"\u001b[39m] \u001b[38;5;241m=\u001b[39m \u001b[38;5;28mself\u001b[39m\u001b[38;5;241m.\u001b[39m_unwrap_value(response\u001b[38;5;241m.\u001b[39mget(\u001b[38;5;124m\"\u001b[39m\u001b[38;5;124mvalue\u001b[39m\u001b[38;5;124m\"\u001b[39m, \u001b[38;5;28;01mNone\u001b[39;00m))\n\u001b[0;32m    442\u001b[0m     \u001b[38;5;28;01mreturn\u001b[39;00m response\n",
            "File \u001b[1;32m~\\AppData\\Roaming\\Python\\Python39\\site-packages\\selenium\\webdriver\\remote\\errorhandler.py:245\u001b[0m, in \u001b[0;36mErrorHandler.check_response\u001b[1;34m(self, response)\u001b[0m\n\u001b[0;32m    243\u001b[0m         alert_text \u001b[38;5;241m=\u001b[39m value[\u001b[38;5;124m\"\u001b[39m\u001b[38;5;124malert\u001b[39m\u001b[38;5;124m\"\u001b[39m]\u001b[38;5;241m.\u001b[39mget(\u001b[38;5;124m\"\u001b[39m\u001b[38;5;124mtext\u001b[39m\u001b[38;5;124m\"\u001b[39m)\n\u001b[0;32m    244\u001b[0m     \u001b[38;5;28;01mraise\u001b[39;00m exception_class(message, screen, stacktrace, alert_text)  \u001b[38;5;66;03m# type: ignore[call-arg]  # mypy is not smart enough here\u001b[39;00m\n\u001b[1;32m--> 245\u001b[0m \u001b[38;5;28;01mraise\u001b[39;00m exception_class(message, screen, stacktrace)\n",
            "\u001b[1;31mNoSuchWindowException\u001b[0m: Message: no such window: target window already closed\nfrom unknown error: web view not found\n  (Session info: chrome=110.0.5481.178)\nStacktrace:\nBacktrace:\n\t(No symbol) [0x005537D3]\n\t(No symbol) [0x004E8B81]\n\t(No symbol) [0x003EB36D]\n\t(No symbol) [0x003CE5DA]\n\t(No symbol) [0x0043F0CB]\n\t(No symbol) [0x00450A56]\n\t(No symbol) [0x0043B216]\n\t(No symbol) [0x00410D97]\n\t(No symbol) [0x0041253D]\n\tGetHandleVerifier [0x007CABF2+2510930]\n\tGetHandleVerifier [0x007F8EC1+2700065]\n\tGetHandleVerifier [0x007FC86C+2714828]\n\tGetHandleVerifier [0x00603480+645344]\n\t(No symbol) [0x004F0FD2]\n\t(No symbol) [0x004F6C68]\n\t(No symbol) [0x004F6D4B]\n\t(No symbol) [0x00500D6B]\n\tBaseThreadInitThunk [0x76AF7D69+25]\n\tRtlInitializeExceptionChain [0x7719BB9B+107]\n\tRtlClearBits [0x7719BB1F+191]\n"
          ]
        }
      ],
      "source": [
        "while True:\n",
        "    wait = WebDriverWait(driver, 15)\n",
        "    try:\n",
        "        button = wait.until(EC.element_to_be_clickable((By.XPATH, \"//button[@class='add-more-btn']\")))\n",
        "        #button = driver.find_element(By.XPATH, \"//button[@class='add-more-btn']\")\n",
        "        button.click()\n",
        "    except TimeoutException:\n",
        "        print(\"Скролл окончен\")\n",
        "        break"
      ]
    },
    {
      "cell_type": "code",
      "execution_count": null,
      "id": "c63737f4",
      "metadata": {
        "id": "c63737f4"
      },
      "outputs": [],
      "source": [
        "goods = driver.find_elements(By.XPATH, \"//div[@class='product-card item']\")\n",
        "for good in goods:\n",
        "    good_name = good.find_element(By.XPATH, \"//div[@class='item-name']\").text\n",
        "\n",
        "print()"
      ]
    },
    {
      "cell_type": "code",
      "execution_count": null,
      "id": "02536deb",
      "metadata": {
        "id": "02536deb"
      },
      "outputs": [],
      "source": []
    }
  ],
  "metadata": {
    "kernelspec": {
      "display_name": "Python 3 (ipykernel)",
      "language": "python",
      "name": "python3"
    },
    "language_info": {
      "codemirror_mode": {
        "name": "ipython",
        "version": 3
      },
      "file_extension": ".py",
      "mimetype": "text/x-python",
      "name": "python",
      "nbconvert_exporter": "python",
      "pygments_lexer": "ipython3",
      "version": "3.9.12"
    },
    "colab": {
      "provenance": [],
      "include_colab_link": true
    }
  },
  "nbformat": 4,
  "nbformat_minor": 5
}