{
 "cells": [
  {
   "cell_type": "markdown",
   "id": "84634543",
   "metadata": {},
   "source": [
    "## Урок 1\n",
    "### Линейное пространство. Основные понятия. \n",
    "\n",
    "### Практическое задание. Часть 1"
   ]
  },
  {
   "cell_type": "markdown",
   "id": "04c2459a",
   "metadata": {},
   "source": [
    "**1. Исследовать на линейную зависимость:**\n",
    "\n",
    "f1(x)=ex, f2(x)=1, f3(x)=x+1, f4(x)=x−ex."
   ]
  },
  {
   "cell_type": "markdown",
   "id": "91f5437e",
   "metadata": {},
   "source": [
    "\\begin{equation*}\n",
    "f_4 (x) = f_3 (x) − f_2 (x) − f_1 (x)  \\\\\n",
    "x − e^x = (x+1) − (1) − (e^x)   \\\\\n",
    "\\end{equation*}\n",
    "*>>> Если получается выразить f_4 через нетривиальную линейную\n",
    "комбинацию остальных f, то вектора тут линейно зависимы*"
   ]
  },
  {
   "cell_type": "markdown",
   "id": "ea8400b4",
   "metadata": {},
   "source": [
    "**2. Исследовать на линейную зависимость:**\n",
    "\n",
    "\n",
    "f1(x)=2, f2(x)=x, f3(x)=x2, f4(x)=(x+1)2"
   ]
  },
  {
   "cell_type": "markdown",
   "id": "ff3392e8",
   "metadata": {},
   "source": [
    "\\begin{equation*}\n",
    "f_4 (x) = f_3 (x) + 2f_2 (x) + \\frac{1}{2} f_1 (x) \\\\\n",
    "(x+1)^2 = x^2 + 2x + 1    \\\\\n",
    "\\end{equation*}\n",
    "*>>> Данные вектора линейно зависимы*"
   ]
  },
  {
   "cell_type": "markdown",
   "id": "6beb66e5",
   "metadata": {},
   "source": [
    "**3. Найти координаты вектора**\n",
    "\n",
    "x=(2,3,5)∈R3 в базисе b1=(0,0,10), b2=(2,0,0), b3=(0,1,0)"
   ]
  },
  {
   "cell_type": "markdown",
   "id": "3e7cd2a3",
   "metadata": {},
   "source": [
    "Найдем разложение вектора X:\n",
    "\n",
    "\\begin{equation*}\n",
    "x = \\frac{1}{2} b_1 + b_2 + 3b_3     \\\\\n",
    "\\end{equation*}\n",
    "*>>> Kоординаты вектора: (1/2, 1, 3)*"
   ]
  },
  {
   "cell_type": "markdown",
   "id": "884ea32f",
   "metadata": {},
   "source": [
    "**4. Найти координаты вектора**\n",
    "\n",
    "3x2−2x+2∈R3[x]:"
   ]
  },
  {
   "cell_type": "markdown",
   "id": "62166fd5",
   "metadata": {},
   "source": [
    "**а) в базисе 1, x, x2;**\n",
    "\n",
    "Найдем разложение вектора X:\n",
    "\n",
    "\\begin{equation*}\n",
    "x = 2 (1) - 2 (x) + 3 (x^2)     \\\\\n",
    "\\end{equation*}\n",
    "*>>> Kоординаты вектора: (2, -2, 3)*"
   ]
  },
  {
   "cell_type": "markdown",
   "id": "3a4ea432",
   "metadata": {},
   "source": [
    "**б) в базисе x2, x−1, 1.**\n",
    "\n",
    "\\begin{equation*}\n",
    "3 (x^2) - 2 (x) + 4 - 2    \\\\\n",
    "3 (x^2) - 2 (x - 1) + 0    \\\\\n",
    "\\end{equation*}\n",
    "*>>> Kоординаты вектора: (3, -2, 0)*"
   ]
  },
  {
   "cell_type": "markdown",
   "id": "6bdcb6a8",
   "metadata": {},
   "source": [
    "**5. Установить, является ли линейным подпространством:**\n",
    "\n",
    "\n",
    "а) совокупность всех векторов трехмерного пространства, у которых по крайней мере одна из первых двух координат равна нулю  \n",
    "*>>>  эта совокупность не является подпространством*\n",
    "\n",
    "б) все векторы, являющиеся линейными комбинациями данных векторов  {u1,u2,…,un}  \n",
    "*>>>  эта совокупность является подпространством*"
   ]
  },
  {
   "cell_type": "markdown",
   "id": "5c41aba3",
   "metadata": {},
   "source": [
    "\n",
    "### Практическое задание. Часть 2"
   ]
  },
  {
   "cell_type": "markdown",
   "id": "46858ea5",
   "metadata": {},
   "source": [
    "**1. Найти скалярное произведение векторов  x,y∈R :**\n",
    "а)  x=(0,−3,6), y=(−4,7,9); \n",
    "б)  x=(7,−4,0,1), y=(−3,1,11,2). "
   ]
  },
  {
   "cell_type": "code",
   "execution_count": 18,
   "id": "530d1a13",
   "metadata": {},
   "outputs": [
    {
     "name": "stdout",
     "output_type": "stream",
     "text": [
      "33\n",
      "-23\n"
     ]
    }
   ],
   "source": [
    "def scalar(a, b):\n",
    "    result = 0\n",
    "    for x, y in zip(a, b):\n",
    "        result += x * y\n",
    "    return result\n",
    "x = [0, -3, 6]\n",
    "y = [-4, 7, 9]\n",
    "print(vect_scalar(x, y))\n",
    "x = [7, -4, 0, 1]\n",
    "y = [-3, 1, 11, 2]\n",
    "print(scalar(x, y))\n",
    "\n",
    "##  Проверка:\n",
    "##  a) (x, y) = 0 *(−4) + (−3) *7 + 6 *9 = 32\n",
    "##  б) (x , y) = 7 *(−3) + (−4 ) *1 + 0 *11 + 1 *2 = −23"
   ]
  },
  {
   "cell_type": "markdown",
   "id": "d2fa7d14",
   "metadata": {},
   "source": [
    "**2. Найти нормы векторов  (4,2,4)  и  (12,3,4)  и угол между ними.**"
   ]
  },
  {
   "cell_type": "code",
   "execution_count": 75,
   "id": "bedac005",
   "metadata": {},
   "outputs": [
    {
     "name": "stdout",
     "output_type": "stream",
     "text": [
      "norma(x) = 6.0, norma(y) = 13.0, angle = 26.18'\n"
     ]
    }
   ],
   "source": [
    "import numpy as np\n",
    "import math\n",
    "\n",
    "x = np.array([4, 2, 4])\n",
    "y = np.array([12, 3, 4])\n",
    "norm_x = np.sqrt(scalar(x, x))\n",
    "norm_y = np.sqrt(scalar(y, y))\n",
    "cos_phi = scalar(x, y) / (norm_x * norm_y)\n",
    "print(f\"norma(x) = {norm_x}, norma(y) = {norm_y}, angle = {(math.acos(cos_phi)*(180/math.pi)):.2f}'\")"
   ]
  },
  {
   "cell_type": "markdown",
   "id": "3719e60b",
   "metadata": {},
   "source": [
    "**3. Будет ли линейное пространство евклидовым, если за скалярное произведение принять:**  \n",
    "а) произведение длин векторов;  \n",
    "б) утроенное обычное скалярное произведение векторов?"
   ]
  },
  {
   "cell_type": "markdown",
   "id": "58d059e9",
   "metadata": {},
   "source": [
    "Проверим основные аксиомы евклидова пространства:  \n",
    "a) в произведении длин векторов не выполняются все аксиомы евклидова пространства, значит за скалярное произведение их принимать нельзя.  \n",
    "б) при утроенном скалярном произведении векторов все аксиомы прошли проверку, значит его можно считать как скалярное произведение."
   ]
  },
  {
   "cell_type": "markdown",
   "id": "76e04d03",
   "metadata": {},
   "source": [
    "**4. Какие из нижеперечисленных векторов образуют ортонормированный базис в линейном пространстве  R3 :**\n",
    "а)  (1,0,0),(0,0,1); \n",
    "б)  (1/2–√,−1/2–√,0),(1/2–√,1/2–√,0),(0,0,1); \n",
    "в)  (1/2,−1/2,0),(0,1/2,1/2),(0,0,1); \n",
    "г)  (1,0,0),(0,1,0),(0,0,1)?"
   ]
  },
  {
   "cell_type": "code",
   "execution_count": 101,
   "id": "0f284652",
   "metadata": {},
   "outputs": [
    {
     "data": {
      "text/plain": [
       "(0.0, 0.0, 0.0, 0.9999999999999999, 0.9999999999999999, 1.0)"
      ]
     },
     "execution_count": 101,
     "metadata": {},
     "output_type": "execute_result"
    }
   ],
   "source": [
    "# В случае 'а' не хватает одного вектора для образования трехмерного базиса.\n",
    "# Cлучай 'г' является стандартным ОНБ в пространстве R_3.\n",
    "\n",
    "# Проверим базисы 'б' и 'г' на выполнение свойств ОНБ вектора должны:  \n",
    "# быть попарно перпендикулярными (скалярное произведение векторов попарно = 0);\n",
    "# норма каждого вектора должна быть = 1.\n",
    "\n",
    "# б)\n",
    "two_sqrt = 1/np.sqrt(2)\n",
    "b1 = np.array([two_sqrt, -two_sqrt, 0])\n",
    "b2 = np.array([two_sqrt, two_sqrt, 0])\n",
    "b3 = np.array([0, 0, 1])\n",
    "b1.dot(b2), b1.dot(b3), b2.dot(b3), norm(b1), norm(b2), norm(b3)"
   ]
  },
  {
   "cell_type": "code",
   "execution_count": 102,
   "id": "6b34ed3c",
   "metadata": {},
   "outputs": [
    {
     "data": {
      "text/plain": [
       "(-0.25, 0.0, 0.5, 0.7071067811865476, 0.7071067811865476, 1.0)"
      ]
     },
     "execution_count": 102,
     "metadata": {},
     "output_type": "execute_result"
    }
   ],
   "source": [
    "# в)\n",
    "b1 = np.array([0.5, -0.5, 0])\n",
    "b2 = np.array([0, 0.5, 0.5])\n",
    "b3 = np.array([0, 0, 1])\n",
    "b1.dot(b2), b1.dot(b3), b2.dot(b3), norm(b1), norm(b2), norm(b3)"
   ]
  },
  {
   "cell_type": "markdown",
   "id": "cb31b6cc",
   "metadata": {},
   "source": [
    "*Итог: в случае 'б' базис ортонормирован, а в случае 'в' не образуется ортонормированный базис*"
   ]
  }
 ],
 "metadata": {
  "kernelspec": {
   "display_name": "Python 3 (ipykernel)",
   "language": "python",
   "name": "python3"
  },
  "language_info": {
   "codemirror_mode": {
    "name": "ipython",
    "version": 3
   },
   "file_extension": ".py",
   "mimetype": "text/x-python",
   "name": "python",
   "nbconvert_exporter": "python",
   "pygments_lexer": "ipython3",
   "version": "3.9.12"
  }
 },
 "nbformat": 4,
 "nbformat_minor": 5
}
